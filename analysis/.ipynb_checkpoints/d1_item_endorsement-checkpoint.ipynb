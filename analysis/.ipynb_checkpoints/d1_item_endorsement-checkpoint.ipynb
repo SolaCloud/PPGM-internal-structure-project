{
 "cells": [
  {
   "cell_type": "code",
   "execution_count": 1,
   "id": "dd8988dd-34f1-45f3-8603-ecade65c1b48",
   "metadata": {},
   "outputs": [
    {
     "name": "stderr",
     "output_type": "stream",
     "text": [
      "Warning message:\n",
      "\"package 'dplyr' was built under R version 4.2.3\"\n",
      "\n",
      "Attaching package: 'dplyr'\n",
      "\n",
      "\n",
      "The following objects are masked from 'package:stats':\n",
      "\n",
      "    filter, lag\n",
      "\n",
      "\n",
      "The following objects are masked from 'package:base':\n",
      "\n",
      "    intersect, setdiff, setequal, union\n",
      "\n",
      "\n"
     ]
    },
    {
     "data": {
      "text/html": [
       "<table class=\"dataframe\">\n",
       "<caption>A data.frame: 2 × 14</caption>\n",
       "<thead>\n",
       "\t<tr><th></th><th scope=col>PPGM_1</th><th scope=col>PPGM_2</th><th scope=col>PPGM_3</th><th scope=col>PPGM_4</th><th scope=col>PPGM_5</th><th scope=col>PPGM_6</th><th scope=col>PPGM_7</th><th scope=col>PPGM_8</th><th scope=col>PPGM_9</th><th scope=col>PPGM_10</th><th scope=col>PPGM_11</th><th scope=col>PPGM_12</th><th scope=col>PPGM_13</th><th scope=col>PPGM_14</th></tr>\n",
       "\t<tr><th></th><th scope=col>&lt;int&gt;</th><th scope=col>&lt;int&gt;</th><th scope=col>&lt;int&gt;</th><th scope=col>&lt;int&gt;</th><th scope=col>&lt;int&gt;</th><th scope=col>&lt;int&gt;</th><th scope=col>&lt;int&gt;</th><th scope=col>&lt;int&gt;</th><th scope=col>&lt;int&gt;</th><th scope=col>&lt;int&gt;</th><th scope=col>&lt;int&gt;</th><th scope=col>&lt;int&gt;</th><th scope=col>&lt;int&gt;</th><th scope=col>&lt;int&gt;</th></tr>\n",
       "</thead>\n",
       "<tbody>\n",
       "\t<tr><th scope=row>1</th><td>0</td><td>0</td><td>0</td><td>0</td><td>0</td><td>0</td><td>0</td><td>0</td><td>0</td><td>0</td><td>0</td><td>0</td><td>0</td><td>0</td></tr>\n",
       "\t<tr><th scope=row>2</th><td>0</td><td>0</td><td>0</td><td>0</td><td>0</td><td>0</td><td>0</td><td>0</td><td>0</td><td>0</td><td>0</td><td>0</td><td>0</td><td>0</td></tr>\n",
       "</tbody>\n",
       "</table>\n"
      ],
      "text/latex": [
       "A data.frame: 2 × 14\n",
       "\\begin{tabular}{r|llllllllllllll}\n",
       "  & PPGM\\_1 & PPGM\\_2 & PPGM\\_3 & PPGM\\_4 & PPGM\\_5 & PPGM\\_6 & PPGM\\_7 & PPGM\\_8 & PPGM\\_9 & PPGM\\_10 & PPGM\\_11 & PPGM\\_12 & PPGM\\_13 & PPGM\\_14\\\\\n",
       "  & <int> & <int> & <int> & <int> & <int> & <int> & <int> & <int> & <int> & <int> & <int> & <int> & <int> & <int>\\\\\n",
       "\\hline\n",
       "\t1 & 0 & 0 & 0 & 0 & 0 & 0 & 0 & 0 & 0 & 0 & 0 & 0 & 0 & 0\\\\\n",
       "\t2 & 0 & 0 & 0 & 0 & 0 & 0 & 0 & 0 & 0 & 0 & 0 & 0 & 0 & 0\\\\\n",
       "\\end{tabular}\n"
      ],
      "text/markdown": [
       "\n",
       "A data.frame: 2 × 14\n",
       "\n",
       "| <!--/--> | PPGM_1 &lt;int&gt; | PPGM_2 &lt;int&gt; | PPGM_3 &lt;int&gt; | PPGM_4 &lt;int&gt; | PPGM_5 &lt;int&gt; | PPGM_6 &lt;int&gt; | PPGM_7 &lt;int&gt; | PPGM_8 &lt;int&gt; | PPGM_9 &lt;int&gt; | PPGM_10 &lt;int&gt; | PPGM_11 &lt;int&gt; | PPGM_12 &lt;int&gt; | PPGM_13 &lt;int&gt; | PPGM_14 &lt;int&gt; |\n",
       "|---|---|---|---|---|---|---|---|---|---|---|---|---|---|---|\n",
       "| 1 | 0 | 0 | 0 | 0 | 0 | 0 | 0 | 0 | 0 | 0 | 0 | 0 | 0 | 0 |\n",
       "| 2 | 0 | 0 | 0 | 0 | 0 | 0 | 0 | 0 | 0 | 0 | 0 | 0 | 0 | 0 |\n",
       "\n"
      ],
      "text/plain": [
       "  PPGM_1 PPGM_2 PPGM_3 PPGM_4 PPGM_5 PPGM_6 PPGM_7 PPGM_8 PPGM_9 PPGM_10\n",
       "1 0      0      0      0      0      0      0      0      0      0      \n",
       "2 0      0      0      0      0      0      0      0      0      0      \n",
       "  PPGM_11 PPGM_12 PPGM_13 PPGM_14\n",
       "1 0       0       0       0      \n",
       "2 0       0       0       0      "
      ]
     },
     "metadata": {},
     "output_type": "display_data"
    },
    {
     "data": {
      "text/html": [
       "<style>\n",
       ".list-inline {list-style: none; margin:0; padding: 0}\n",
       ".list-inline>li {display: inline-block}\n",
       ".list-inline>li:not(:last-child)::after {content: \"\\00b7\"; padding: 0 .5ex}\n",
       "</style>\n",
       "<ol class=list-inline><li>3218</li><li>14</li></ol>\n"
      ],
      "text/latex": [
       "\\begin{enumerate*}\n",
       "\\item 3218\n",
       "\\item 14\n",
       "\\end{enumerate*}\n"
      ],
      "text/markdown": [
       "1. 3218\n",
       "2. 14\n",
       "\n",
       "\n"
      ],
      "text/plain": [
       "[1] 3218   14"
      ]
     },
     "metadata": {},
     "output_type": "display_data"
    },
    {
     "data": {
      "text/html": [
       "<table class=\"dataframe\">\n",
       "<caption>A data.frame: 14 × 3</caption>\n",
       "<thead>\n",
       "\t<tr><th scope=col>items</th><th scope=col>endorse_rate</th><th scope=col>order</th></tr>\n",
       "\t<tr><th scope=col>&lt;chr&gt;</th><th scope=col>&lt;dbl&gt;</th><th scope=col>&lt;int&gt;</th></tr>\n",
       "</thead>\n",
       "<tbody>\n",
       "\t<tr><td>PPGM_1 </td><td>0.013</td><td> 1</td></tr>\n",
       "\t<tr><td>PPGM_2 </td><td>0.019</td><td> 2</td></tr>\n",
       "\t<tr><td>PPGM_3 </td><td>0.007</td><td> 3</td></tr>\n",
       "\t<tr><td>PPGM_4 </td><td>0.004</td><td> 4</td></tr>\n",
       "\t<tr><td>PPGM_5 </td><td>0.005</td><td> 5</td></tr>\n",
       "\t<tr><td>PPGM_6 </td><td>0.002</td><td> 6</td></tr>\n",
       "\t<tr><td>PPGM_7 </td><td>0.021</td><td> 7</td></tr>\n",
       "\t<tr><td>PPGM_8 </td><td>0.043</td><td> 8</td></tr>\n",
       "\t<tr><td>PPGM_9 </td><td>0.037</td><td> 9</td></tr>\n",
       "\t<tr><td>PPGM_10</td><td>0.039</td><td>10</td></tr>\n",
       "\t<tr><td>PPGM_11</td><td>0.052</td><td>11</td></tr>\n",
       "\t<tr><td>PPGM_12</td><td>0.102</td><td>12</td></tr>\n",
       "\t<tr><td>PPGM_13</td><td>0.015</td><td>13</td></tr>\n",
       "\t<tr><td>PPGM_14</td><td>0.012</td><td>14</td></tr>\n",
       "</tbody>\n",
       "</table>\n"
      ],
      "text/latex": [
       "A data.frame: 14 × 3\n",
       "\\begin{tabular}{lll}\n",
       " items & endorse\\_rate & order\\\\\n",
       " <chr> & <dbl> & <int>\\\\\n",
       "\\hline\n",
       "\t PPGM\\_1  & 0.013 &  1\\\\\n",
       "\t PPGM\\_2  & 0.019 &  2\\\\\n",
       "\t PPGM\\_3  & 0.007 &  3\\\\\n",
       "\t PPGM\\_4  & 0.004 &  4\\\\\n",
       "\t PPGM\\_5  & 0.005 &  5\\\\\n",
       "\t PPGM\\_6  & 0.002 &  6\\\\\n",
       "\t PPGM\\_7  & 0.021 &  7\\\\\n",
       "\t PPGM\\_8  & 0.043 &  8\\\\\n",
       "\t PPGM\\_9  & 0.037 &  9\\\\\n",
       "\t PPGM\\_10 & 0.039 & 10\\\\\n",
       "\t PPGM\\_11 & 0.052 & 11\\\\\n",
       "\t PPGM\\_12 & 0.102 & 12\\\\\n",
       "\t PPGM\\_13 & 0.015 & 13\\\\\n",
       "\t PPGM\\_14 & 0.012 & 14\\\\\n",
       "\\end{tabular}\n"
      ],
      "text/markdown": [
       "\n",
       "A data.frame: 14 × 3\n",
       "\n",
       "| items &lt;chr&gt; | endorse_rate &lt;dbl&gt; | order &lt;int&gt; |\n",
       "|---|---|---|\n",
       "| PPGM_1  | 0.013 |  1 |\n",
       "| PPGM_2  | 0.019 |  2 |\n",
       "| PPGM_3  | 0.007 |  3 |\n",
       "| PPGM_4  | 0.004 |  4 |\n",
       "| PPGM_5  | 0.005 |  5 |\n",
       "| PPGM_6  | 0.002 |  6 |\n",
       "| PPGM_7  | 0.021 |  7 |\n",
       "| PPGM_8  | 0.043 |  8 |\n",
       "| PPGM_9  | 0.037 |  9 |\n",
       "| PPGM_10 | 0.039 | 10 |\n",
       "| PPGM_11 | 0.052 | 11 |\n",
       "| PPGM_12 | 0.102 | 12 |\n",
       "| PPGM_13 | 0.015 | 13 |\n",
       "| PPGM_14 | 0.012 | 14 |\n",
       "\n"
      ],
      "text/plain": [
       "   items   endorse_rate order\n",
       "1  PPGM_1  0.013         1   \n",
       "2  PPGM_2  0.019         2   \n",
       "3  PPGM_3  0.007         3   \n",
       "4  PPGM_4  0.004         4   \n",
       "5  PPGM_5  0.005         5   \n",
       "6  PPGM_6  0.002         6   \n",
       "7  PPGM_7  0.021         7   \n",
       "8  PPGM_8  0.043         8   \n",
       "9  PPGM_9  0.037         9   \n",
       "10 PPGM_10 0.039        10   \n",
       "11 PPGM_11 0.052        11   \n",
       "12 PPGM_12 0.102        12   \n",
       "13 PPGM_13 0.015        13   \n",
       "14 PPGM_14 0.012        14   "
      ]
     },
     "metadata": {},
     "output_type": "display_data"
    }
   ],
   "source": [
    "library(dplyr)\n",
    "ppgm_df_csv = read.csv( '../output/data_cleaned/ppgm_2016.csv', row = 1) \n",
    "dat = ppgm_df_csv %>% select(-subjectkey)\n",
    "head(dat,2)\n",
    "dim(dat)\n",
    "\n",
    "endorse_rate = round(colSums(dat)/nrow(dat),3)\n",
    "df_1 = as.data.frame(endorse_rate) %>% tibble::rownames_to_column('items') %>% mutate(order = seq(1,14))\n",
    "df_1"
   ]
  },
  {
   "cell_type": "code",
   "execution_count": 2,
   "id": "7346b891-3d27-4c91-b48b-20a03f3cd9d7",
   "metadata": {},
   "outputs": [
    {
     "data": {
      "text/html": [
       "<table class=\"dataframe\">\n",
       "<caption>A data.frame: 2 × 14</caption>\n",
       "<thead>\n",
       "\t<tr><th></th><th scope=col>PPGM_1</th><th scope=col>PPGM_2</th><th scope=col>PPGM_3</th><th scope=col>PPGM_4</th><th scope=col>PPGM_5</th><th scope=col>PPGM_6</th><th scope=col>PPGM_7</th><th scope=col>PPGM_8</th><th scope=col>PPGM_9</th><th scope=col>PPGM_10</th><th scope=col>PPGM_11</th><th scope=col>PPGM_12</th><th scope=col>PPGM_13</th><th scope=col>PPGM_14</th></tr>\n",
       "\t<tr><th></th><th scope=col>&lt;int&gt;</th><th scope=col>&lt;int&gt;</th><th scope=col>&lt;int&gt;</th><th scope=col>&lt;int&gt;</th><th scope=col>&lt;int&gt;</th><th scope=col>&lt;int&gt;</th><th scope=col>&lt;int&gt;</th><th scope=col>&lt;int&gt;</th><th scope=col>&lt;int&gt;</th><th scope=col>&lt;int&gt;</th><th scope=col>&lt;int&gt;</th><th scope=col>&lt;int&gt;</th><th scope=col>&lt;int&gt;</th><th scope=col>&lt;int&gt;</th></tr>\n",
       "</thead>\n",
       "<tbody>\n",
       "\t<tr><th scope=row>2</th><td>0</td><td>0</td><td>0</td><td>0</td><td>0</td><td>0</td><td>0</td><td>0</td><td>0</td><td>0</td><td>0</td><td>0</td><td>0</td><td>0</td></tr>\n",
       "\t<tr><th scope=row>4</th><td>0</td><td>0</td><td>0</td><td>0</td><td>0</td><td>0</td><td>0</td><td>0</td><td>0</td><td>0</td><td>0</td><td>0</td><td>0</td><td>0</td></tr>\n",
       "</tbody>\n",
       "</table>\n"
      ],
      "text/latex": [
       "A data.frame: 2 × 14\n",
       "\\begin{tabular}{r|llllllllllllll}\n",
       "  & PPGM\\_1 & PPGM\\_2 & PPGM\\_3 & PPGM\\_4 & PPGM\\_5 & PPGM\\_6 & PPGM\\_7 & PPGM\\_8 & PPGM\\_9 & PPGM\\_10 & PPGM\\_11 & PPGM\\_12 & PPGM\\_13 & PPGM\\_14\\\\\n",
       "  & <int> & <int> & <int> & <int> & <int> & <int> & <int> & <int> & <int> & <int> & <int> & <int> & <int> & <int>\\\\\n",
       "\\hline\n",
       "\t2 & 0 & 0 & 0 & 0 & 0 & 0 & 0 & 0 & 0 & 0 & 0 & 0 & 0 & 0\\\\\n",
       "\t4 & 0 & 0 & 0 & 0 & 0 & 0 & 0 & 0 & 0 & 0 & 0 & 0 & 0 & 0\\\\\n",
       "\\end{tabular}\n"
      ],
      "text/markdown": [
       "\n",
       "A data.frame: 2 × 14\n",
       "\n",
       "| <!--/--> | PPGM_1 &lt;int&gt; | PPGM_2 &lt;int&gt; | PPGM_3 &lt;int&gt; | PPGM_4 &lt;int&gt; | PPGM_5 &lt;int&gt; | PPGM_6 &lt;int&gt; | PPGM_7 &lt;int&gt; | PPGM_8 &lt;int&gt; | PPGM_9 &lt;int&gt; | PPGM_10 &lt;int&gt; | PPGM_11 &lt;int&gt; | PPGM_12 &lt;int&gt; | PPGM_13 &lt;int&gt; | PPGM_14 &lt;int&gt; |\n",
       "|---|---|---|---|---|---|---|---|---|---|---|---|---|---|---|\n",
       "| 2 | 0 | 0 | 0 | 0 | 0 | 0 | 0 | 0 | 0 | 0 | 0 | 0 | 0 | 0 |\n",
       "| 4 | 0 | 0 | 0 | 0 | 0 | 0 | 0 | 0 | 0 | 0 | 0 | 0 | 0 | 0 |\n",
       "\n"
      ],
      "text/plain": [
       "  PPGM_1 PPGM_2 PPGM_3 PPGM_4 PPGM_5 PPGM_6 PPGM_7 PPGM_8 PPGM_9 PPGM_10\n",
       "2 0      0      0      0      0      0      0      0      0      0      \n",
       "4 0      0      0      0      0      0      0      0      0      0      \n",
       "  PPGM_11 PPGM_12 PPGM_13 PPGM_14\n",
       "2 0       0       0       0      \n",
       "4 0       0       0       0      "
      ]
     },
     "metadata": {},
     "output_type": "display_data"
    },
    {
     "data": {
      "text/html": [
       "<style>\n",
       ".list-inline {list-style: none; margin:0; padding: 0}\n",
       ".list-inline>li {display: inline-block}\n",
       ".list-inline>li:not(:last-child)::after {content: \"\\00b7\"; padding: 0 .5ex}\n",
       "</style>\n",
       "<ol class=list-inline><li>1250</li><li>14</li></ol>\n"
      ],
      "text/latex": [
       "\\begin{enumerate*}\n",
       "\\item 1250\n",
       "\\item 14\n",
       "\\end{enumerate*}\n"
      ],
      "text/markdown": [
       "1. 1250\n",
       "2. 14\n",
       "\n",
       "\n"
      ],
      "text/plain": [
       "[1] 1250   14"
      ]
     },
     "metadata": {},
     "output_type": "display_data"
    },
    {
     "data": {
      "text/html": [
       "<table class=\"dataframe\">\n",
       "<caption>A data.frame: 14 × 2</caption>\n",
       "<thead>\n",
       "\t<tr><th scope=col>items</th><th scope=col>endorse_rate</th></tr>\n",
       "\t<tr><th scope=col>&lt;chr&gt;</th><th scope=col>&lt;dbl&gt;</th></tr>\n",
       "</thead>\n",
       "<tbody>\n",
       "\t<tr><td>PPGM_1 </td><td>0.007</td></tr>\n",
       "\t<tr><td>PPGM_2 </td><td>0.010</td></tr>\n",
       "\t<tr><td>PPGM_3 </td><td>0.004</td></tr>\n",
       "\t<tr><td>PPGM_4 </td><td>0.002</td></tr>\n",
       "\t<tr><td>PPGM_5 </td><td>0.002</td></tr>\n",
       "\t<tr><td>PPGM_6 </td><td>0.001</td></tr>\n",
       "\t<tr><td>PPGM_7 </td><td>0.018</td></tr>\n",
       "\t<tr><td>PPGM_8 </td><td>0.038</td></tr>\n",
       "\t<tr><td>PPGM_9 </td><td>0.033</td></tr>\n",
       "\t<tr><td>PPGM_10</td><td>0.036</td></tr>\n",
       "\t<tr><td>PPGM_11</td><td>0.041</td></tr>\n",
       "\t<tr><td>PPGM_12</td><td>0.091</td></tr>\n",
       "\t<tr><td>PPGM_13</td><td>0.012</td></tr>\n",
       "\t<tr><td>PPGM_14</td><td>0.010</td></tr>\n",
       "</tbody>\n",
       "</table>\n"
      ],
      "text/latex": [
       "A data.frame: 14 × 2\n",
       "\\begin{tabular}{ll}\n",
       " items & endorse\\_rate\\\\\n",
       " <chr> & <dbl>\\\\\n",
       "\\hline\n",
       "\t PPGM\\_1  & 0.007\\\\\n",
       "\t PPGM\\_2  & 0.010\\\\\n",
       "\t PPGM\\_3  & 0.004\\\\\n",
       "\t PPGM\\_4  & 0.002\\\\\n",
       "\t PPGM\\_5  & 0.002\\\\\n",
       "\t PPGM\\_6  & 0.001\\\\\n",
       "\t PPGM\\_7  & 0.018\\\\\n",
       "\t PPGM\\_8  & 0.038\\\\\n",
       "\t PPGM\\_9  & 0.033\\\\\n",
       "\t PPGM\\_10 & 0.036\\\\\n",
       "\t PPGM\\_11 & 0.041\\\\\n",
       "\t PPGM\\_12 & 0.091\\\\\n",
       "\t PPGM\\_13 & 0.012\\\\\n",
       "\t PPGM\\_14 & 0.010\\\\\n",
       "\\end{tabular}\n"
      ],
      "text/markdown": [
       "\n",
       "A data.frame: 14 × 2\n",
       "\n",
       "| items &lt;chr&gt; | endorse_rate &lt;dbl&gt; |\n",
       "|---|---|\n",
       "| PPGM_1  | 0.007 |\n",
       "| PPGM_2  | 0.010 |\n",
       "| PPGM_3  | 0.004 |\n",
       "| PPGM_4  | 0.002 |\n",
       "| PPGM_5  | 0.002 |\n",
       "| PPGM_6  | 0.001 |\n",
       "| PPGM_7  | 0.018 |\n",
       "| PPGM_8  | 0.038 |\n",
       "| PPGM_9  | 0.033 |\n",
       "| PPGM_10 | 0.036 |\n",
       "| PPGM_11 | 0.041 |\n",
       "| PPGM_12 | 0.091 |\n",
       "| PPGM_13 | 0.012 |\n",
       "| PPGM_14 | 0.010 |\n",
       "\n"
      ],
      "text/plain": [
       "   items   endorse_rate\n",
       "1  PPGM_1  0.007       \n",
       "2  PPGM_2  0.010       \n",
       "3  PPGM_3  0.004       \n",
       "4  PPGM_4  0.002       \n",
       "5  PPGM_5  0.002       \n",
       "6  PPGM_6  0.001       \n",
       "7  PPGM_7  0.018       \n",
       "8  PPGM_8  0.038       \n",
       "9  PPGM_9  0.033       \n",
       "10 PPGM_10 0.036       \n",
       "11 PPGM_11 0.041       \n",
       "12 PPGM_12 0.091       \n",
       "13 PPGM_13 0.012       \n",
       "14 PPGM_14 0.010       "
      ]
     },
     "metadata": {},
     "output_type": "display_data"
    }
   ],
   "source": [
    "ppgm_df_csv = read.csv( '../output/data_cleaned/ppgm_2017.csv', row = 1)\n",
    "dat = ppgm_df_csv %>% select(-subjectkey)\n",
    "head(dat,2)\n",
    "dim(dat)\n",
    "\n",
    "endorse_rate = round(colSums(dat)/nrow(dat),3)\n",
    "df_2 = as.data.frame(endorse_rate) %>% tibble::rownames_to_column('items') \n",
    "df_2"
   ]
  },
  {
   "cell_type": "code",
   "execution_count": 3,
   "id": "6adc0341-6be5-48b0-a35c-63a2bdd09f00",
   "metadata": {},
   "outputs": [
    {
     "data": {
      "text/html": [
       "<table class=\"dataframe\">\n",
       "<caption>A data.frame: 14 × 5</caption>\n",
       "<thead>\n",
       "\t<tr><th scope=col>items</th><th scope=col>abbrev</th><th scope=col>contents</th><th scope=col>endorse_rate_w1</th><th scope=col>endorse_rate_w2</th></tr>\n",
       "\t<tr><th scope=col>&lt;chr&gt;</th><th scope=col>&lt;chr&gt;</th><th scope=col>&lt;chr&gt;</th><th scope=col>&lt;dbl&gt;</th><th scope=col>&lt;dbl&gt;</th></tr>\n",
       "</thead>\n",
       "<tbody>\n",
       "\t<tr><td>PPGM_1 </td><td>H1fin</td><td>financial concerns         </td><td>0.013</td><td>0.007</td></tr>\n",
       "\t<tr><td>PPGM_2 </td><td>H2emo</td><td>mental stress              </td><td>0.019</td><td>0.010</td></tr>\n",
       "\t<tr><td>PPGM_3 </td><td>H3rel</td><td>relationship issues        </td><td>0.007</td><td>0.004</td></tr>\n",
       "\t<tr><td>PPGM_4 </td><td>H4hea</td><td>health problems            </td><td>0.004</td><td>0.002</td></tr>\n",
       "\t<tr><td>PPGM_5 </td><td>H5wor</td><td>work or school problems    </td><td>0.005</td><td>0.002</td></tr>\n",
       "\t<tr><td>PPGM_6 </td><td>H6law</td><td>illegal acts               </td><td>0.002</td><td>0.001</td></tr>\n",
       "\t<tr><td>PPGM_7 </td><td>H7oth</td><td>others see harms           </td><td>0.021</td><td>0.018</td></tr>\n",
       "\t<tr><td>PPGM_8 </td><td>I1lim</td><td>excessive gambling         </td><td>0.043</td><td>0.038</td></tr>\n",
       "\t<tr><td>PPGM_9 </td><td>I2cha</td><td>chasing losses             </td><td>0.037</td><td>0.033</td></tr>\n",
       "\t<tr><td>PPGM_10</td><td>I3imp</td><td>failed control attempts    </td><td>0.039</td><td>0.036</td></tr>\n",
       "\t<tr><td>PPGM_11</td><td>I4oth</td><td>others see impaired control</td><td>0.052</td><td>0.041</td></tr>\n",
       "\t<tr><td>PPGM_12</td><td>A1pre</td><td>preoccupation              </td><td>0.102</td><td>0.091</td></tr>\n",
       "\t<tr><td>PPGM_13</td><td>A2wit</td><td>withdrawal                 </td><td>0.015</td><td>0.012</td></tr>\n",
       "\t<tr><td>PPGM_14</td><td>A3tol</td><td>tolerance                  </td><td>0.012</td><td>0.010</td></tr>\n",
       "</tbody>\n",
       "</table>\n"
      ],
      "text/latex": [
       "A data.frame: 14 × 5\n",
       "\\begin{tabular}{lllll}\n",
       " items & abbrev & contents & endorse\\_rate\\_w1 & endorse\\_rate\\_w2\\\\\n",
       " <chr> & <chr> & <chr> & <dbl> & <dbl>\\\\\n",
       "\\hline\n",
       "\t PPGM\\_1  & H1fin & financial concerns          & 0.013 & 0.007\\\\\n",
       "\t PPGM\\_2  & H2emo & mental stress               & 0.019 & 0.010\\\\\n",
       "\t PPGM\\_3  & H3rel & relationship issues         & 0.007 & 0.004\\\\\n",
       "\t PPGM\\_4  & H4hea & health problems             & 0.004 & 0.002\\\\\n",
       "\t PPGM\\_5  & H5wor & work or school problems     & 0.005 & 0.002\\\\\n",
       "\t PPGM\\_6  & H6law & illegal acts                & 0.002 & 0.001\\\\\n",
       "\t PPGM\\_7  & H7oth & others see harms            & 0.021 & 0.018\\\\\n",
       "\t PPGM\\_8  & I1lim & excessive gambling          & 0.043 & 0.038\\\\\n",
       "\t PPGM\\_9  & I2cha & chasing losses              & 0.037 & 0.033\\\\\n",
       "\t PPGM\\_10 & I3imp & failed control attempts     & 0.039 & 0.036\\\\\n",
       "\t PPGM\\_11 & I4oth & others see impaired control & 0.052 & 0.041\\\\\n",
       "\t PPGM\\_12 & A1pre & preoccupation               & 0.102 & 0.091\\\\\n",
       "\t PPGM\\_13 & A2wit & withdrawal                  & 0.015 & 0.012\\\\\n",
       "\t PPGM\\_14 & A3tol & tolerance                   & 0.012 & 0.010\\\\\n",
       "\\end{tabular}\n"
      ],
      "text/markdown": [
       "\n",
       "A data.frame: 14 × 5\n",
       "\n",
       "| items &lt;chr&gt; | abbrev &lt;chr&gt; | contents &lt;chr&gt; | endorse_rate_w1 &lt;dbl&gt; | endorse_rate_w2 &lt;dbl&gt; |\n",
       "|---|---|---|---|---|\n",
       "| PPGM_1  | H1fin | financial concerns          | 0.013 | 0.007 |\n",
       "| PPGM_2  | H2emo | mental stress               | 0.019 | 0.010 |\n",
       "| PPGM_3  | H3rel | relationship issues         | 0.007 | 0.004 |\n",
       "| PPGM_4  | H4hea | health problems             | 0.004 | 0.002 |\n",
       "| PPGM_5  | H5wor | work or school problems     | 0.005 | 0.002 |\n",
       "| PPGM_6  | H6law | illegal acts                | 0.002 | 0.001 |\n",
       "| PPGM_7  | H7oth | others see harms            | 0.021 | 0.018 |\n",
       "| PPGM_8  | I1lim | excessive gambling          | 0.043 | 0.038 |\n",
       "| PPGM_9  | I2cha | chasing losses              | 0.037 | 0.033 |\n",
       "| PPGM_10 | I3imp | failed control attempts     | 0.039 | 0.036 |\n",
       "| PPGM_11 | I4oth | others see impaired control | 0.052 | 0.041 |\n",
       "| PPGM_12 | A1pre | preoccupation               | 0.102 | 0.091 |\n",
       "| PPGM_13 | A2wit | withdrawal                  | 0.015 | 0.012 |\n",
       "| PPGM_14 | A3tol | tolerance                   | 0.012 | 0.010 |\n",
       "\n"
      ],
      "text/plain": [
       "   items   abbrev contents                    endorse_rate_w1 endorse_rate_w2\n",
       "1  PPGM_1  H1fin  financial concerns          0.013           0.007          \n",
       "2  PPGM_2  H2emo  mental stress               0.019           0.010          \n",
       "3  PPGM_3  H3rel  relationship issues         0.007           0.004          \n",
       "4  PPGM_4  H4hea  health problems             0.004           0.002          \n",
       "5  PPGM_5  H5wor  work or school problems     0.005           0.002          \n",
       "6  PPGM_6  H6law  illegal acts                0.002           0.001          \n",
       "7  PPGM_7  H7oth  others see harms            0.021           0.018          \n",
       "8  PPGM_8  I1lim  excessive gambling          0.043           0.038          \n",
       "9  PPGM_9  I2cha  chasing losses              0.037           0.033          \n",
       "10 PPGM_10 I3imp  failed control attempts     0.039           0.036          \n",
       "11 PPGM_11 I4oth  others see impaired control 0.052           0.041          \n",
       "12 PPGM_12 A1pre  preoccupation               0.102           0.091          \n",
       "13 PPGM_13 A2wit  withdrawal                  0.015           0.012          \n",
       "14 PPGM_14 A3tol  tolerance                   0.012           0.010          "
      ]
     },
     "metadata": {},
     "output_type": "display_data"
    }
   ],
   "source": [
    "df_both = merge(df_1, df_2, by = 'items', suffixes = c('_w1','_w2')) %>% arrange(order) %>% select(-order)\n",
    "df_both$abbrev = c('H1fin', 'H2emo','H3rel','H4hea','H5wor','H6law','H7oth','I1lim','I2cha','I3imp','I4oth','A1pre','A2wit','A3tol')\n",
    "df_both$contents = c('financial concerns','mental stress','relationship issues','health problems',\n",
    "                        'work or school problems','illegal acts','others see harms','excessive gambling',\n",
    "                        'chasing losses','failed control attempts','others see impaired control',\n",
    "                        'preoccupation','withdrawal','tolerance')\n",
    "df_both = df_both %>% select(items, abbrev, contents, endorse_rate_w1, endorse_rate_w2)\n",
    "df_both\n",
    "write.csv(df_both, '../output/tables/endorsement/endorsement_rate_bothwaves.csv')"
   ]
  },
  {
   "cell_type": "code",
   "execution_count": null,
   "id": "12ebd404-6904-4a68-a3ac-3076c2d56e4b",
   "metadata": {},
   "outputs": [],
   "source": []
  }
 ],
 "metadata": {
  "kernelspec": {
   "display_name": "R",
   "language": "R",
   "name": "ir"
  },
  "language_info": {
   "codemirror_mode": "r",
   "file_extension": ".r",
   "mimetype": "text/x-r-source",
   "name": "R",
   "pygments_lexer": "r",
   "version": "4.2.2"
  }
 },
 "nbformat": 4,
 "nbformat_minor": 5
}
