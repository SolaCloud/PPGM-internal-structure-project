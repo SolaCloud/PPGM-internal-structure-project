{
 "cells": [
  {
   "cell_type": "markdown",
   "id": "cc8d6a85-05a7-4543-b733-4e1e627bf345",
   "metadata": {},
   "source": [
    "# wave 1"
   ]
  },
  {
   "cell_type": "code",
   "execution_count": 9,
   "id": "26241f2b-be4e-4173-9f49-a3bf64e3ec39",
   "metadata": {},
   "outputs": [
    {
     "data": {
      "text/html": [
       "<table class=\"dataframe\">\n",
       "<caption>A data.frame: 2 × 14</caption>\n",
       "<thead>\n",
       "\t<tr><th></th><th scope=col>PPGM_1</th><th scope=col>PPGM_2</th><th scope=col>PPGM_3</th><th scope=col>PPGM_4</th><th scope=col>PPGM_5</th><th scope=col>PPGM_6</th><th scope=col>PPGM_7</th><th scope=col>PPGM_8</th><th scope=col>PPGM_9</th><th scope=col>PPGM_10</th><th scope=col>PPGM_11</th><th scope=col>PPGM_12</th><th scope=col>PPGM_13</th><th scope=col>PPGM_14</th></tr>\n",
       "\t<tr><th></th><th scope=col>&lt;int&gt;</th><th scope=col>&lt;int&gt;</th><th scope=col>&lt;int&gt;</th><th scope=col>&lt;int&gt;</th><th scope=col>&lt;int&gt;</th><th scope=col>&lt;int&gt;</th><th scope=col>&lt;int&gt;</th><th scope=col>&lt;int&gt;</th><th scope=col>&lt;int&gt;</th><th scope=col>&lt;int&gt;</th><th scope=col>&lt;int&gt;</th><th scope=col>&lt;int&gt;</th><th scope=col>&lt;int&gt;</th><th scope=col>&lt;int&gt;</th></tr>\n",
       "</thead>\n",
       "<tbody>\n",
       "\t<tr><th scope=row>1</th><td>0</td><td>0</td><td>0</td><td>0</td><td>0</td><td>0</td><td>0</td><td>0</td><td>0</td><td>0</td><td>0</td><td>0</td><td>0</td><td>0</td></tr>\n",
       "\t<tr><th scope=row>2</th><td>0</td><td>0</td><td>0</td><td>0</td><td>0</td><td>0</td><td>0</td><td>0</td><td>0</td><td>0</td><td>0</td><td>0</td><td>0</td><td>0</td></tr>\n",
       "</tbody>\n",
       "</table>\n"
      ],
      "text/latex": [
       "A data.frame: 2 × 14\n",
       "\\begin{tabular}{r|llllllllllllll}\n",
       "  & PPGM\\_1 & PPGM\\_2 & PPGM\\_3 & PPGM\\_4 & PPGM\\_5 & PPGM\\_6 & PPGM\\_7 & PPGM\\_8 & PPGM\\_9 & PPGM\\_10 & PPGM\\_11 & PPGM\\_12 & PPGM\\_13 & PPGM\\_14\\\\\n",
       "  & <int> & <int> & <int> & <int> & <int> & <int> & <int> & <int> & <int> & <int> & <int> & <int> & <int> & <int>\\\\\n",
       "\\hline\n",
       "\t1 & 0 & 0 & 0 & 0 & 0 & 0 & 0 & 0 & 0 & 0 & 0 & 0 & 0 & 0\\\\\n",
       "\t2 & 0 & 0 & 0 & 0 & 0 & 0 & 0 & 0 & 0 & 0 & 0 & 0 & 0 & 0\\\\\n",
       "\\end{tabular}\n"
      ],
      "text/markdown": [
       "\n",
       "A data.frame: 2 × 14\n",
       "\n",
       "| <!--/--> | PPGM_1 &lt;int&gt; | PPGM_2 &lt;int&gt; | PPGM_3 &lt;int&gt; | PPGM_4 &lt;int&gt; | PPGM_5 &lt;int&gt; | PPGM_6 &lt;int&gt; | PPGM_7 &lt;int&gt; | PPGM_8 &lt;int&gt; | PPGM_9 &lt;int&gt; | PPGM_10 &lt;int&gt; | PPGM_11 &lt;int&gt; | PPGM_12 &lt;int&gt; | PPGM_13 &lt;int&gt; | PPGM_14 &lt;int&gt; |\n",
       "|---|---|---|---|---|---|---|---|---|---|---|---|---|---|---|\n",
       "| 1 | 0 | 0 | 0 | 0 | 0 | 0 | 0 | 0 | 0 | 0 | 0 | 0 | 0 | 0 |\n",
       "| 2 | 0 | 0 | 0 | 0 | 0 | 0 | 0 | 0 | 0 | 0 | 0 | 0 | 0 | 0 |\n",
       "\n"
      ],
      "text/plain": [
       "  PPGM_1 PPGM_2 PPGM_3 PPGM_4 PPGM_5 PPGM_6 PPGM_7 PPGM_8 PPGM_9 PPGM_10\n",
       "1 0      0      0      0      0      0      0      0      0      0      \n",
       "2 0      0      0      0      0      0      0      0      0      0      \n",
       "  PPGM_11 PPGM_12 PPGM_13 PPGM_14\n",
       "1 0       0       0       0      \n",
       "2 0       0       0       0      "
      ]
     },
     "metadata": {},
     "output_type": "display_data"
    },
    {
     "data": {
      "text/html": [
       "<style>\n",
       ".list-inline {list-style: none; margin:0; padding: 0}\n",
       ".list-inline>li {display: inline-block}\n",
       ".list-inline>li:not(:last-child)::after {content: \"\\00b7\"; padding: 0 .5ex}\n",
       "</style>\n",
       "<ol class=list-inline><li>3218</li><li>14</li></ol>\n"
      ],
      "text/latex": [
       "\\begin{enumerate*}\n",
       "\\item 3218\n",
       "\\item 14\n",
       "\\end{enumerate*}\n"
      ],
      "text/markdown": [
       "1. 3218\n",
       "2. 14\n",
       "\n",
       "\n"
      ],
      "text/plain": [
       "[1] 3218   14"
      ]
     },
     "metadata": {},
     "output_type": "display_data"
    }
   ],
   "source": [
    "library(dplyr)\n",
    "ppgm_df_csv = read.csv( '../output/ppgm_2016.csv', row = 1)\n",
    "\n",
    "dat = ppgm_df_csv %>% select(-subjectkey)\n",
    "head(dat,2)\n",
    "dim(dat)"
   ]
  },
  {
   "cell_type": "code",
   "execution_count": 10,
   "id": "7e1ae27d-b88e-47b4-8f1d-361cae4ba67a",
   "metadata": {},
   "outputs": [],
   "source": [
    "# specify models\n",
    "library(lavaan)\n",
    "# general factor model\n",
    "mod_1 <- \"\n",
    "f1 =~ PPGM_1 + PPGM_2 + PPGM_3 + PPGM_4 + PPGM_5 + PPGM_6 + PPGM_7 + PPGM_8 + PPGM_9 + PPGM_10 + PPGM_11 + PPGM_12 + PPGM_13 + PPGM_14\n",
    "\"\n",
    "\n",
    "# correlated factor model (k=2）\n",
    "mod_2 <- \"\n",
    "f1 =~ PPGM_1 + PPGM_2 + PPGM_3 + PPGM_4 + PPGM_5 + PPGM_6 + PPGM_7\n",
    "f2 =~ PPGM_8 + PPGM_9 + PPGM_10 + PPGM_11 + PPGM_12 + PPGM_13 + PPGM_14\n",
    "f1 ~~ f2\n",
    "\"\n",
    "\n",
    "# correlated factor model (k=3）\n",
    "mod_3 <- \"\n",
    "f1 =~ PPGM_1 + PPGM_2 + PPGM_3 + PPGM_4 + PPGM_5 + PPGM_6 + PPGM_7\n",
    "f2 =~ PPGM_8 + PPGM_9 + PPGM_10 + PPGM_11 \n",
    "f3 =~ PPGM_12 + PPGM_13 + PPGM_14\n",
    "f1 ~~ f2\n",
    "f1 ~~ f3\n",
    "f2 ~~ f3\n",
    "\"\n",
    "\n",
    "mod_bifactor <- \"\n",
    "f1 =~ PPGM_1 + PPGM_2 + PPGM_3 + PPGM_4 + PPGM_5 + PPGM_6 + PPGM_7\n",
    "f2 =~ PPGM_8 + PPGM_9 + PPGM_10 + PPGM_11 + PPGM_12 + PPGM_13 + PPGM_14\n",
    "g =~ PPGM_1 + PPGM_2 + PPGM_3 + PPGM_4 + PPGM_5 + PPGM_6 + PPGM_7 + PPGM_8 + PPGM_9 + PPGM_10 + PPGM_11 + PPGM_12 + PPGM_13 + PPGM_14 \n",
    "g ~~ 0*f1\n",
    "g ~~ 0*f2\n",
    "f1 ~~ 0*f2\n",
    "\n",
    "PPGM_1 ~~ a*PPGM_1\n",
    "PPGM_2 ~~ b*PPGM_2\n",
    "PPGM_3 ~~ c*PPGM_3\n",
    "PPGM_4 ~~ d*PPGM_4\n",
    "PPGM_5 ~~ e*PPGM_5\n",
    "PPGM_6 ~~ f*PPGM_6\n",
    "PPGM_7 ~~ g*PPGM_7\n",
    "PPGM_8 ~~ h*PPGM_8\n",
    "PPGM_9 ~~ i*PPGM_9\n",
    "PPGM_10 ~~ j*PPGM_10\n",
    "PPGM_11 ~~ k*PPGM_11\n",
    "PPGM_12 ~~ l*PPGM_12\n",
    "PPGM_13 ~~ m*PPGM_13\n",
    "PPGM_14 ~~ n*PPGM_14\n",
    "\n",
    "a>0\n",
    "b>0\n",
    "c>0\n",
    "d>0\n",
    "e>0\n",
    "f>0\n",
    "g>0\n",
    "h>0\n",
    "i>0\n",
    "j>0\n",
    "k>0\n",
    "l>0\n",
    "m>0\n",
    "n>0\n",
    "\n",
    "\"\n",
    "\n",
    "mod_2_re <- \"\n",
    "f1 =~ PPGM_1 + PPGM_2 + PPGM_3 + PPGM_4 + PPGM_5 + PPGM_6 + PPGM_7\n",
    "f2 =~ PPGM_8 + PPGM_9 + PPGM_10 + PPGM_11 + PPGM_12 + PPGM_13 + PPGM_14\n",
    "f1 ~~ f2\n",
    "\n",
    "PPGM_7 ~~ PPGM_11\n",
    "\""
   ]
  },
  {
   "cell_type": "code",
   "execution_count": 11,
   "id": "9260bd8b-e7eb-4a0b-b787-0270583a90da",
   "metadata": {},
   "outputs": [
    {
     "name": "stderr",
     "output_type": "stream",
     "text": [
      "Warning message in lav_model_vcov(lavmodel = lavmodel, lavsamplestats = lavsamplestats, :\n",
      "\"lavaan WARNING:\n",
      "    The variance-covariance matrix of the estimated parameters (vcov)\n",
      "    does not appear to be positive definite! The smallest eigenvalue\n",
      "    (= -1.193063e-14) is smaller than zero. This may be a symptom that\n",
      "    the model is not identified.\"\n"
     ]
    }
   ],
   "source": [
    "cfa_1 <- lavaan::cfa(model = mod_1, data=dat, ordered =T, estimator = 'WLSMV')\n",
    "cfa_2 <- lavaan::cfa(model = mod_2, data=dat, ordered =T, estimator = 'WLSMV')\n",
    "cfa_3 <- lavaan::cfa(model = mod_3, data=dat, ordered =T, estimator = 'WLSMV')\n",
    "cfa_bi <- lavaan::cfa(model = mod_bifactor, data=dat, ordered =T, estimator = 'WLSMV',parameterization='theta')\n",
    "\n",
    "cfa_2_re <- lavaan::cfa(model = mod_2_re, data=dat, ordered =T, estimator = 'WLSMV')"
   ]
  },
  {
   "cell_type": "code",
   "execution_count": 12,
   "id": "7e97e88a-1b50-41b9-b975-bb8747221c72",
   "metadata": {},
   "outputs": [
    {
     "data": {
      "text/html": [
       "<table class=\"dataframe\">\n",
       "<caption>A data.frame: 5 × 6</caption>\n",
       "<thead>\n",
       "\t<tr><th></th><th scope=col>npar</th><th scope=col>chisq</th><th scope=col>SRMR</th><th scope=col>RMSEA</th><th scope=col>TLI</th><th scope=col>CFI</th></tr>\n",
       "\t<tr><th></th><th scope=col>&lt;int&gt;</th><th scope=col>&lt;dbl&gt;</th><th scope=col>&lt;dbl&gt;</th><th scope=col>&lt;dbl&gt;</th><th scope=col>&lt;dbl&gt;</th><th scope=col>&lt;dbl&gt;</th></tr>\n",
       "</thead>\n",
       "<tbody>\n",
       "\t<tr><th scope=row>single.factor</th><td>28</td><td>246.157</td><td>0.103</td><td>0.026</td><td>0.978</td><td>0.982</td></tr>\n",
       "\t<tr><th scope=row>two.factor</th><td>29</td><td>192.980</td><td>0.086</td><td>0.023</td><td>0.982</td><td>0.985</td></tr>\n",
       "\t<tr><th scope=row>two.factor.re</th><td>30</td><td>107.285</td><td>0.076</td><td>0.016</td><td>0.992</td><td>0.993</td></tr>\n",
       "\t<tr><th scope=row>bifactor</th><td>56</td><td> 95.841</td><td>0.062</td><td>0.020</td><td>0.986</td><td>0.993</td></tr>\n",
       "\t<tr><th scope=row>three.factor</th><td>31</td><td>176.715</td><td>0.083</td><td>0.023</td><td>0.982</td><td>0.986</td></tr>\n",
       "</tbody>\n",
       "</table>\n"
      ],
      "text/latex": [
       "A data.frame: 5 × 6\n",
       "\\begin{tabular}{r|llllll}\n",
       "  & npar & chisq & SRMR & RMSEA & TLI & CFI\\\\\n",
       "  & <int> & <dbl> & <dbl> & <dbl> & <dbl> & <dbl>\\\\\n",
       "\\hline\n",
       "\tsingle.factor & 28 & 246.157 & 0.103 & 0.026 & 0.978 & 0.982\\\\\n",
       "\ttwo.factor & 29 & 192.980 & 0.086 & 0.023 & 0.982 & 0.985\\\\\n",
       "\ttwo.factor.re & 30 & 107.285 & 0.076 & 0.016 & 0.992 & 0.993\\\\\n",
       "\tbifactor & 56 &  95.841 & 0.062 & 0.020 & 0.986 & 0.993\\\\\n",
       "\tthree.factor & 31 & 176.715 & 0.083 & 0.023 & 0.982 & 0.986\\\\\n",
       "\\end{tabular}\n"
      ],
      "text/markdown": [
       "\n",
       "A data.frame: 5 × 6\n",
       "\n",
       "| <!--/--> | npar &lt;int&gt; | chisq &lt;dbl&gt; | SRMR &lt;dbl&gt; | RMSEA &lt;dbl&gt; | TLI &lt;dbl&gt; | CFI &lt;dbl&gt; |\n",
       "|---|---|---|---|---|---|---|\n",
       "| single.factor | 28 | 246.157 | 0.103 | 0.026 | 0.978 | 0.982 |\n",
       "| two.factor | 29 | 192.980 | 0.086 | 0.023 | 0.982 | 0.985 |\n",
       "| two.factor.re | 30 | 107.285 | 0.076 | 0.016 | 0.992 | 0.993 |\n",
       "| bifactor | 56 |  95.841 | 0.062 | 0.020 | 0.986 | 0.993 |\n",
       "| three.factor | 31 | 176.715 | 0.083 | 0.023 | 0.982 | 0.986 |\n",
       "\n"
      ],
      "text/plain": [
       "              npar chisq   SRMR  RMSEA TLI   CFI  \n",
       "single.factor 28   246.157 0.103 0.026 0.978 0.982\n",
       "two.factor    29   192.980 0.086 0.023 0.982 0.985\n",
       "two.factor.re 30   107.285 0.076 0.016 0.992 0.993\n",
       "bifactor      56    95.841 0.062 0.020 0.986 0.993\n",
       "three.factor  31   176.715 0.083 0.023 0.982 0.986"
      ]
     },
     "metadata": {},
     "output_type": "display_data"
    }
   ],
   "source": [
    "single.factor = fitMeasures(cfa_1, c(\"chisq\",\"df\",\"tli.scaled\", \"rmsea.scaled\",\"cfi.scaled\", \"srmr\"))\n",
    "\n",
    "two.factor = fitMeasures(cfa_2, c(\"chisq\",\"df\",\"tli.scaled\", \"rmsea.scaled\",\"cfi.scaled\", \"srmr\"))\n",
    "\n",
    "two.factor.re = fitMeasures(cfa_2_re, c(\"chisq\",\"df\",\"tli.scaled\", \"rmsea.scaled\",\"cfi.scaled\", \"srmr\"))\n",
    "\n",
    "bifactor = fitMeasures(cfa_bi, c(\"chisq\",\"df\",\"tli.scaled\", \"rmsea.scaled\",\"cfi.scaled\", \"srmr\"))\n",
    "\n",
    "three.factor = fitMeasures(cfa_3, c(\"chisq\",\"df\",\"tli.scaled\", \"rmsea.scaled\",\"cfi.scaled\", \"srmr\"))\n",
    "\n",
    "df_fit = round(as.data.frame(rbind(single.factor, two.factor,  two.factor.re, bifactor, three.factor)),3)\n",
    "df_fit$npar = c(summary(cfa_1)$optim$npar,  summary(cfa_2)$optim$npar, summary(cfa_2_re)$optim$npar, summary(cfa_bi)$optim$npar, summary(cfa_3)$optim$npar)\n",
    "df_fit = df_fit %>% select(npar, chisq, srmr, rmsea.scaled, tli.scaled, cfi.scaled) %>% rename(TLI = tli.scaled, CFI = cfi.scaled, RMSEA = rmsea.scaled, SRMR = srmr)\n",
    "df_fit_w1 = df_fit\n",
    "df_fit_w1"
   ]
  },
  {
   "cell_type": "code",
   "execution_count": 13,
   "id": "47ff29c1-aba0-4713-b597-bb2b2cd7cf04",
   "metadata": {},
   "outputs": [],
   "source": [
    "# explained variance R-square r2\n",
    "One.Factor = lavInspect(cfa_1, 'rsquare')\n",
    "Two.Factor = lavInspect(cfa_2, 'rsquare')\n",
    "Two.Factor.Respecified = lavInspect(cfa_2_re, 'rsquare')\n",
    "Bifactor = lavInspect(cfa_bi, 'rsquare')\n",
    "Three.Factor = lavInspect(cfa_3, 'rsquare')\n",
    "\n",
    "df_r2 = as.data.frame(cbind(One.Factor, Two.Factor, Two.Factor.Respecified, Bifactor, Three.Factor)) %>% tibble::rownames_to_column('items')\n",
    "\n",
    "df_r2_long = df_r2 %>% \n",
    "    tidyr::pivot_longer(cols = 2:ncol(df_r2), names_to =\"models\", values_to = \"r2\") %>% \n",
    "    mutate(models = factor(models, levels = c('One.Factor',  'Two.Factor',  'Two.Factor.Respecified', 'Bifactor', 'Three.Factor')),\n",
    "           items = factor(items, levels= df_r2$items, \n",
    "                          labels = rev(c('A3tol', 'A2wit', 'A1pre', 'I4oth', 'I3imp', 'I2cha', 'I1lim', 'H7oth', 'H6law', 'H5wor', 'H4hea', 'H3rel', 'H2emo', 'H1fin'))))\n",
    "\n",
    "\n",
    "library(ggplot2)\n",
    "#color-blind friendly\n",
    "mypal <- c(\"#000000\", \"#E69F00\", \"#CC79A7\", \"#56B4E9\", \"#009E73\")\n",
    "               \n",
    "p= ggplot(df_r2_long, aes(x=items, y=r2, group = models)) + \n",
    "    geom_point(aes(color=models), size=4)+ \n",
    "    theme_bw()+\n",
    "    geom_line(aes(color=models, linetype = models),size = 4 )+\n",
    "    scale_colour_manual(values = c('One.Factor' = mypal[1], \n",
    "                                   'Two.Factor' = mypal[2],\n",
    "                                   'Two.Factor.Respecified' = mypal[3],\n",
    "                                   'Bifactor' = mypal[4], \n",
    "                                   'Three.Factor' = mypal[5]))+\n",
    "    # scale_color_brewer(palette = cbPalette)+ \n",
    "    scale_linetype_manual(values=c(3,1,1,4,5))+\n",
    "    theme(axis.text.x = element_text(angle=90),\n",
    "         text = element_text(size=40),         \n",
    "         legend.key.size = unit(7, 'cm'),\n",
    "         legend.title = element_text(size=40),\n",
    "         legend.text = element_text(size=35))+\n",
    "         xlab(\"\") + \n",
    "         ylab(\"r2\") +\n",
    "         ggtitle(\"Wave 1\")    \n",
    "ggsave('../output/Framework/Structural_validity/item_r2_v_revised_April.png', plot = p,  width=22, height=16)"
   ]
  },
  {
   "cell_type": "markdown",
   "id": "f4f9645b-3424-4b41-8db2-3cfc0adeb3ec",
   "metadata": {},
   "source": [
    "# wave 2"
   ]
  },
  {
   "cell_type": "code",
   "execution_count": 14,
   "id": "f1293969-d9dd-4e4c-8860-82c006bada35",
   "metadata": {},
   "outputs": [
    {
     "data": {
      "text/html": [
       "<table class=\"dataframe\">\n",
       "<caption>A data.frame: 2 × 14</caption>\n",
       "<thead>\n",
       "\t<tr><th></th><th scope=col>PPGM_1</th><th scope=col>PPGM_2</th><th scope=col>PPGM_3</th><th scope=col>PPGM_4</th><th scope=col>PPGM_5</th><th scope=col>PPGM_6</th><th scope=col>PPGM_7</th><th scope=col>PPGM_8</th><th scope=col>PPGM_9</th><th scope=col>PPGM_10</th><th scope=col>PPGM_11</th><th scope=col>PPGM_12</th><th scope=col>PPGM_13</th><th scope=col>PPGM_14</th></tr>\n",
       "\t<tr><th></th><th scope=col>&lt;int&gt;</th><th scope=col>&lt;int&gt;</th><th scope=col>&lt;int&gt;</th><th scope=col>&lt;int&gt;</th><th scope=col>&lt;int&gt;</th><th scope=col>&lt;int&gt;</th><th scope=col>&lt;int&gt;</th><th scope=col>&lt;int&gt;</th><th scope=col>&lt;int&gt;</th><th scope=col>&lt;int&gt;</th><th scope=col>&lt;int&gt;</th><th scope=col>&lt;int&gt;</th><th scope=col>&lt;int&gt;</th><th scope=col>&lt;int&gt;</th></tr>\n",
       "</thead>\n",
       "<tbody>\n",
       "\t<tr><th scope=row>2</th><td>0</td><td>0</td><td>0</td><td>0</td><td>0</td><td>0</td><td>0</td><td>0</td><td>0</td><td>0</td><td>0</td><td>0</td><td>0</td><td>0</td></tr>\n",
       "\t<tr><th scope=row>4</th><td>0</td><td>0</td><td>0</td><td>0</td><td>0</td><td>0</td><td>0</td><td>0</td><td>0</td><td>0</td><td>0</td><td>0</td><td>0</td><td>0</td></tr>\n",
       "</tbody>\n",
       "</table>\n"
      ],
      "text/latex": [
       "A data.frame: 2 × 14\n",
       "\\begin{tabular}{r|llllllllllllll}\n",
       "  & PPGM\\_1 & PPGM\\_2 & PPGM\\_3 & PPGM\\_4 & PPGM\\_5 & PPGM\\_6 & PPGM\\_7 & PPGM\\_8 & PPGM\\_9 & PPGM\\_10 & PPGM\\_11 & PPGM\\_12 & PPGM\\_13 & PPGM\\_14\\\\\n",
       "  & <int> & <int> & <int> & <int> & <int> & <int> & <int> & <int> & <int> & <int> & <int> & <int> & <int> & <int>\\\\\n",
       "\\hline\n",
       "\t2 & 0 & 0 & 0 & 0 & 0 & 0 & 0 & 0 & 0 & 0 & 0 & 0 & 0 & 0\\\\\n",
       "\t4 & 0 & 0 & 0 & 0 & 0 & 0 & 0 & 0 & 0 & 0 & 0 & 0 & 0 & 0\\\\\n",
       "\\end{tabular}\n"
      ],
      "text/markdown": [
       "\n",
       "A data.frame: 2 × 14\n",
       "\n",
       "| <!--/--> | PPGM_1 &lt;int&gt; | PPGM_2 &lt;int&gt; | PPGM_3 &lt;int&gt; | PPGM_4 &lt;int&gt; | PPGM_5 &lt;int&gt; | PPGM_6 &lt;int&gt; | PPGM_7 &lt;int&gt; | PPGM_8 &lt;int&gt; | PPGM_9 &lt;int&gt; | PPGM_10 &lt;int&gt; | PPGM_11 &lt;int&gt; | PPGM_12 &lt;int&gt; | PPGM_13 &lt;int&gt; | PPGM_14 &lt;int&gt; |\n",
       "|---|---|---|---|---|---|---|---|---|---|---|---|---|---|---|\n",
       "| 2 | 0 | 0 | 0 | 0 | 0 | 0 | 0 | 0 | 0 | 0 | 0 | 0 | 0 | 0 |\n",
       "| 4 | 0 | 0 | 0 | 0 | 0 | 0 | 0 | 0 | 0 | 0 | 0 | 0 | 0 | 0 |\n",
       "\n"
      ],
      "text/plain": [
       "  PPGM_1 PPGM_2 PPGM_3 PPGM_4 PPGM_5 PPGM_6 PPGM_7 PPGM_8 PPGM_9 PPGM_10\n",
       "2 0      0      0      0      0      0      0      0      0      0      \n",
       "4 0      0      0      0      0      0      0      0      0      0      \n",
       "  PPGM_11 PPGM_12 PPGM_13 PPGM_14\n",
       "2 0       0       0       0      \n",
       "4 0       0       0       0      "
      ]
     },
     "metadata": {},
     "output_type": "display_data"
    },
    {
     "data": {
      "text/html": [
       "<style>\n",
       ".list-inline {list-style: none; margin:0; padding: 0}\n",
       ".list-inline>li {display: inline-block}\n",
       ".list-inline>li:not(:last-child)::after {content: \"\\00b7\"; padding: 0 .5ex}\n",
       "</style>\n",
       "<ol class=list-inline><li>1250</li><li>14</li></ol>\n"
      ],
      "text/latex": [
       "\\begin{enumerate*}\n",
       "\\item 1250\n",
       "\\item 14\n",
       "\\end{enumerate*}\n"
      ],
      "text/markdown": [
       "1. 1250\n",
       "2. 14\n",
       "\n",
       "\n"
      ],
      "text/plain": [
       "[1] 1250   14"
      ]
     },
     "metadata": {},
     "output_type": "display_data"
    }
   ],
   "source": [
    "library(dplyr)\n",
    "ppgm_df_csv = read.csv( '../output/ppgm_2017.csv', row = 1)\n",
    "\n",
    "dat = ppgm_df_csv %>% select(-subjectkey)\n",
    "head(dat,2)\n",
    "dim(dat)"
   ]
  },
  {
   "cell_type": "code",
   "execution_count": 19,
   "id": "2994dbea-d160-4ccf-bbc3-30452f40af8a",
   "metadata": {},
   "outputs": [],
   "source": [
    "# e>0.0001: or it will be a negative number near 0; to estimate se, the item 7 and 11 residuals are correlated\n",
    "mod_bifactor <- \"\n",
    "f1 =~ PPGM_1 + PPGM_2 + PPGM_3 + PPGM_4 + PPGM_5 + PPGM_6 + PPGM_7\n",
    "f2 =~ PPGM_8 + PPGM_9 + PPGM_10 + PPGM_11 + PPGM_12 + PPGM_13 + PPGM_14\n",
    "g =~ PPGM_1 + PPGM_2 + PPGM_3 + PPGM_4 + PPGM_5 + PPGM_6 + PPGM_7 + PPGM_8 + PPGM_9 + PPGM_10 + PPGM_11 + PPGM_12 + PPGM_13 + PPGM_14 \n",
    "g ~~ 0*f1\n",
    "g ~~ 0*f2\n",
    "f1 ~~ 0*f2\n",
    "\n",
    "PPGM_7 ~~ PPGM_11\n",
    "\n",
    "PPGM_1 ~~ a*PPGM_1\n",
    "PPGM_2 ~~ b*PPGM_2\n",
    "PPGM_3 ~~ c*PPGM_3\n",
    "PPGM_4 ~~ d*PPGM_4\n",
    "PPGM_5 ~~ e*PPGM_5\n",
    "PPGM_6 ~~ f*PPGM_6\n",
    "PPGM_7 ~~ g*PPGM_7\n",
    "PPGM_8 ~~ h*PPGM_8\n",
    "PPGM_9 ~~ i*PPGM_9\n",
    "PPGM_10 ~~ j*PPGM_10\n",
    "PPGM_11 ~~ k*PPGM_11\n",
    "PPGM_12 ~~ l*PPGM_12\n",
    "PPGM_13 ~~ m*PPGM_13\n",
    "PPGM_14 ~~ n*PPGM_14\n",
    "a>0\n",
    "b>0\n",
    "c>0\n",
    "d>0\n",
    "e>0.0001\n",
    "f>0\n",
    "g>0\n",
    "h>0\n",
    "i>0\n",
    "j>0\n",
    "k>0\n",
    "l>0\n",
    "m>0\n",
    "n>0\n",
    "\""
   ]
  },
  {
   "cell_type": "code",
   "execution_count": 20,
   "id": "56be75e4-4a50-4318-93ea-116a3b25241d",
   "metadata": {},
   "outputs": [
    {
     "name": "stderr",
     "output_type": "stream",
     "text": [
      "Warning message in lav_model_vcov(lavmodel = lavmodel, lavsamplestats = lavsamplestats, :\n",
      "\"lavaan WARNING:\n",
      "    The variance-covariance matrix of the estimated parameters (vcov)\n",
      "    does not appear to be positive definite! The smallest eigenvalue\n",
      "    (= -4.196412e-16) is smaller than zero. This may be a symptom that\n",
      "    the model is not identified.\"\n",
      "Warning message in lav_model_vcov(lavmodel = lavmodel, lavsamplestats = lavsamplestats, :\n",
      "\"lavaan WARNING:\n",
      "    The variance-covariance matrix of the estimated parameters (vcov)\n",
      "    does not appear to be positive definite! The smallest eigenvalue\n",
      "    (= -5.690238e-16) is smaller than zero. This may be a symptom that\n",
      "    the model is not identified.\"\n",
      "Warning message in lav_model_vcov(lavmodel = lavmodel, lavsamplestats = lavsamplestats, :\n",
      "\"lavaan WARNING:\n",
      "    The variance-covariance matrix of the estimated parameters (vcov)\n",
      "    does not appear to be positive definite! The smallest eigenvalue\n",
      "    (= -5.986457e-16) is smaller than zero. This may be a symptom that\n",
      "    the model is not identified.\"\n",
      "Warning message in lav_model_vcov(lavmodel = lavmodel, lavsamplestats = lavsamplestats, :\n",
      "\"lavaan WARNING:\n",
      "    The variance-covariance matrix of the estimated parameters (vcov)\n",
      "    does not appear to be positive definite! The smallest eigenvalue\n",
      "    (= -3.089360e-14) is smaller than zero. This may be a symptom that\n",
      "    the model is not identified.\"\n",
      "Warning message in lav_model_vcov(lavmodel = lavmodel, lavsamplestats = lavsamplestats, :\n",
      "\"lavaan WARNING:\n",
      "    The variance-covariance matrix of the estimated parameters (vcov)\n",
      "    does not appear to be positive definite! The smallest eigenvalue\n",
      "    (= -3.441939e-16) is smaller than zero. This may be a symptom that\n",
      "    the model is not identified.\"\n"
     ]
    }
   ],
   "source": [
    "cfa_1 <- lavaan::cfa(model = mod_1, data=dat, ordered =T, estimator = 'WLSMV')\n",
    "cfa_2 <- lavaan::cfa(model = mod_2, data=dat, ordered =T, estimator = 'WLSMV')\n",
    "cfa_3 <- lavaan::cfa(model = mod_3, data=dat, ordered =T, estimator = 'WLSMV')\n",
    "cfa_bi <- lavaan::cfa(model = mod_bifactor, data=dat, ordered =T, estimator = 'WLSMV',parameterization='theta')\n",
    "\n",
    "cfa_2_re <- lavaan::cfa(model = mod_2_re, data=dat, ordered =T, estimator = 'WLSMV')"
   ]
  },
  {
   "cell_type": "code",
   "execution_count": 21,
   "id": "2bd7c706-58e1-4b2b-9744-cb0479c3b084",
   "metadata": {},
   "outputs": [
    {
     "data": {
      "text/html": [
       "<table class=\"dataframe\">\n",
       "<caption>A data.frame: 5 × 6</caption>\n",
       "<thead>\n",
       "\t<tr><th></th><th scope=col>npar</th><th scope=col>chisq</th><th scope=col>SRMR</th><th scope=col>RMSEA</th><th scope=col>TLI</th><th scope=col>CFI</th></tr>\n",
       "\t<tr><th></th><th scope=col>&lt;int&gt;</th><th scope=col>&lt;dbl&gt;</th><th scope=col>&lt;dbl&gt;</th><th scope=col>&lt;dbl&gt;</th><th scope=col>&lt;dbl&gt;</th><th scope=col>&lt;dbl&gt;</th></tr>\n",
       "</thead>\n",
       "<tbody>\n",
       "\t<tr><th scope=row>single.factor</th><td>28</td><td>408.533</td><td>0.158</td><td>0.045</td><td>0.918</td><td>0.930</td></tr>\n",
       "\t<tr><th scope=row>two.factor</th><td>29</td><td>367.910</td><td>0.140</td><td>0.044</td><td>0.921</td><td>0.934</td></tr>\n",
       "\t<tr><th scope=row>two.factor.re</th><td>30</td><td>130.892</td><td>0.094</td><td>0.022</td><td>0.980</td><td>0.983</td></tr>\n",
       "\t<tr><th scope=row>bifactor</th><td>57</td><td> 77.180</td><td>0.101</td><td>0.021</td><td>0.983</td><td>0.991</td></tr>\n",
       "\t<tr><th scope=row>three.factor</th><td>31</td><td>364.483</td><td>0.137</td><td>0.045</td><td>0.920</td><td>0.935</td></tr>\n",
       "</tbody>\n",
       "</table>\n"
      ],
      "text/latex": [
       "A data.frame: 5 × 6\n",
       "\\begin{tabular}{r|llllll}\n",
       "  & npar & chisq & SRMR & RMSEA & TLI & CFI\\\\\n",
       "  & <int> & <dbl> & <dbl> & <dbl> & <dbl> & <dbl>\\\\\n",
       "\\hline\n",
       "\tsingle.factor & 28 & 408.533 & 0.158 & 0.045 & 0.918 & 0.930\\\\\n",
       "\ttwo.factor & 29 & 367.910 & 0.140 & 0.044 & 0.921 & 0.934\\\\\n",
       "\ttwo.factor.re & 30 & 130.892 & 0.094 & 0.022 & 0.980 & 0.983\\\\\n",
       "\tbifactor & 57 &  77.180 & 0.101 & 0.021 & 0.983 & 0.991\\\\\n",
       "\tthree.factor & 31 & 364.483 & 0.137 & 0.045 & 0.920 & 0.935\\\\\n",
       "\\end{tabular}\n"
      ],
      "text/markdown": [
       "\n",
       "A data.frame: 5 × 6\n",
       "\n",
       "| <!--/--> | npar &lt;int&gt; | chisq &lt;dbl&gt; | SRMR &lt;dbl&gt; | RMSEA &lt;dbl&gt; | TLI &lt;dbl&gt; | CFI &lt;dbl&gt; |\n",
       "|---|---|---|---|---|---|---|\n",
       "| single.factor | 28 | 408.533 | 0.158 | 0.045 | 0.918 | 0.930 |\n",
       "| two.factor | 29 | 367.910 | 0.140 | 0.044 | 0.921 | 0.934 |\n",
       "| two.factor.re | 30 | 130.892 | 0.094 | 0.022 | 0.980 | 0.983 |\n",
       "| bifactor | 57 |  77.180 | 0.101 | 0.021 | 0.983 | 0.991 |\n",
       "| three.factor | 31 | 364.483 | 0.137 | 0.045 | 0.920 | 0.935 |\n",
       "\n"
      ],
      "text/plain": [
       "              npar chisq   SRMR  RMSEA TLI   CFI  \n",
       "single.factor 28   408.533 0.158 0.045 0.918 0.930\n",
       "two.factor    29   367.910 0.140 0.044 0.921 0.934\n",
       "two.factor.re 30   130.892 0.094 0.022 0.980 0.983\n",
       "bifactor      57    77.180 0.101 0.021 0.983 0.991\n",
       "three.factor  31   364.483 0.137 0.045 0.920 0.935"
      ]
     },
     "metadata": {},
     "output_type": "display_data"
    }
   ],
   "source": [
    "single.factor = fitMeasures(cfa_1, c(\"chisq\",\"df\",\"tli.scaled\", \"rmsea.scaled\",\"cfi.scaled\", \"srmr\"))\n",
    "\n",
    "two.factor = fitMeasures(cfa_2, c(\"chisq\",\"df\",\"tli.scaled\", \"rmsea.scaled\",\"cfi.scaled\", \"srmr\"))\n",
    "\n",
    "two.factor.re = fitMeasures(cfa_2_re, c(\"chisq\",\"df\",\"tli.scaled\", \"rmsea.scaled\",\"cfi.scaled\", \"srmr\"))\n",
    "\n",
    "bifactor = fitMeasures(cfa_bi, c(\"chisq\",\"df\",\"tli.scaled\", \"rmsea.scaled\",\"cfi.scaled\", \"srmr\"))\n",
    "\n",
    "three.factor = fitMeasures(cfa_3, c(\"chisq\",\"df\",\"tli.scaled\", \"rmsea.scaled\",\"cfi.scaled\", \"srmr\"))\n",
    "\n",
    "df_fit = round(as.data.frame(rbind(single.factor, two.factor,  two.factor.re, bifactor, three.factor)),3)\n",
    "df_fit$npar = c(summary(cfa_1)$optim$npar,  summary(cfa_2)$optim$npar, summary(cfa_2_re)$optim$npar, summary(cfa_bi)$optim$npar, summary(cfa_3)$optim$npar)\n",
    "df_fit = df_fit %>% select(npar, chisq, srmr, rmsea.scaled, tli.scaled, cfi.scaled) %>% rename(TLI = tli.scaled, CFI = cfi.scaled, RMSEA = rmsea.scaled, SRMR = srmr)\n",
    "df_fit_w2 = df_fit\n",
    "df_fit_w2\n",
    "\n"
   ]
  },
  {
   "cell_type": "code",
   "execution_count": 22,
   "id": "5ef52ef8-4516-44e7-9918-f24be00a3c79",
   "metadata": {},
   "outputs": [
    {
     "data": {
      "text/html": [
       "<table class=\"dataframe\">\n",
       "<caption>A data.frame: 5 × 12</caption>\n",
       "<thead>\n",
       "\t<tr><th></th><th scope=col>npar</th><th scope=col>chisq</th><th scope=col>SRMR</th><th scope=col>RMSEA</th><th scope=col>TLI</th><th scope=col>CFI</th><th scope=col>npar</th><th scope=col>chisq</th><th scope=col>SRMR</th><th scope=col>RMSEA</th><th scope=col>TLI</th><th scope=col>CFI</th></tr>\n",
       "\t<tr><th></th><th scope=col>&lt;int&gt;</th><th scope=col>&lt;dbl&gt;</th><th scope=col>&lt;dbl&gt;</th><th scope=col>&lt;dbl&gt;</th><th scope=col>&lt;dbl&gt;</th><th scope=col>&lt;dbl&gt;</th><th scope=col>&lt;int&gt;</th><th scope=col>&lt;dbl&gt;</th><th scope=col>&lt;dbl&gt;</th><th scope=col>&lt;dbl&gt;</th><th scope=col>&lt;dbl&gt;</th><th scope=col>&lt;dbl&gt;</th></tr>\n",
       "</thead>\n",
       "<tbody>\n",
       "\t<tr><th scope=row>single.factor</th><td>28</td><td>246.157</td><td>0.103</td><td>0.026</td><td>0.978</td><td>0.982</td><td>28</td><td>408.533</td><td>0.158</td><td>0.045</td><td>0.918</td><td>0.930</td></tr>\n",
       "\t<tr><th scope=row>two.factor</th><td>29</td><td>192.980</td><td>0.086</td><td>0.023</td><td>0.982</td><td>0.985</td><td>29</td><td>367.910</td><td>0.140</td><td>0.044</td><td>0.921</td><td>0.934</td></tr>\n",
       "\t<tr><th scope=row>two.factor.re</th><td>30</td><td>107.285</td><td>0.076</td><td>0.016</td><td>0.992</td><td>0.993</td><td>30</td><td>130.892</td><td>0.094</td><td>0.022</td><td>0.980</td><td>0.983</td></tr>\n",
       "\t<tr><th scope=row>bifactor</th><td>56</td><td> 95.841</td><td>0.062</td><td>0.020</td><td>0.986</td><td>0.993</td><td>57</td><td> 77.180</td><td>0.101</td><td>0.021</td><td>0.983</td><td>0.991</td></tr>\n",
       "\t<tr><th scope=row>three.factor</th><td>31</td><td>176.715</td><td>0.083</td><td>0.023</td><td>0.982</td><td>0.986</td><td>31</td><td>364.483</td><td>0.137</td><td>0.045</td><td>0.920</td><td>0.935</td></tr>\n",
       "</tbody>\n",
       "</table>\n"
      ],
      "text/latex": [
       "A data.frame: 5 × 12\n",
       "\\begin{tabular}{r|llllllllllll}\n",
       "  & npar & chisq & SRMR & RMSEA & TLI & CFI & npar & chisq & SRMR & RMSEA & TLI & CFI\\\\\n",
       "  & <int> & <dbl> & <dbl> & <dbl> & <dbl> & <dbl> & <int> & <dbl> & <dbl> & <dbl> & <dbl> & <dbl>\\\\\n",
       "\\hline\n",
       "\tsingle.factor & 28 & 246.157 & 0.103 & 0.026 & 0.978 & 0.982 & 28 & 408.533 & 0.158 & 0.045 & 0.918 & 0.930\\\\\n",
       "\ttwo.factor & 29 & 192.980 & 0.086 & 0.023 & 0.982 & 0.985 & 29 & 367.910 & 0.140 & 0.044 & 0.921 & 0.934\\\\\n",
       "\ttwo.factor.re & 30 & 107.285 & 0.076 & 0.016 & 0.992 & 0.993 & 30 & 130.892 & 0.094 & 0.022 & 0.980 & 0.983\\\\\n",
       "\tbifactor & 56 &  95.841 & 0.062 & 0.020 & 0.986 & 0.993 & 57 &  77.180 & 0.101 & 0.021 & 0.983 & 0.991\\\\\n",
       "\tthree.factor & 31 & 176.715 & 0.083 & 0.023 & 0.982 & 0.986 & 31 & 364.483 & 0.137 & 0.045 & 0.920 & 0.935\\\\\n",
       "\\end{tabular}\n"
      ],
      "text/markdown": [
       "\n",
       "A data.frame: 5 × 12\n",
       "\n",
       "| <!--/--> | npar &lt;int&gt; | chisq &lt;dbl&gt; | SRMR &lt;dbl&gt; | RMSEA &lt;dbl&gt; | TLI &lt;dbl&gt; | CFI &lt;dbl&gt; | npar &lt;int&gt; | chisq &lt;dbl&gt; | SRMR &lt;dbl&gt; | RMSEA &lt;dbl&gt; | TLI &lt;dbl&gt; | CFI &lt;dbl&gt; |\n",
       "|---|---|---|---|---|---|---|---|---|---|---|---|---|\n",
       "| single.factor | 28 | 246.157 | 0.103 | 0.026 | 0.978 | 0.982 | 28 | 408.533 | 0.158 | 0.045 | 0.918 | 0.930 |\n",
       "| two.factor | 29 | 192.980 | 0.086 | 0.023 | 0.982 | 0.985 | 29 | 367.910 | 0.140 | 0.044 | 0.921 | 0.934 |\n",
       "| two.factor.re | 30 | 107.285 | 0.076 | 0.016 | 0.992 | 0.993 | 30 | 130.892 | 0.094 | 0.022 | 0.980 | 0.983 |\n",
       "| bifactor | 56 |  95.841 | 0.062 | 0.020 | 0.986 | 0.993 | 57 |  77.180 | 0.101 | 0.021 | 0.983 | 0.991 |\n",
       "| three.factor | 31 | 176.715 | 0.083 | 0.023 | 0.982 | 0.986 | 31 | 364.483 | 0.137 | 0.045 | 0.920 | 0.935 |\n",
       "\n"
      ],
      "text/plain": [
       "              npar chisq   SRMR  RMSEA TLI   CFI   npar chisq   SRMR  RMSEA\n",
       "single.factor 28   246.157 0.103 0.026 0.978 0.982 28   408.533 0.158 0.045\n",
       "two.factor    29   192.980 0.086 0.023 0.982 0.985 29   367.910 0.140 0.044\n",
       "two.factor.re 30   107.285 0.076 0.016 0.992 0.993 30   130.892 0.094 0.022\n",
       "bifactor      56    95.841 0.062 0.020 0.986 0.993 57    77.180 0.101 0.021\n",
       "three.factor  31   176.715 0.083 0.023 0.982 0.986 31   364.483 0.137 0.045\n",
       "              TLI   CFI  \n",
       "single.factor 0.918 0.930\n",
       "two.factor    0.921 0.934\n",
       "two.factor.re 0.980 0.983\n",
       "bifactor      0.983 0.991\n",
       "three.factor  0.920 0.935"
      ]
     },
     "metadata": {},
     "output_type": "display_data"
    }
   ],
   "source": [
    "# combine two waves\n",
    "df_both = cbind(df_fit_w1, df_fit_w2) \n",
    "df_both \n"
   ]
  },
  {
   "cell_type": "code",
   "execution_count": 23,
   "id": "82ea656f-3a26-4319-9e34-02c786887c2e",
   "metadata": {},
   "outputs": [],
   "source": [
    "# explained variance R-square r2\n",
    "One.Factor = lavInspect(cfa_1, 'rsquare')\n",
    "Two.Factor = lavInspect(cfa_2, 'rsquare')\n",
    "Two.Factor.Respecified = lavInspect(cfa_2_re, 'rsquare')\n",
    "Bifactor = lavInspect(cfa_bi, 'rsquare')\n",
    "Three.Factor = lavInspect(cfa_3, 'rsquare')\n",
    "\n",
    "df_r2 = as.data.frame(cbind(One.Factor, Two.Factor, Two.Factor.Respecified, Bifactor, Three.Factor)) %>% tibble::rownames_to_column('items')\n",
    "\n",
    "df_r2_long = df_r2 %>% \n",
    "    tidyr::pivot_longer(cols = 2:ncol(df_r2), names_to =\"models\", values_to = \"r2\") %>% \n",
    "    mutate(models = factor(models, levels = c('One.Factor',  'Two.Factor',  'Two.Factor.Respecified', 'Bifactor', 'Three.Factor')),\n",
    "           items = factor(items, levels= df_r2$items, \n",
    "                          labels = rev(c('A3tol', 'A2wit', 'A1pre', 'I4oth', 'I3imp', 'I2cha', 'I1lim', 'H7oth', 'H6law', 'H5wor', 'H4hea', 'H3rel', 'H2emo', 'H1fin'))))\n",
    "\n",
    "\n",
    "library(ggplot2)\n",
    "#color-blind friendly\n",
    "mypal <- c(\"#000000\", \"#E69F00\", \"#CC79A7\", \"#56B4E9\", \"#009E73\")\n",
    "               \n",
    "p= ggplot(df_r2_long, aes(x=items, y=r2, group = models)) + \n",
    "    geom_point(aes(color=models), size=4)+ \n",
    "    theme_bw()+\n",
    "    geom_line(aes(color=models, linetype = models),size = 4 )+\n",
    "    scale_colour_manual(values = c('One.Factor' = mypal[1], \n",
    "                                   'Two.Factor' = mypal[2],\n",
    "                                   'Two.Factor.Respecified' = mypal[3],\n",
    "                                   'Bifactor' = mypal[4], \n",
    "                                   'Three.Factor' = mypal[5]))+\n",
    "    # scale_color_brewer(palette = cbPalette)+ \n",
    "    scale_linetype_manual(values=c(3,1,1,4,5))+\n",
    "    theme(axis.text.x = element_text(angle=90),\n",
    "         text = element_text(size=40),         \n",
    "         legend.key.size = unit(7, 'cm'),\n",
    "         legend.title = element_text(size=40),\n",
    "         legend.text = element_text(size=35))+\n",
    "         xlab(\"\") + \n",
    "         ylab(\"r2\") +\n",
    "         ggtitle(\"Wave 2\")    \n",
    "ggsave('../output/Framework/Structural_validity/wave2/item_r2_v_revised_April.png', plot = p,  width=22, height=16)"
   ]
  },
  {
   "cell_type": "code",
   "execution_count": null,
   "id": "0d0feef2-9f43-4b5f-9671-b7c770cb5e98",
   "metadata": {},
   "outputs": [],
   "source": []
  }
 ],
 "metadata": {
  "kernelspec": {
   "display_name": "R",
   "language": "R",
   "name": "ir"
  },
  "language_info": {
   "codemirror_mode": "r",
   "file_extension": ".r",
   "mimetype": "text/x-r-source",
   "name": "R",
   "pygments_lexer": "r",
   "version": "4.2.2"
  }
 },
 "nbformat": 4,
 "nbformat_minor": 5
}
