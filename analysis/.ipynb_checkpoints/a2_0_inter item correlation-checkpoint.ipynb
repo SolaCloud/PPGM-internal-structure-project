{
 "cells": [
  {
   "cell_type": "code",
   "execution_count": 3,
   "id": "03857583-a97a-43b8-b50c-e379e44eb48e",
   "metadata": {},
   "outputs": [
    {
     "name": "stderr",
     "output_type": "stream",
     "text": [
      "Warning message:\n",
      "\"package 'dplyr' was built under R version 4.2.3\"\n",
      "\n",
      "Attaching package: 'dplyr'\n",
      "\n",
      "\n",
      "The following objects are masked from 'package:stats':\n",
      "\n",
      "    filter, lag\n",
      "\n",
      "\n",
      "The following objects are masked from 'package:base':\n",
      "\n",
      "    intersect, setdiff, setequal, union\n",
      "\n",
      "\n",
      "Warning message:\n",
      "\"package 'corrplot' was built under R version 4.2.3\"\n",
      "corrplot 0.92 loaded\n",
      "\n"
     ]
    },
    {
     "data": {
      "text/html": [
       "<table class=\"dataframe\">\n",
       "<caption>A data.frame: 2 × 14</caption>\n",
       "<thead>\n",
       "\t<tr><th></th><th scope=col>PPGM_1</th><th scope=col>PPGM_2</th><th scope=col>PPGM_3</th><th scope=col>PPGM_4</th><th scope=col>PPGM_5</th><th scope=col>PPGM_6</th><th scope=col>PPGM_7</th><th scope=col>PPGM_8</th><th scope=col>PPGM_9</th><th scope=col>PPGM_10</th><th scope=col>PPGM_11</th><th scope=col>PPGM_12</th><th scope=col>PPGM_13</th><th scope=col>PPGM_14</th></tr>\n",
       "\t<tr><th></th><th scope=col>&lt;int&gt;</th><th scope=col>&lt;int&gt;</th><th scope=col>&lt;int&gt;</th><th scope=col>&lt;int&gt;</th><th scope=col>&lt;int&gt;</th><th scope=col>&lt;int&gt;</th><th scope=col>&lt;int&gt;</th><th scope=col>&lt;int&gt;</th><th scope=col>&lt;int&gt;</th><th scope=col>&lt;int&gt;</th><th scope=col>&lt;int&gt;</th><th scope=col>&lt;int&gt;</th><th scope=col>&lt;int&gt;</th><th scope=col>&lt;int&gt;</th></tr>\n",
       "</thead>\n",
       "<tbody>\n",
       "\t<tr><th scope=row>1</th><td>0</td><td>0</td><td>0</td><td>0</td><td>0</td><td>0</td><td>0</td><td>0</td><td>0</td><td>0</td><td>0</td><td>0</td><td>0</td><td>0</td></tr>\n",
       "\t<tr><th scope=row>2</th><td>0</td><td>0</td><td>0</td><td>0</td><td>0</td><td>0</td><td>0</td><td>0</td><td>0</td><td>0</td><td>0</td><td>0</td><td>0</td><td>0</td></tr>\n",
       "</tbody>\n",
       "</table>\n"
      ],
      "text/latex": [
       "A data.frame: 2 × 14\n",
       "\\begin{tabular}{r|llllllllllllll}\n",
       "  & PPGM\\_1 & PPGM\\_2 & PPGM\\_3 & PPGM\\_4 & PPGM\\_5 & PPGM\\_6 & PPGM\\_7 & PPGM\\_8 & PPGM\\_9 & PPGM\\_10 & PPGM\\_11 & PPGM\\_12 & PPGM\\_13 & PPGM\\_14\\\\\n",
       "  & <int> & <int> & <int> & <int> & <int> & <int> & <int> & <int> & <int> & <int> & <int> & <int> & <int> & <int>\\\\\n",
       "\\hline\n",
       "\t1 & 0 & 0 & 0 & 0 & 0 & 0 & 0 & 0 & 0 & 0 & 0 & 0 & 0 & 0\\\\\n",
       "\t2 & 0 & 0 & 0 & 0 & 0 & 0 & 0 & 0 & 0 & 0 & 0 & 0 & 0 & 0\\\\\n",
       "\\end{tabular}\n"
      ],
      "text/markdown": [
       "\n",
       "A data.frame: 2 × 14\n",
       "\n",
       "| <!--/--> | PPGM_1 &lt;int&gt; | PPGM_2 &lt;int&gt; | PPGM_3 &lt;int&gt; | PPGM_4 &lt;int&gt; | PPGM_5 &lt;int&gt; | PPGM_6 &lt;int&gt; | PPGM_7 &lt;int&gt; | PPGM_8 &lt;int&gt; | PPGM_9 &lt;int&gt; | PPGM_10 &lt;int&gt; | PPGM_11 &lt;int&gt; | PPGM_12 &lt;int&gt; | PPGM_13 &lt;int&gt; | PPGM_14 &lt;int&gt; |\n",
       "|---|---|---|---|---|---|---|---|---|---|---|---|---|---|---|\n",
       "| 1 | 0 | 0 | 0 | 0 | 0 | 0 | 0 | 0 | 0 | 0 | 0 | 0 | 0 | 0 |\n",
       "| 2 | 0 | 0 | 0 | 0 | 0 | 0 | 0 | 0 | 0 | 0 | 0 | 0 | 0 | 0 |\n",
       "\n"
      ],
      "text/plain": [
       "  PPGM_1 PPGM_2 PPGM_3 PPGM_4 PPGM_5 PPGM_6 PPGM_7 PPGM_8 PPGM_9 PPGM_10\n",
       "1 0      0      0      0      0      0      0      0      0      0      \n",
       "2 0      0      0      0      0      0      0      0      0      0      \n",
       "  PPGM_11 PPGM_12 PPGM_13 PPGM_14\n",
       "1 0       0       0       0      \n",
       "2 0       0       0       0      "
      ]
     },
     "metadata": {},
     "output_type": "display_data"
    },
    {
     "data": {
      "text/html": [
       "<style>\n",
       ".list-inline {list-style: none; margin:0; padding: 0}\n",
       ".list-inline>li {display: inline-block}\n",
       ".list-inline>li:not(:last-child)::after {content: \"\\00b7\"; padding: 0 .5ex}\n",
       "</style>\n",
       "<ol class=list-inline><li>3218</li><li>14</li></ol>\n"
      ],
      "text/latex": [
       "\\begin{enumerate*}\n",
       "\\item 3218\n",
       "\\item 14\n",
       "\\end{enumerate*}\n"
      ],
      "text/markdown": [
       "1. 3218\n",
       "2. 14\n",
       "\n",
       "\n"
      ],
      "text/plain": [
       "[1] 3218   14"
      ]
     },
     "metadata": {},
     "output_type": "display_data"
    },
    {
     "data": {
      "text/html": [
       "<strong>png:</strong> 2"
      ],
      "text/latex": [
       "\\textbf{png:} 2"
      ],
      "text/markdown": [
       "**png:** 2"
      ],
      "text/plain": [
       "png \n",
       "  2 "
      ]
     },
     "metadata": {},
     "output_type": "display_data"
    },
    {
     "data": {
      "image/png": "[encoded data removed]",
      "text/plain": [
       "Plot with title \"\""
      ]
     },
     "metadata": {
      "image/png": {
       "height": 420,
       "width": 420
      }
     },
     "output_type": "display_data"
    }
   ],
   "source": [
    "library(dplyr)\n",
    "library(corrplot)\n",
    "# year 2016\n",
    "ppgm_df_csv = read.csv( '../output/data_cleaned/ppgm_2016.csv', row = 1)\n",
    "\n",
    "dat = ppgm_df_csv %>% select(-subjectkey)\n",
    "head(dat,2)\n",
    "dim(dat)\n",
    "\n",
    "# check correlated resid error pairs\n",
    "thres = 0.3\n",
    "\n",
    "cor_mat = cor(dat)\n",
    "cor_mat[abs(cor_mat) <thres] = 0\n",
    "cor_mat[1:7,1:7] = 0\n",
    "cor_mat[8:14,8:14] = 0\n",
    "\n",
    "png(filename = paste0(\"../output/figures/correlated_resid_w1.png\"), height = 6, width =6, units = 'in', res =400)\n",
    "corrplot(cor_mat, type='lower',tl.col = 'black')\n",
    "dev.off()\n",
    "corrplot(cor_mat, type='lower',tl.col = 'black')"
   ]
  },
  {
   "cell_type": "code",
   "execution_count": 4,
   "id": "c8bda902-55db-4f17-bb32-f51e280d23a2",
   "metadata": {},
   "outputs": [
    {
     "data": {
      "text/html": [
       "<table class=\"dataframe\">\n",
       "<caption>A data.frame: 2 × 14</caption>\n",
       "<thead>\n",
       "\t<tr><th></th><th scope=col>PPGM_1</th><th scope=col>PPGM_2</th><th scope=col>PPGM_3</th><th scope=col>PPGM_4</th><th scope=col>PPGM_5</th><th scope=col>PPGM_6</th><th scope=col>PPGM_7</th><th scope=col>PPGM_8</th><th scope=col>PPGM_9</th><th scope=col>PPGM_10</th><th scope=col>PPGM_11</th><th scope=col>PPGM_12</th><th scope=col>PPGM_13</th><th scope=col>PPGM_14</th></tr>\n",
       "\t<tr><th></th><th scope=col>&lt;int&gt;</th><th scope=col>&lt;int&gt;</th><th scope=col>&lt;int&gt;</th><th scope=col>&lt;int&gt;</th><th scope=col>&lt;int&gt;</th><th scope=col>&lt;int&gt;</th><th scope=col>&lt;int&gt;</th><th scope=col>&lt;int&gt;</th><th scope=col>&lt;int&gt;</th><th scope=col>&lt;int&gt;</th><th scope=col>&lt;int&gt;</th><th scope=col>&lt;int&gt;</th><th scope=col>&lt;int&gt;</th><th scope=col>&lt;int&gt;</th></tr>\n",
       "</thead>\n",
       "<tbody>\n",
       "\t<tr><th scope=row>2</th><td>0</td><td>0</td><td>0</td><td>0</td><td>0</td><td>0</td><td>0</td><td>0</td><td>0</td><td>0</td><td>0</td><td>0</td><td>0</td><td>0</td></tr>\n",
       "\t<tr><th scope=row>4</th><td>0</td><td>0</td><td>0</td><td>0</td><td>0</td><td>0</td><td>0</td><td>0</td><td>0</td><td>0</td><td>0</td><td>0</td><td>0</td><td>0</td></tr>\n",
       "</tbody>\n",
       "</table>\n"
      ],
      "text/latex": [
       "A data.frame: 2 × 14\n",
       "\\begin{tabular}{r|llllllllllllll}\n",
       "  & PPGM\\_1 & PPGM\\_2 & PPGM\\_3 & PPGM\\_4 & PPGM\\_5 & PPGM\\_6 & PPGM\\_7 & PPGM\\_8 & PPGM\\_9 & PPGM\\_10 & PPGM\\_11 & PPGM\\_12 & PPGM\\_13 & PPGM\\_14\\\\\n",
       "  & <int> & <int> & <int> & <int> & <int> & <int> & <int> & <int> & <int> & <int> & <int> & <int> & <int> & <int>\\\\\n",
       "\\hline\n",
       "\t2 & 0 & 0 & 0 & 0 & 0 & 0 & 0 & 0 & 0 & 0 & 0 & 0 & 0 & 0\\\\\n",
       "\t4 & 0 & 0 & 0 & 0 & 0 & 0 & 0 & 0 & 0 & 0 & 0 & 0 & 0 & 0\\\\\n",
       "\\end{tabular}\n"
      ],
      "text/markdown": [
       "\n",
       "A data.frame: 2 × 14\n",
       "\n",
       "| <!--/--> | PPGM_1 &lt;int&gt; | PPGM_2 &lt;int&gt; | PPGM_3 &lt;int&gt; | PPGM_4 &lt;int&gt; | PPGM_5 &lt;int&gt; | PPGM_6 &lt;int&gt; | PPGM_7 &lt;int&gt; | PPGM_8 &lt;int&gt; | PPGM_9 &lt;int&gt; | PPGM_10 &lt;int&gt; | PPGM_11 &lt;int&gt; | PPGM_12 &lt;int&gt; | PPGM_13 &lt;int&gt; | PPGM_14 &lt;int&gt; |\n",
       "|---|---|---|---|---|---|---|---|---|---|---|---|---|---|---|\n",
       "| 2 | 0 | 0 | 0 | 0 | 0 | 0 | 0 | 0 | 0 | 0 | 0 | 0 | 0 | 0 |\n",
       "| 4 | 0 | 0 | 0 | 0 | 0 | 0 | 0 | 0 | 0 | 0 | 0 | 0 | 0 | 0 |\n",
       "\n"
      ],
      "text/plain": [
       "  PPGM_1 PPGM_2 PPGM_3 PPGM_4 PPGM_5 PPGM_6 PPGM_7 PPGM_8 PPGM_9 PPGM_10\n",
       "2 0      0      0      0      0      0      0      0      0      0      \n",
       "4 0      0      0      0      0      0      0      0      0      0      \n",
       "  PPGM_11 PPGM_12 PPGM_13 PPGM_14\n",
       "2 0       0       0       0      \n",
       "4 0       0       0       0      "
      ]
     },
     "metadata": {},
     "output_type": "display_data"
    },
    {
     "data": {
      "text/html": [
       "<style>\n",
       ".list-inline {list-style: none; margin:0; padding: 0}\n",
       ".list-inline>li {display: inline-block}\n",
       ".list-inline>li:not(:last-child)::after {content: \"\\00b7\"; padding: 0 .5ex}\n",
       "</style>\n",
       "<ol class=list-inline><li>1250</li><li>14</li></ol>\n"
      ],
      "text/latex": [
       "\\begin{enumerate*}\n",
       "\\item 1250\n",
       "\\item 14\n",
       "\\end{enumerate*}\n"
      ],
      "text/markdown": [
       "1. 1250\n",
       "2. 14\n",
       "\n",
       "\n"
      ],
      "text/plain": [
       "[1] 1250   14"
      ]
     },
     "metadata": {},
     "output_type": "display_data"
    },
    {
     "data": {
      "text/html": [
       "<strong>png:</strong> 2"
      ],
      "text/latex": [
       "\\textbf{png:} 2"
      ],
      "text/markdown": [
       "**png:** 2"
      ],
      "text/plain": [
       "png \n",
       "  2 "
      ]
     },
     "metadata": {},
     "output_type": "display_data"
    },
    {
     "data": {
      "image/png": "[encoded data removed]",
      "text/plain": [
       "Plot with title \"\""
      ]
     },
     "metadata": {
      "image/png": {
       "height": 420,
       "width": 420
      }
     },
     "output_type": "display_data"
    }
   ],
   "source": [
    "ppgm_df_csv = read.csv('../output/data_cleaned/ppgm_2017.csv', row = 1)\n",
    "\n",
    "dat = ppgm_df_csv %>% select(-subjectkey)\n",
    "head(dat,2)\n",
    "dim(dat)\n",
    "\n",
    "thres = 0.3\n",
    "cor_mat = cor(dat)\n",
    "cor_mat[abs(cor_mat) < thres] = 0\n",
    "cor_mat[1:7,1:7] = 0\n",
    "cor_mat[8:14,8:14] = 0\n",
    "\n",
    "png(filename = paste0(\"../output/figures/correlated_resid_w2.png\"), height = 6, width =6, units = 'in', res =400)\n",
    "corrplot(cor_mat, type='lower',tl.col = 'black')\n",
    "dev.off()\n",
    "corrplot(cor_mat, type='lower',tl.col = 'black')"
   ]
  },
  {
   "cell_type": "code",
   "execution_count": null,
   "id": "c7204aae-c343-403e-aa65-5fec46589a3c",
   "metadata": {},
   "outputs": [],
   "source": []
  }
 ],
 "metadata": {
  "kernelspec": {
   "display_name": "R",
   "language": "R",
   "name": "ir"
  },
  "language_info": {
   "codemirror_mode": "r",
   "file_extension": ".r",
   "mimetype": "text/x-r-source",
   "name": "R",
   "pygments_lexer": "r",
   "version": "4.2.2"
  }
 },
 "nbformat": 4,
 "nbformat_minor": 5
}
