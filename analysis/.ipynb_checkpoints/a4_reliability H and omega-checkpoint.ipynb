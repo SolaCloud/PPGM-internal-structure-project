{
 "cells": [
  {
   "cell_type": "markdown",
   "id": "501984f1-4308-4efa-aad5-1b594230a66e",
   "metadata": {},
   "source": [
    "# wave 1"
   ]
  },
  {
   "cell_type": "code",
   "execution_count": 7,
   "id": "2dc6cbca-bf54-4d7e-afae-e48e55ec0e7c",
   "metadata": {},
   "outputs": [
    {
     "data": {
      "text/html": [
       "<table class=\"dataframe\">\n",
       "<caption>A data.frame: 2 × 14</caption>\n",
       "<thead>\n",
       "\t<tr><th></th><th scope=col>PPGM_1</th><th scope=col>PPGM_2</th><th scope=col>PPGM_3</th><th scope=col>PPGM_4</th><th scope=col>PPGM_5</th><th scope=col>PPGM_6</th><th scope=col>PPGM_7</th><th scope=col>PPGM_8</th><th scope=col>PPGM_9</th><th scope=col>PPGM_10</th><th scope=col>PPGM_11</th><th scope=col>PPGM_12</th><th scope=col>PPGM_13</th><th scope=col>PPGM_14</th></tr>\n",
       "\t<tr><th></th><th scope=col>&lt;int&gt;</th><th scope=col>&lt;int&gt;</th><th scope=col>&lt;int&gt;</th><th scope=col>&lt;int&gt;</th><th scope=col>&lt;int&gt;</th><th scope=col>&lt;int&gt;</th><th scope=col>&lt;int&gt;</th><th scope=col>&lt;int&gt;</th><th scope=col>&lt;int&gt;</th><th scope=col>&lt;int&gt;</th><th scope=col>&lt;int&gt;</th><th scope=col>&lt;int&gt;</th><th scope=col>&lt;int&gt;</th><th scope=col>&lt;int&gt;</th></tr>\n",
       "</thead>\n",
       "<tbody>\n",
       "\t<tr><th scope=row>1</th><td>0</td><td>0</td><td>0</td><td>0</td><td>0</td><td>0</td><td>0</td><td>0</td><td>0</td><td>0</td><td>0</td><td>0</td><td>0</td><td>0</td></tr>\n",
       "\t<tr><th scope=row>2</th><td>0</td><td>0</td><td>0</td><td>0</td><td>0</td><td>0</td><td>0</td><td>0</td><td>0</td><td>0</td><td>0</td><td>0</td><td>0</td><td>0</td></tr>\n",
       "</tbody>\n",
       "</table>\n"
      ],
      "text/latex": [
       "A data.frame: 2 × 14\n",
       "\\begin{tabular}{r|llllllllllllll}\n",
       "  & PPGM\\_1 & PPGM\\_2 & PPGM\\_3 & PPGM\\_4 & PPGM\\_5 & PPGM\\_6 & PPGM\\_7 & PPGM\\_8 & PPGM\\_9 & PPGM\\_10 & PPGM\\_11 & PPGM\\_12 & PPGM\\_13 & PPGM\\_14\\\\\n",
       "  & <int> & <int> & <int> & <int> & <int> & <int> & <int> & <int> & <int> & <int> & <int> & <int> & <int> & <int>\\\\\n",
       "\\hline\n",
       "\t1 & 0 & 0 & 0 & 0 & 0 & 0 & 0 & 0 & 0 & 0 & 0 & 0 & 0 & 0\\\\\n",
       "\t2 & 0 & 0 & 0 & 0 & 0 & 0 & 0 & 0 & 0 & 0 & 0 & 0 & 0 & 0\\\\\n",
       "\\end{tabular}\n"
      ],
      "text/markdown": [
       "\n",
       "A data.frame: 2 × 14\n",
       "\n",
       "| <!--/--> | PPGM_1 &lt;int&gt; | PPGM_2 &lt;int&gt; | PPGM_3 &lt;int&gt; | PPGM_4 &lt;int&gt; | PPGM_5 &lt;int&gt; | PPGM_6 &lt;int&gt; | PPGM_7 &lt;int&gt; | PPGM_8 &lt;int&gt; | PPGM_9 &lt;int&gt; | PPGM_10 &lt;int&gt; | PPGM_11 &lt;int&gt; | PPGM_12 &lt;int&gt; | PPGM_13 &lt;int&gt; | PPGM_14 &lt;int&gt; |\n",
       "|---|---|---|---|---|---|---|---|---|---|---|---|---|---|---|\n",
       "| 1 | 0 | 0 | 0 | 0 | 0 | 0 | 0 | 0 | 0 | 0 | 0 | 0 | 0 | 0 |\n",
       "| 2 | 0 | 0 | 0 | 0 | 0 | 0 | 0 | 0 | 0 | 0 | 0 | 0 | 0 | 0 |\n",
       "\n"
      ],
      "text/plain": [
       "  PPGM_1 PPGM_2 PPGM_3 PPGM_4 PPGM_5 PPGM_6 PPGM_7 PPGM_8 PPGM_9 PPGM_10\n",
       "1 0      0      0      0      0      0      0      0      0      0      \n",
       "2 0      0      0      0      0      0      0      0      0      0      \n",
       "  PPGM_11 PPGM_12 PPGM_13 PPGM_14\n",
       "1 0       0       0       0      \n",
       "2 0       0       0       0      "
      ]
     },
     "metadata": {},
     "output_type": "display_data"
    },
    {
     "data": {
      "text/html": [
       "<style>\n",
       ".list-inline {list-style: none; margin:0; padding: 0}\n",
       ".list-inline>li {display: inline-block}\n",
       ".list-inline>li:not(:last-child)::after {content: \"\\00b7\"; padding: 0 .5ex}\n",
       "</style>\n",
       "<ol class=list-inline><li>3218</li><li>14</li></ol>\n"
      ],
      "text/latex": [
       "\\begin{enumerate*}\n",
       "\\item 3218\n",
       "\\item 14\n",
       "\\end{enumerate*}\n"
      ],
      "text/markdown": [
       "1. 3218\n",
       "2. 14\n",
       "\n",
       "\n"
      ],
      "text/plain": [
       "[1] 3218   14"
      ]
     },
     "metadata": {},
     "output_type": "display_data"
    }
   ],
   "source": [
    "library(dplyr)\n",
    "ppgm_df_csv = read.csv( '../output/ppgm_2016.csv', row = 1)\n",
    "\n",
    "dat = ppgm_df_csv %>% select(-subjectkey)\n",
    "head(dat,2)\n",
    "dim(dat)"
   ]
  },
  {
   "cell_type": "code",
   "execution_count": 8,
   "id": "c410beeb-4721-4b87-906c-e8a660d96fef",
   "metadata": {},
   "outputs": [
    {
     "data": {
      "text/html": [
       "30"
      ],
      "text/latex": [
       "30"
      ],
      "text/markdown": [
       "30"
      ],
      "text/plain": [
       "[1] 30"
      ]
     },
     "metadata": {},
     "output_type": "display_data"
    },
    {
     "data": {
      "text/html": [
       "<style>\n",
       ".dl-inline {width: auto; margin:0; padding: 0}\n",
       ".dl-inline>dt, .dl-inline>dd {float: none; width: auto; display: inline-block}\n",
       ".dl-inline>dt::after {content: \":\\0020\"; padding-right: .5ex}\n",
       ".dl-inline>dt:not(:first-of-type) {padding-left: .5ex}\n",
       "</style><dl class=dl-inline><dt>chisq</dt><dd>107.284875109373</dd><dt>tli.scaled</dt><dd>0.992049750611824</dd><dt>rmsea.scaled</dt><dd>0.0155807474129858</dd><dt>cfi.scaled</dt><dd>0.993447596658097</dd><dt>srmr</dt><dd>0.0762339240181452</dd></dl>\n"
      ],
      "text/latex": [
       "\\begin{description*}\n",
       "\\item[chisq] 107.284875109373\n",
       "\\item[tli.scaled] 0.992049750611824\n",
       "\\item[rmsea.scaled] 0.0155807474129858\n",
       "\\item[cfi.scaled] 0.993447596658097\n",
       "\\item[srmr] 0.0762339240181452\n",
       "\\end{description*}\n"
      ],
      "text/markdown": [
       "chisq\n",
       ":   107.284875109373tli.scaled\n",
       ":   0.992049750611824rmsea.scaled\n",
       ":   0.0155807474129858cfi.scaled\n",
       ":   0.993447596658097srmr\n",
       ":   0.0762339240181452\n",
       "\n"
      ],
      "text/plain": [
       "       chisq   tli.scaled rmsea.scaled   cfi.scaled         srmr \n",
       "     107.285        0.992        0.016        0.993        0.076 "
      ]
     },
     "metadata": {},
     "output_type": "display_data"
    }
   ],
   "source": [
    "# specify models\n",
    "library(lavaan)\n",
    "\n",
    "mod_secondOrder_corr_2 <- \"\n",
    "f1 =~ PPGM_1 + PPGM_2 + PPGM_3 + PPGM_4 + PPGM_5 + PPGM_6 + PPGM_7\n",
    "f2 =~ PPGM_8 + PPGM_9 + PPGM_10 + PPGM_11 + PPGM_12 + PPGM_13 + PPGM_14\n",
    "g =~ 1*f1 + 1*f2\n",
    "f1 ~~ 0*f2\n",
    "\n",
    "PPGM_7 ~~ PPGM_11\n",
    "\"\n",
    "\n",
    "cfa_2nd_corrected_2 <- lavaan::cfa(model = mod_secondOrder_corr_2, data=dat, ordered =T, estimator = 'WLSMV')\n",
    "higher.order_corrected_2 = fitMeasures(cfa_2nd_corrected_2, c(\"chisq\",\"tli.scaled\", \"rmsea.scaled\",\"cfi.scaled\", \"srmr\"))\n",
    "summary(cfa_2nd_corrected_2)$optim$npar\n",
    "higher.order_corrected_2"
   ]
  },
  {
   "cell_type": "code",
   "execution_count": 9,
   "id": "a24b7dc1-cd2d-4525-bdf4-6911c8d68ef1",
   "metadata": {},
   "outputs": [
    {
     "name": "stderr",
     "output_type": "stream",
     "text": [
      "Warning message:\n",
      "\"package 'BifactorIndicesCalculator' was built under R version 4.2.3\"\n"
     ]
    },
    {
     "data": {
      "text/html": [
       "<style>\n",
       ".dl-inline {width: auto; margin:0; padding: 0}\n",
       ".dl-inline>dt, .dl-inline>dd {float: none; width: auto; display: inline-block}\n",
       ".dl-inline>dt::after {content: \":\\0020\"; padding-right: .5ex}\n",
       ".dl-inline>dt:not(:first-of-type) {padding-left: .5ex}\n",
       "</style><dl class=dl-inline><dt>f1</dt><dd>0.99</dd><dt>f2</dt><dd>0.96</dd><dt>g</dt><dd>0</dd></dl>\n"
      ],
      "text/latex": [
       "\\begin{description*}\n",
       "\\item[f1] 0.99\n",
       "\\item[f2] 0.96\n",
       "\\item[g] 0\n",
       "\\end{description*}\n"
      ],
      "text/markdown": [
       "f1\n",
       ":   0.99f2\n",
       ":   0.96g\n",
       ":   0\n",
       "\n"
      ],
      "text/plain": [
       "  f1   f2    g \n",
       "0.99 0.96 0.00 "
      ]
     },
     "metadata": {},
     "output_type": "display_data"
    }
   ],
   "source": [
    "# H\n",
    "library(BifactorIndicesCalculator)\n",
    "Lambda = inspect(cfa_2nd_corrected_2, what=\"std\")$lambda\n",
    "round(H(Lambda),2)\n"
   ]
  },
  {
   "cell_type": "code",
   "execution_count": 20,
   "id": "2ed4e41e-6b2a-4c6d-946b-683f501e481b",
   "metadata": {},
   "outputs": [
    {
     "data": {
      "text/html": [
       "0.91"
      ],
      "text/latex": [
       "0.91"
      ],
      "text/markdown": [
       "0.91"
      ],
      "text/plain": [
       "[1] 0.91"
      ]
     },
     "metadata": {},
     "output_type": "display_data"
    },
    {
     "name": "stderr",
     "output_type": "stream",
     "text": [
      "For constructs with categorical indicators, Zumbo et al.`s (2007) \"ordinal alpha\" is calculated in addition to the standard alpha, which treats ordinal variables as numeric. See Chalmers (2018) for a critique of \"alpha.ord\" and the response by Zumbo & Kroc (2019). Likewise, average variance extracted is calculated from polychoric (polyserial) not Pearson correlations.\n",
      "\n",
      "\n"
     ]
    },
    {
     "data": {
      "text/html": [
       "<style>\n",
       ".dl-inline {width: auto; margin:0; padding: 0}\n",
       ".dl-inline>dt, .dl-inline>dd {float: none; width: auto; display: inline-block}\n",
       ".dl-inline>dt::after {content: \":\\0020\"; padding-right: .5ex}\n",
       ".dl-inline>dt:not(:first-of-type) {padding-left: .5ex}\n",
       "</style><dl class=dl-inline><dt>f1</dt><dd>0.85</dd><dt>f2</dt><dd>0.73</dd></dl>\n"
      ],
      "text/latex": [
       "\\begin{description*}\n",
       "\\item[f1] 0.85\n",
       "\\item[f2] 0.73\n",
       "\\end{description*}\n"
      ],
      "text/markdown": [
       "f1\n",
       ":   0.85f2\n",
       ":   0.73\n",
       "\n"
      ],
      "text/plain": [
       "  f1   f2 \n",
       "0.85 0.73 "
      ]
     },
     "metadata": {},
     "output_type": "display_data"
    }
   ],
   "source": [
    "# Omega\n",
    "library(semTools)\n",
    "round(reliabilityL2(cfa_2nd_corrected_2, \"g\"),2)[['omegaL1']]\n",
    "\n",
    "round(reliability(cfa_2nd_corrected_2),2)['omega',]\n"
   ]
  },
  {
   "cell_type": "markdown",
   "id": "a91fa691-6cb6-4bf3-b3f7-3faf73745c38",
   "metadata": {},
   "source": [
    "# wave 2"
   ]
  },
  {
   "cell_type": "code",
   "execution_count": 21,
   "id": "54d7757e-fd1b-4826-8dfc-ba205af769a2",
   "metadata": {},
   "outputs": [
    {
     "data": {
      "text/html": [
       "<table class=\"dataframe\">\n",
       "<caption>A data.frame: 2 × 14</caption>\n",
       "<thead>\n",
       "\t<tr><th></th><th scope=col>PPGM_1</th><th scope=col>PPGM_2</th><th scope=col>PPGM_3</th><th scope=col>PPGM_4</th><th scope=col>PPGM_5</th><th scope=col>PPGM_6</th><th scope=col>PPGM_7</th><th scope=col>PPGM_8</th><th scope=col>PPGM_9</th><th scope=col>PPGM_10</th><th scope=col>PPGM_11</th><th scope=col>PPGM_12</th><th scope=col>PPGM_13</th><th scope=col>PPGM_14</th></tr>\n",
       "\t<tr><th></th><th scope=col>&lt;int&gt;</th><th scope=col>&lt;int&gt;</th><th scope=col>&lt;int&gt;</th><th scope=col>&lt;int&gt;</th><th scope=col>&lt;int&gt;</th><th scope=col>&lt;int&gt;</th><th scope=col>&lt;int&gt;</th><th scope=col>&lt;int&gt;</th><th scope=col>&lt;int&gt;</th><th scope=col>&lt;int&gt;</th><th scope=col>&lt;int&gt;</th><th scope=col>&lt;int&gt;</th><th scope=col>&lt;int&gt;</th><th scope=col>&lt;int&gt;</th></tr>\n",
       "</thead>\n",
       "<tbody>\n",
       "\t<tr><th scope=row>2</th><td>0</td><td>0</td><td>0</td><td>0</td><td>0</td><td>0</td><td>0</td><td>0</td><td>0</td><td>0</td><td>0</td><td>0</td><td>0</td><td>0</td></tr>\n",
       "\t<tr><th scope=row>4</th><td>0</td><td>0</td><td>0</td><td>0</td><td>0</td><td>0</td><td>0</td><td>0</td><td>0</td><td>0</td><td>0</td><td>0</td><td>0</td><td>0</td></tr>\n",
       "</tbody>\n",
       "</table>\n"
      ],
      "text/latex": [
       "A data.frame: 2 × 14\n",
       "\\begin{tabular}{r|llllllllllllll}\n",
       "  & PPGM\\_1 & PPGM\\_2 & PPGM\\_3 & PPGM\\_4 & PPGM\\_5 & PPGM\\_6 & PPGM\\_7 & PPGM\\_8 & PPGM\\_9 & PPGM\\_10 & PPGM\\_11 & PPGM\\_12 & PPGM\\_13 & PPGM\\_14\\\\\n",
       "  & <int> & <int> & <int> & <int> & <int> & <int> & <int> & <int> & <int> & <int> & <int> & <int> & <int> & <int>\\\\\n",
       "\\hline\n",
       "\t2 & 0 & 0 & 0 & 0 & 0 & 0 & 0 & 0 & 0 & 0 & 0 & 0 & 0 & 0\\\\\n",
       "\t4 & 0 & 0 & 0 & 0 & 0 & 0 & 0 & 0 & 0 & 0 & 0 & 0 & 0 & 0\\\\\n",
       "\\end{tabular}\n"
      ],
      "text/markdown": [
       "\n",
       "A data.frame: 2 × 14\n",
       "\n",
       "| <!--/--> | PPGM_1 &lt;int&gt; | PPGM_2 &lt;int&gt; | PPGM_3 &lt;int&gt; | PPGM_4 &lt;int&gt; | PPGM_5 &lt;int&gt; | PPGM_6 &lt;int&gt; | PPGM_7 &lt;int&gt; | PPGM_8 &lt;int&gt; | PPGM_9 &lt;int&gt; | PPGM_10 &lt;int&gt; | PPGM_11 &lt;int&gt; | PPGM_12 &lt;int&gt; | PPGM_13 &lt;int&gt; | PPGM_14 &lt;int&gt; |\n",
       "|---|---|---|---|---|---|---|---|---|---|---|---|---|---|---|\n",
       "| 2 | 0 | 0 | 0 | 0 | 0 | 0 | 0 | 0 | 0 | 0 | 0 | 0 | 0 | 0 |\n",
       "| 4 | 0 | 0 | 0 | 0 | 0 | 0 | 0 | 0 | 0 | 0 | 0 | 0 | 0 | 0 |\n",
       "\n"
      ],
      "text/plain": [
       "  PPGM_1 PPGM_2 PPGM_3 PPGM_4 PPGM_5 PPGM_6 PPGM_7 PPGM_8 PPGM_9 PPGM_10\n",
       "2 0      0      0      0      0      0      0      0      0      0      \n",
       "4 0      0      0      0      0      0      0      0      0      0      \n",
       "  PPGM_11 PPGM_12 PPGM_13 PPGM_14\n",
       "2 0       0       0       0      \n",
       "4 0       0       0       0      "
      ]
     },
     "metadata": {},
     "output_type": "display_data"
    },
    {
     "data": {
      "text/html": [
       "<style>\n",
       ".list-inline {list-style: none; margin:0; padding: 0}\n",
       ".list-inline>li {display: inline-block}\n",
       ".list-inline>li:not(:last-child)::after {content: \"\\00b7\"; padding: 0 .5ex}\n",
       "</style>\n",
       "<ol class=list-inline><li>1250</li><li>14</li></ol>\n"
      ],
      "text/latex": [
       "\\begin{enumerate*}\n",
       "\\item 1250\n",
       "\\item 14\n",
       "\\end{enumerate*}\n"
      ],
      "text/markdown": [
       "1. 1250\n",
       "2. 14\n",
       "\n",
       "\n"
      ],
      "text/plain": [
       "[1] 1250   14"
      ]
     },
     "metadata": {},
     "output_type": "display_data"
    }
   ],
   "source": [
    "# import data\n",
    "library(dplyr)\n",
    "ppgm_df_csv = read.csv( '../output/ppgm_2017.csv', row = 1)\n",
    "dat = ppgm_df_csv %>% select(-subjectkey)\n",
    "head(dat,2)\n",
    "dim(dat)"
   ]
  },
  {
   "cell_type": "code",
   "execution_count": 22,
   "id": "3f6c1cdb-94bc-4c4e-8898-8dd10e7757c4",
   "metadata": {},
   "outputs": [
    {
     "name": "stderr",
     "output_type": "stream",
     "text": [
      "Warning message in lav_model_vcov(lavmodel = lavmodel, lavsamplestats = lavsamplestats, :\n",
      "\"lavaan WARNING:\n",
      "    The variance-covariance matrix of the estimated parameters (vcov)\n",
      "    does not appear to be positive definite! The smallest eigenvalue\n",
      "    (= -2.583537e-16) is smaller than zero. This may be a symptom that\n",
      "    the model is not identified.\"\n"
     ]
    },
    {
     "data": {
      "text/html": [
       "30"
      ],
      "text/latex": [
       "30"
      ],
      "text/markdown": [
       "30"
      ],
      "text/plain": [
       "[1] 30"
      ]
     },
     "metadata": {},
     "output_type": "display_data"
    },
    {
     "data": {
      "text/html": [
       "<style>\n",
       ".dl-inline {width: auto; margin:0; padding: 0}\n",
       ".dl-inline>dt, .dl-inline>dd {float: none; width: auto; display: inline-block}\n",
       ".dl-inline>dt::after {content: \":\\0020\"; padding-right: .5ex}\n",
       ".dl-inline>dt:not(:first-of-type) {padding-left: .5ex}\n",
       "</style><dl class=dl-inline><dt>chisq</dt><dd>130.892048670182</dd><dt>tli.scaled</dt><dd>0.979906899340771</dd><dt>rmsea.scaled</dt><dd>0.0223944053374601</dd><dt>cfi.scaled</dt><dd>0.983439752203932</dd><dt>srmr</dt><dd>0.0941036571620866</dd></dl>\n"
      ],
      "text/latex": [
       "\\begin{description*}\n",
       "\\item[chisq] 130.892048670182\n",
       "\\item[tli.scaled] 0.979906899340771\n",
       "\\item[rmsea.scaled] 0.0223944053374601\n",
       "\\item[cfi.scaled] 0.983439752203932\n",
       "\\item[srmr] 0.0941036571620866\n",
       "\\end{description*}\n"
      ],
      "text/markdown": [
       "chisq\n",
       ":   130.892048670182tli.scaled\n",
       ":   0.979906899340771rmsea.scaled\n",
       ":   0.0223944053374601cfi.scaled\n",
       ":   0.983439752203932srmr\n",
       ":   0.0941036571620866\n",
       "\n"
      ],
      "text/plain": [
       "       chisq   tli.scaled rmsea.scaled   cfi.scaled         srmr \n",
       "     130.892        0.980        0.022        0.983        0.094 "
      ]
     },
     "metadata": {},
     "output_type": "display_data"
    }
   ],
   "source": [
    "# specify models\n",
    "library(lavaan)\n",
    "\n",
    "mod_secondOrder_corr_2 <- \"\n",
    "f1 =~ PPGM_1 + PPGM_2 + PPGM_3 + PPGM_4 + PPGM_5 + PPGM_6 + PPGM_7\n",
    "f2 =~ PPGM_8 + PPGM_9 + PPGM_10 + PPGM_11 + PPGM_12 + PPGM_13 + PPGM_14\n",
    "g =~ 1*f1 + 1*f2\n",
    "f1 ~~ 0*f2\n",
    "\n",
    "PPGM_7 ~~ PPGM_11\n",
    "\"\n",
    "\n",
    "cfa_2nd_corrected_2 <- lavaan::cfa(model = mod_secondOrder_corr_2, data=dat, ordered =T, estimator = 'WLSMV')\n",
    "higher.order_corrected_2 = fitMeasures(cfa_2nd_corrected_2, c(\"chisq\",\"tli.scaled\", \"rmsea.scaled\",\"cfi.scaled\", \"srmr\"))\n",
    "summary(cfa_2nd_corrected_2)$optim$npar\n",
    "higher.order_corrected_2"
   ]
  },
  {
   "cell_type": "code",
   "execution_count": 23,
   "id": "2197dffc-11ee-4174-8586-0916c1fd6e2b",
   "metadata": {},
   "outputs": [
    {
     "data": {
      "text/html": [
       "<style>\n",
       ".dl-inline {width: auto; margin:0; padding: 0}\n",
       ".dl-inline>dt, .dl-inline>dd {float: none; width: auto; display: inline-block}\n",
       ".dl-inline>dt::after {content: \":\\0020\"; padding-right: .5ex}\n",
       ".dl-inline>dt:not(:first-of-type) {padding-left: .5ex}\n",
       "</style><dl class=dl-inline><dt>f1</dt><dd>0.98</dd><dt>f2</dt><dd>0.95</dd><dt>g</dt><dd>0</dd></dl>\n"
      ],
      "text/latex": [
       "\\begin{description*}\n",
       "\\item[f1] 0.98\n",
       "\\item[f2] 0.95\n",
       "\\item[g] 0\n",
       "\\end{description*}\n"
      ],
      "text/markdown": [
       "f1\n",
       ":   0.98f2\n",
       ":   0.95g\n",
       ":   0\n",
       "\n"
      ],
      "text/plain": [
       "  f1   f2    g \n",
       "0.98 0.95 0.00 "
      ]
     },
     "metadata": {},
     "output_type": "display_data"
    }
   ],
   "source": [
    "# H\n",
    "library(BifactorIndicesCalculator)\n",
    "Lambda = inspect(cfa_2nd_corrected_2, what=\"std\")$lambda\n",
    "round(H(Lambda),2)\n"
   ]
  },
  {
   "cell_type": "code",
   "execution_count": 24,
   "id": "b181d1d5-8d2f-462e-8ab9-14fdb9b7b956",
   "metadata": {},
   "outputs": [
    {
     "data": {
      "text/html": [
       "0.82"
      ],
      "text/latex": [
       "0.82"
      ],
      "text/markdown": [
       "0.82"
      ],
      "text/plain": [
       "[1] 0.82"
      ]
     },
     "metadata": {},
     "output_type": "display_data"
    },
    {
     "name": "stderr",
     "output_type": "stream",
     "text": [
      "For constructs with categorical indicators, Zumbo et al.`s (2007) \"ordinal alpha\" is calculated in addition to the standard alpha, which treats ordinal variables as numeric. See Chalmers (2018) for a critique of \"alpha.ord\" and the response by Zumbo & Kroc (2019). Likewise, average variance extracted is calculated from polychoric (polyserial) not Pearson correlations.\n",
      "\n",
      "\n"
     ]
    },
    {
     "data": {
      "text/html": [
       "<style>\n",
       ".dl-inline {width: auto; margin:0; padding: 0}\n",
       ".dl-inline>dt, .dl-inline>dd {float: none; width: auto; display: inline-block}\n",
       ".dl-inline>dt::after {content: \":\\0020\"; padding-right: .5ex}\n",
       ".dl-inline>dt:not(:first-of-type) {padding-left: .5ex}\n",
       "</style><dl class=dl-inline><dt>f1</dt><dd>0.72</dd><dt>f2</dt><dd>0.65</dd></dl>\n"
      ],
      "text/latex": [
       "\\begin{description*}\n",
       "\\item[f1] 0.72\n",
       "\\item[f2] 0.65\n",
       "\\end{description*}\n"
      ],
      "text/markdown": [
       "f1\n",
       ":   0.72f2\n",
       ":   0.65\n",
       "\n"
      ],
      "text/plain": [
       "  f1   f2 \n",
       "0.72 0.65 "
      ]
     },
     "metadata": {},
     "output_type": "display_data"
    }
   ],
   "source": [
    "# Omega\n",
    "library(semTools)\n",
    "round(reliabilityL2(cfa_2nd_corrected_2, \"g\"),2)[['omegaL1']]\n",
    "\n",
    "round(reliability(cfa_2nd_corrected_2),2)['omega',]\n"
   ]
  },
  {
   "cell_type": "code",
   "execution_count": null,
   "id": "5b74602e-5bfa-4bee-ab04-b151e56b311b",
   "metadata": {},
   "outputs": [],
   "source": []
  }
 ],
 "metadata": {
  "kernelspec": {
   "display_name": "R",
   "language": "R",
   "name": "ir"
  },
  "language_info": {
   "codemirror_mode": "r",
   "file_extension": ".r",
   "mimetype": "text/x-r-source",
   "name": "R",
   "pygments_lexer": "r",
   "version": "4.2.2"
  }
 },
 "nbformat": 4,
 "nbformat_minor": 5
}
