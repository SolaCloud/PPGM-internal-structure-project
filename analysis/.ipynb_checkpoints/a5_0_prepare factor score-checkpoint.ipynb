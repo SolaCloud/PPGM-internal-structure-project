{
 "cells": [
  {
   "cell_type": "markdown",
   "id": "c03ae444-51f6-4075-b351-67b35921a1a8",
   "metadata": {},
   "source": [
    "# wave 1"
   ]
  },
  {
   "cell_type": "code",
   "execution_count": 1,
   "id": "eec81f58-ff09-4377-99ba-ff44d6ac62ae",
   "metadata": {},
   "outputs": [
    {
     "name": "stderr",
     "output_type": "stream",
     "text": [
      "Warning message:\n",
      "\"package 'dplyr' was built under R version 4.2.3\"\n",
      "\n",
      "Attaching package: 'dplyr'\n",
      "\n",
      "\n",
      "The following objects are masked from 'package:stats':\n",
      "\n",
      "    filter, lag\n",
      "\n",
      "\n",
      "The following objects are masked from 'package:base':\n",
      "\n",
      "    intersect, setdiff, setequal, union\n",
      "\n",
      "\n"
     ]
    },
    {
     "data": {
      "text/html": [
       "<table class=\"dataframe\">\n",
       "<caption>A data.frame: 2 × 14</caption>\n",
       "<thead>\n",
       "\t<tr><th></th><th scope=col>PPGM_1</th><th scope=col>PPGM_2</th><th scope=col>PPGM_3</th><th scope=col>PPGM_4</th><th scope=col>PPGM_5</th><th scope=col>PPGM_6</th><th scope=col>PPGM_7</th><th scope=col>PPGM_8</th><th scope=col>PPGM_9</th><th scope=col>PPGM_10</th><th scope=col>PPGM_11</th><th scope=col>PPGM_12</th><th scope=col>PPGM_13</th><th scope=col>PPGM_14</th></tr>\n",
       "\t<tr><th></th><th scope=col>&lt;int&gt;</th><th scope=col>&lt;int&gt;</th><th scope=col>&lt;int&gt;</th><th scope=col>&lt;int&gt;</th><th scope=col>&lt;int&gt;</th><th scope=col>&lt;int&gt;</th><th scope=col>&lt;int&gt;</th><th scope=col>&lt;int&gt;</th><th scope=col>&lt;int&gt;</th><th scope=col>&lt;int&gt;</th><th scope=col>&lt;int&gt;</th><th scope=col>&lt;int&gt;</th><th scope=col>&lt;int&gt;</th><th scope=col>&lt;int&gt;</th></tr>\n",
       "</thead>\n",
       "<tbody>\n",
       "\t<tr><th scope=row>1</th><td>0</td><td>0</td><td>0</td><td>0</td><td>0</td><td>0</td><td>0</td><td>0</td><td>0</td><td>0</td><td>0</td><td>0</td><td>0</td><td>0</td></tr>\n",
       "\t<tr><th scope=row>2</th><td>0</td><td>0</td><td>0</td><td>0</td><td>0</td><td>0</td><td>0</td><td>0</td><td>0</td><td>0</td><td>0</td><td>0</td><td>0</td><td>0</td></tr>\n",
       "</tbody>\n",
       "</table>\n"
      ],
      "text/latex": [
       "A data.frame: 2 × 14\n",
       "\\begin{tabular}{r|llllllllllllll}\n",
       "  & PPGM\\_1 & PPGM\\_2 & PPGM\\_3 & PPGM\\_4 & PPGM\\_5 & PPGM\\_6 & PPGM\\_7 & PPGM\\_8 & PPGM\\_9 & PPGM\\_10 & PPGM\\_11 & PPGM\\_12 & PPGM\\_13 & PPGM\\_14\\\\\n",
       "  & <int> & <int> & <int> & <int> & <int> & <int> & <int> & <int> & <int> & <int> & <int> & <int> & <int> & <int>\\\\\n",
       "\\hline\n",
       "\t1 & 0 & 0 & 0 & 0 & 0 & 0 & 0 & 0 & 0 & 0 & 0 & 0 & 0 & 0\\\\\n",
       "\t2 & 0 & 0 & 0 & 0 & 0 & 0 & 0 & 0 & 0 & 0 & 0 & 0 & 0 & 0\\\\\n",
       "\\end{tabular}\n"
      ],
      "text/markdown": [
       "\n",
       "A data.frame: 2 × 14\n",
       "\n",
       "| <!--/--> | PPGM_1 &lt;int&gt; | PPGM_2 &lt;int&gt; | PPGM_3 &lt;int&gt; | PPGM_4 &lt;int&gt; | PPGM_5 &lt;int&gt; | PPGM_6 &lt;int&gt; | PPGM_7 &lt;int&gt; | PPGM_8 &lt;int&gt; | PPGM_9 &lt;int&gt; | PPGM_10 &lt;int&gt; | PPGM_11 &lt;int&gt; | PPGM_12 &lt;int&gt; | PPGM_13 &lt;int&gt; | PPGM_14 &lt;int&gt; |\n",
       "|---|---|---|---|---|---|---|---|---|---|---|---|---|---|---|\n",
       "| 1 | 0 | 0 | 0 | 0 | 0 | 0 | 0 | 0 | 0 | 0 | 0 | 0 | 0 | 0 |\n",
       "| 2 | 0 | 0 | 0 | 0 | 0 | 0 | 0 | 0 | 0 | 0 | 0 | 0 | 0 | 0 |\n",
       "\n"
      ],
      "text/plain": [
       "  PPGM_1 PPGM_2 PPGM_3 PPGM_4 PPGM_5 PPGM_6 PPGM_7 PPGM_8 PPGM_9 PPGM_10\n",
       "1 0      0      0      0      0      0      0      0      0      0      \n",
       "2 0      0      0      0      0      0      0      0      0      0      \n",
       "  PPGM_11 PPGM_12 PPGM_13 PPGM_14\n",
       "1 0       0       0       0      \n",
       "2 0       0       0       0      "
      ]
     },
     "metadata": {},
     "output_type": "display_data"
    },
    {
     "data": {
      "text/html": [
       "<style>\n",
       ".list-inline {list-style: none; margin:0; padding: 0}\n",
       ".list-inline>li {display: inline-block}\n",
       ".list-inline>li:not(:last-child)::after {content: \"\\00b7\"; padding: 0 .5ex}\n",
       "</style>\n",
       "<ol class=list-inline><li>3218</li><li>14</li></ol>\n"
      ],
      "text/latex": [
       "\\begin{enumerate*}\n",
       "\\item 3218\n",
       "\\item 14\n",
       "\\end{enumerate*}\n"
      ],
      "text/markdown": [
       "1. 3218\n",
       "2. 14\n",
       "\n",
       "\n"
      ],
      "text/plain": [
       "[1] 3218   14"
      ]
     },
     "metadata": {},
     "output_type": "display_data"
    }
   ],
   "source": [
    "library(dplyr)\n",
    "ppgm_df_csv = read.csv( '../output/data_cleaned/ppgm_2016.csv', row = 1)\n",
    "subjectkey_w1 = ppgm_df_csv$subjectkey\n",
    "dat = ppgm_df_csv %>% select(-subjectkey)\n",
    "head(dat,2)\n",
    "dim(dat)"
   ]
  },
  {
   "cell_type": "code",
   "execution_count": 2,
   "id": "6df16690-43f7-44a8-a8b3-dc3e78ab78f7",
   "metadata": {},
   "outputs": [
    {
     "name": "stderr",
     "output_type": "stream",
     "text": [
      "Warning message:\n",
      "\"package 'lavaan' was built under R version 4.2.3\"\n",
      "This is lavaan 0.6-15\n",
      "lavaan is FREE software! Please report any bugs.\n",
      "\n"
     ]
    }
   ],
   "source": [
    "# specify models\n",
    "library(lavaan)\n",
    "# general factor model\n",
    "mod_1 <- \"\n",
    "f1 =~ PPGM_1 + PPGM_2 + PPGM_3 + PPGM_4 + PPGM_5 + PPGM_6 + PPGM_7 + PPGM_8 + PPGM_9 + PPGM_10 + PPGM_11 + PPGM_12 + PPGM_13 + PPGM_14\n",
    "\"\n",
    "\n",
    "# correlated factor model (k=2）\n",
    "mod_2 <- \"\n",
    "f1 =~ PPGM_1 + PPGM_2 + PPGM_3 + PPGM_4 + PPGM_5 + PPGM_6 + PPGM_7\n",
    "f2 =~ PPGM_8 + PPGM_9 + PPGM_10 + PPGM_11 + PPGM_12 + PPGM_13 + PPGM_14\n",
    "f1 ~~ f2\n",
    "\"\n",
    "\n",
    "# correlated factor model (k=3）\n",
    "mod_3 <- \"\n",
    "f1 =~ PPGM_1 + PPGM_2 + PPGM_3 + PPGM_4 + PPGM_5 + PPGM_6 + PPGM_7\n",
    "f2 =~ PPGM_8 + PPGM_9 + PPGM_10 + PPGM_11 \n",
    "f3 =~ PPGM_12 + PPGM_13 + PPGM_14\n",
    "f1 ~~ f2\n",
    "f1 ~~ f3\n",
    "f2 ~~ f3\n",
    "\"\n",
    "\n",
    "mod_bifactor <- \"\n",
    "f1 =~ PPGM_1 + PPGM_2 + PPGM_3 + PPGM_4 + PPGM_5 + PPGM_6 + PPGM_7\n",
    "f2 =~ PPGM_8 + PPGM_9 + PPGM_10 + PPGM_11 + PPGM_12 + PPGM_13 + PPGM_14\n",
    "g =~ PPGM_1 + PPGM_2 + PPGM_3 + PPGM_4 + PPGM_5 + PPGM_6 + PPGM_7 + PPGM_8 + PPGM_9 + PPGM_10 + PPGM_11 + PPGM_12 + PPGM_13 + PPGM_14 \n",
    "g ~~ 0*f1\n",
    "g ~~ 0*f2\n",
    "f1 ~~ 0*f2\n",
    "\n",
    "PPGM_1 ~~ a*PPGM_1\n",
    "PPGM_2 ~~ b*PPGM_2\n",
    "PPGM_3 ~~ c*PPGM_3\n",
    "PPGM_4 ~~ d*PPGM_4\n",
    "PPGM_5 ~~ e*PPGM_5\n",
    "PPGM_6 ~~ f*PPGM_6\n",
    "PPGM_7 ~~ g*PPGM_7\n",
    "PPGM_8 ~~ h*PPGM_8\n",
    "PPGM_9 ~~ i*PPGM_9\n",
    "PPGM_10 ~~ j*PPGM_10\n",
    "PPGM_11 ~~ k*PPGM_11\n",
    "PPGM_12 ~~ l*PPGM_12\n",
    "PPGM_13 ~~ m*PPGM_13\n",
    "PPGM_14 ~~ n*PPGM_14\n",
    "\n",
    "a>0\n",
    "b>0\n",
    "c>0\n",
    "d>0\n",
    "e>0\n",
    "f>0\n",
    "g>0\n",
    "h>0\n",
    "i>0\n",
    "j>0\n",
    "k>0\n",
    "l>0\n",
    "m>0\n",
    "n>0\n",
    "\n",
    "\"\n",
    "\n",
    "mod_2_re <- \"\n",
    "f1 =~ PPGM_1 + PPGM_2 + PPGM_3 + PPGM_4 + PPGM_5 + PPGM_6 + PPGM_7\n",
    "f2 =~ PPGM_8 + PPGM_9 + PPGM_10 + PPGM_11 + PPGM_12 + PPGM_13 + PPGM_14\n",
    "f1 ~~ f2\n",
    "\n",
    "PPGM_7 ~~ PPGM_11\n",
    "\""
   ]
  },
  {
   "cell_type": "code",
   "execution_count": 3,
   "id": "18d5d958-5576-412f-ba4c-f6d36b15da51",
   "metadata": {},
   "outputs": [
    {
     "name": "stderr",
     "output_type": "stream",
     "text": [
      "Warning message in lav_model_vcov(lavmodel = lavmodel, lavsamplestats = lavsamplestats, :\n",
      "\"lavaan WARNING:\n",
      "    The variance-covariance matrix of the estimated parameters (vcov)\n",
      "    does not appear to be positive definite! The smallest eigenvalue\n",
      "    (= -1.193063e-14) is smaller than zero. This may be a symptom that\n",
      "    the model is not identified.\"\n"
     ]
    }
   ],
   "source": [
    "cfa_1 <- lavaan::cfa(model = mod_1, data=dat, ordered =T, estimator = 'WLSMV')\n",
    "cfa_2 <- lavaan::cfa(model = mod_2, data=dat, ordered =T, estimator = 'WLSMV')\n",
    "cfa_3 <- lavaan::cfa(model = mod_3, data=dat, ordered =T, estimator = 'WLSMV')\n",
    "cfa_bi <- lavaan::cfa(model = mod_bifactor, data=dat, ordered =T, estimator = 'WLSMV',parameterization='theta')\n",
    "\n",
    "cfa_2_re <- lavaan::cfa(model = mod_2_re, data=dat, ordered =T, estimator = 'WLSMV')"
   ]
  },
  {
   "cell_type": "code",
   "execution_count": 4,
   "id": "4929971d-66b8-4a74-9759-291b51574e27",
   "metadata": {},
   "outputs": [],
   "source": [
    "# factor score for wave 1\n",
    "single.factor = as.data.frame(lavPredict(cfa_1))$f1\n",
    "\n",
    "two.factor.f1 = as.data.frame(lavPredict(cfa_2))$f1\n",
    "two.factor.f2 = as.data.frame(lavPredict(cfa_2))$f2\n",
    "\n",
    "three.factor.f1 = as.data.frame(lavPredict(cfa_3))$f1\n",
    "three.factor.f2 = as.data.frame(lavPredict(cfa_3))$f2\n",
    "three.factor.f3 = as.data.frame(lavPredict(cfa_3))$f3\n",
    "\n",
    "bifactor.f1 = as.data.frame(lavPredict(cfa_bi))$f1\n",
    "bifactor.f2 = as.data.frame(lavPredict(cfa_bi))$f2\n",
    "bifactor.g = as.data.frame(lavPredict(cfa_bi))$g\n",
    "\n",
    "two.factor.re.f1 = as.data.frame(lavPredict(cfa_2_re))$f1\n",
    "two.factor.re.f2 = as.data.frame(lavPredict(cfa_2_re))$f2\n",
    "\n",
    "score_w1 = data.frame(subjectkey_w1, \n",
    "                      single.factor, \n",
    "                      two.factor.f1, two.factor.f2,   \n",
    "                      bifactor.f1, bifactor.f2, bifactor.g,\n",
    "                      two.factor.re.f1, two.factor.re.f2,\n",
    "                      three.factor.f1, three.factor.f2, three.factor.f3)\n",
    "\n",
    "write.csv(score_w1, '../output/data_cleaned/model_scores_w1.csv')"
   ]
  },
  {
   "cell_type": "markdown",
   "id": "d26e053a-e166-4684-aae3-93d2c78a4c02",
   "metadata": {},
   "source": [
    "# wave 2"
   ]
  },
  {
   "cell_type": "code",
   "execution_count": 5,
   "id": "c9c9ad2e-19eb-487d-833c-2f0cb1b3027a",
   "metadata": {},
   "outputs": [
    {
     "data": {
      "text/html": [
       "<table class=\"dataframe\">\n",
       "<caption>A data.frame: 2 × 14</caption>\n",
       "<thead>\n",
       "\t<tr><th></th><th scope=col>PPGM_1</th><th scope=col>PPGM_2</th><th scope=col>PPGM_3</th><th scope=col>PPGM_4</th><th scope=col>PPGM_5</th><th scope=col>PPGM_6</th><th scope=col>PPGM_7</th><th scope=col>PPGM_8</th><th scope=col>PPGM_9</th><th scope=col>PPGM_10</th><th scope=col>PPGM_11</th><th scope=col>PPGM_12</th><th scope=col>PPGM_13</th><th scope=col>PPGM_14</th></tr>\n",
       "\t<tr><th></th><th scope=col>&lt;int&gt;</th><th scope=col>&lt;int&gt;</th><th scope=col>&lt;int&gt;</th><th scope=col>&lt;int&gt;</th><th scope=col>&lt;int&gt;</th><th scope=col>&lt;int&gt;</th><th scope=col>&lt;int&gt;</th><th scope=col>&lt;int&gt;</th><th scope=col>&lt;int&gt;</th><th scope=col>&lt;int&gt;</th><th scope=col>&lt;int&gt;</th><th scope=col>&lt;int&gt;</th><th scope=col>&lt;int&gt;</th><th scope=col>&lt;int&gt;</th></tr>\n",
       "</thead>\n",
       "<tbody>\n",
       "\t<tr><th scope=row>2</th><td>0</td><td>0</td><td>0</td><td>0</td><td>0</td><td>0</td><td>0</td><td>0</td><td>0</td><td>0</td><td>0</td><td>0</td><td>0</td><td>0</td></tr>\n",
       "\t<tr><th scope=row>4</th><td>0</td><td>0</td><td>0</td><td>0</td><td>0</td><td>0</td><td>0</td><td>0</td><td>0</td><td>0</td><td>0</td><td>0</td><td>0</td><td>0</td></tr>\n",
       "</tbody>\n",
       "</table>\n"
      ],
      "text/latex": [
       "A data.frame: 2 × 14\n",
       "\\begin{tabular}{r|llllllllllllll}\n",
       "  & PPGM\\_1 & PPGM\\_2 & PPGM\\_3 & PPGM\\_4 & PPGM\\_5 & PPGM\\_6 & PPGM\\_7 & PPGM\\_8 & PPGM\\_9 & PPGM\\_10 & PPGM\\_11 & PPGM\\_12 & PPGM\\_13 & PPGM\\_14\\\\\n",
       "  & <int> & <int> & <int> & <int> & <int> & <int> & <int> & <int> & <int> & <int> & <int> & <int> & <int> & <int>\\\\\n",
       "\\hline\n",
       "\t2 & 0 & 0 & 0 & 0 & 0 & 0 & 0 & 0 & 0 & 0 & 0 & 0 & 0 & 0\\\\\n",
       "\t4 & 0 & 0 & 0 & 0 & 0 & 0 & 0 & 0 & 0 & 0 & 0 & 0 & 0 & 0\\\\\n",
       "\\end{tabular}\n"
      ],
      "text/markdown": [
       "\n",
       "A data.frame: 2 × 14\n",
       "\n",
       "| <!--/--> | PPGM_1 &lt;int&gt; | PPGM_2 &lt;int&gt; | PPGM_3 &lt;int&gt; | PPGM_4 &lt;int&gt; | PPGM_5 &lt;int&gt; | PPGM_6 &lt;int&gt; | PPGM_7 &lt;int&gt; | PPGM_8 &lt;int&gt; | PPGM_9 &lt;int&gt; | PPGM_10 &lt;int&gt; | PPGM_11 &lt;int&gt; | PPGM_12 &lt;int&gt; | PPGM_13 &lt;int&gt; | PPGM_14 &lt;int&gt; |\n",
       "|---|---|---|---|---|---|---|---|---|---|---|---|---|---|---|\n",
       "| 2 | 0 | 0 | 0 | 0 | 0 | 0 | 0 | 0 | 0 | 0 | 0 | 0 | 0 | 0 |\n",
       "| 4 | 0 | 0 | 0 | 0 | 0 | 0 | 0 | 0 | 0 | 0 | 0 | 0 | 0 | 0 |\n",
       "\n"
      ],
      "text/plain": [
       "  PPGM_1 PPGM_2 PPGM_3 PPGM_4 PPGM_5 PPGM_6 PPGM_7 PPGM_8 PPGM_9 PPGM_10\n",
       "2 0      0      0      0      0      0      0      0      0      0      \n",
       "4 0      0      0      0      0      0      0      0      0      0      \n",
       "  PPGM_11 PPGM_12 PPGM_13 PPGM_14\n",
       "2 0       0       0       0      \n",
       "4 0       0       0       0      "
      ]
     },
     "metadata": {},
     "output_type": "display_data"
    },
    {
     "data": {
      "text/html": [
       "<style>\n",
       ".list-inline {list-style: none; margin:0; padding: 0}\n",
       ".list-inline>li {display: inline-block}\n",
       ".list-inline>li:not(:last-child)::after {content: \"\\00b7\"; padding: 0 .5ex}\n",
       "</style>\n",
       "<ol class=list-inline><li>1250</li><li>14</li></ol>\n"
      ],
      "text/latex": [
       "\\begin{enumerate*}\n",
       "\\item 1250\n",
       "\\item 14\n",
       "\\end{enumerate*}\n"
      ],
      "text/markdown": [
       "1. 1250\n",
       "2. 14\n",
       "\n",
       "\n"
      ],
      "text/plain": [
       "[1] 1250   14"
      ]
     },
     "metadata": {},
     "output_type": "display_data"
    }
   ],
   "source": [
    "library(dplyr)\n",
    "ppgm_df_csv = read.csv( '../output/data_cleaned/ppgm_2017.csv', row = 1)\n",
    "subjectkey_w2 = ppgm_df_csv$subjectkey\n",
    "dat = ppgm_df_csv %>% select(-subjectkey)\n",
    "head(dat,2)\n",
    "dim(dat)"
   ]
  },
  {
   "cell_type": "code",
   "execution_count": 6,
   "id": "3d89982b-c215-4b00-a036-c26e16f9cc55",
   "metadata": {},
   "outputs": [],
   "source": [
    "# e>0.0001: or it will be a negative number near 0; to estimate se, the item 7 and 11 residuals are correlated\n",
    "mod_bifactor <- \"\n",
    "f1 =~ PPGM_1 + PPGM_2 + PPGM_3 + PPGM_4 + PPGM_5 + PPGM_6 + PPGM_7\n",
    "f2 =~ PPGM_8 + PPGM_9 + PPGM_10 + PPGM_11 + PPGM_12 + PPGM_13 + PPGM_14\n",
    "g =~ PPGM_1 + PPGM_2 + PPGM_3 + PPGM_4 + PPGM_5 + PPGM_6 + PPGM_7 + PPGM_8 + PPGM_9 + PPGM_10 + PPGM_11 + PPGM_12 + PPGM_13 + PPGM_14 \n",
    "g ~~ 0*f1\n",
    "g ~~ 0*f2\n",
    "f1 ~~ 0*f2\n",
    "\n",
    "PPGM_7 ~~ PPGM_11\n",
    "\n",
    "PPGM_1 ~~ a*PPGM_1\n",
    "PPGM_2 ~~ b*PPGM_2\n",
    "PPGM_3 ~~ c*PPGM_3\n",
    "PPGM_4 ~~ d*PPGM_4\n",
    "PPGM_5 ~~ e*PPGM_5\n",
    "PPGM_6 ~~ f*PPGM_6\n",
    "PPGM_7 ~~ g*PPGM_7\n",
    "PPGM_8 ~~ h*PPGM_8\n",
    "PPGM_9 ~~ i*PPGM_9\n",
    "PPGM_10 ~~ j*PPGM_10\n",
    "PPGM_11 ~~ k*PPGM_11\n",
    "PPGM_12 ~~ l*PPGM_12\n",
    "PPGM_13 ~~ m*PPGM_13\n",
    "PPGM_14 ~~ n*PPGM_14\n",
    "a>0\n",
    "b>0\n",
    "c>0\n",
    "d>0\n",
    "e>0.0001\n",
    "f>0\n",
    "g>0\n",
    "h>0\n",
    "i>0\n",
    "j>0\n",
    "k>0\n",
    "l>0\n",
    "m>0\n",
    "n>0\n",
    "\""
   ]
  },
  {
   "cell_type": "code",
   "execution_count": 7,
   "id": "4d022f51-9878-423a-ba74-cfd530ec0f22",
   "metadata": {},
   "outputs": [
    {
     "name": "stderr",
     "output_type": "stream",
     "text": [
      "Warning message in lav_model_vcov(lavmodel = lavmodel, lavsamplestats = lavsamplestats, :\n",
      "\"lavaan WARNING:\n",
      "    The variance-covariance matrix of the estimated parameters (vcov)\n",
      "    does not appear to be positive definite! The smallest eigenvalue\n",
      "    (= -4.196412e-16) is smaller than zero. This may be a symptom that\n",
      "    the model is not identified.\"\n",
      "Warning message in lav_model_vcov(lavmodel = lavmodel, lavsamplestats = lavsamplestats, :\n",
      "\"lavaan WARNING:\n",
      "    The variance-covariance matrix of the estimated parameters (vcov)\n",
      "    does not appear to be positive definite! The smallest eigenvalue\n",
      "    (= -5.690238e-16) is smaller than zero. This may be a symptom that\n",
      "    the model is not identified.\"\n",
      "Warning message in lav_model_vcov(lavmodel = lavmodel, lavsamplestats = lavsamplestats, :\n",
      "\"lavaan WARNING:\n",
      "    The variance-covariance matrix of the estimated parameters (vcov)\n",
      "    does not appear to be positive definite! The smallest eigenvalue\n",
      "    (= -5.986457e-16) is smaller than zero. This may be a symptom that\n",
      "    the model is not identified.\"\n",
      "Warning message in lav_model_vcov(lavmodel = lavmodel, lavsamplestats = lavsamplestats, :\n",
      "\"lavaan WARNING:\n",
      "    The variance-covariance matrix of the estimated parameters (vcov)\n",
      "    does not appear to be positive definite! The smallest eigenvalue\n",
      "    (= -3.089360e-14) is smaller than zero. This may be a symptom that\n",
      "    the model is not identified.\"\n",
      "Warning message in lav_model_vcov(lavmodel = lavmodel, lavsamplestats = lavsamplestats, :\n",
      "\"lavaan WARNING:\n",
      "    The variance-covariance matrix of the estimated parameters (vcov)\n",
      "    does not appear to be positive definite! The smallest eigenvalue\n",
      "    (= -3.441939e-16) is smaller than zero. This may be a symptom that\n",
      "    the model is not identified.\"\n"
     ]
    }
   ],
   "source": [
    "cfa_1 <- lavaan::cfa(model = mod_1, data=dat, ordered =T, estimator = 'WLSMV')\n",
    "cfa_2 <- lavaan::cfa(model = mod_2, data=dat, ordered =T, estimator = 'WLSMV')\n",
    "cfa_3 <- lavaan::cfa(model = mod_3, data=dat, ordered =T, estimator = 'WLSMV')\n",
    "cfa_bi <- lavaan::cfa(model = mod_bifactor, data=dat, ordered =T, estimator = 'WLSMV',parameterization='theta')\n",
    "\n",
    "cfa_2_re <- lavaan::cfa(model = mod_2_re, data=dat, ordered =T, estimator = 'WLSMV')"
   ]
  },
  {
   "cell_type": "code",
   "execution_count": 8,
   "id": "8d17ad3f-6fef-45af-9085-c24f8006cba3",
   "metadata": {},
   "outputs": [],
   "source": [
    "# factor score for wave 2\n",
    "single.factor = as.data.frame(lavPredict(cfa_1))$f1\n",
    "\n",
    "two.factor.f1 = as.data.frame(lavPredict(cfa_2))$f1\n",
    "two.factor.f2 = as.data.frame(lavPredict(cfa_2))$f2\n",
    "\n",
    "three.factor.f1 = as.data.frame(lavPredict(cfa_3))$f1\n",
    "three.factor.f2 = as.data.frame(lavPredict(cfa_3))$f2\n",
    "three.factor.f3 = as.data.frame(lavPredict(cfa_3))$f3\n",
    "\n",
    "bifactor.f1 = as.data.frame(lavPredict(cfa_bi))$f1\n",
    "bifactor.f2 = as.data.frame(lavPredict(cfa_bi))$f2\n",
    "bifactor.g = as.data.frame(lavPredict(cfa_bi))$g\n",
    "\n",
    "two.factor.re.f1 = as.data.frame(lavPredict(cfa_2_re))$f1\n",
    "two.factor.re.f2 = as.data.frame(lavPredict(cfa_2_re))$f2\n",
    "\n",
    "\n",
    "score_w2 = data.frame(subjectkey_w2, \n",
    "                      single.factor, \n",
    "                      two.factor.f1, two.factor.f2,   \n",
    "                      bifactor.f1, bifactor.f2, bifactor.g,\n",
    "                      two.factor.re.f1, two.factor.re.f2,\n",
    "                      three.factor.f1, three.factor.f2, three.factor.f3)\n",
    "\n",
    "write.csv(score_w2, '../output/data_cleaned/model_scores_w2.csv')"
   ]
  },
  {
   "cell_type": "code",
   "execution_count": null,
   "id": "49504dfd-05fe-4c6a-98fb-37ac935b9948",
   "metadata": {},
   "outputs": [],
   "source": []
  }
 ],
 "metadata": {
  "kernelspec": {
   "display_name": "R",
   "language": "R",
   "name": "ir"
  },
  "language_info": {
   "codemirror_mode": "r",
   "file_extension": ".r",
   "mimetype": "text/x-r-source",
   "name": "R",
   "pygments_lexer": "r",
   "version": "4.2.2"
  }
 },
 "nbformat": 4,
 "nbformat_minor": 5
}
