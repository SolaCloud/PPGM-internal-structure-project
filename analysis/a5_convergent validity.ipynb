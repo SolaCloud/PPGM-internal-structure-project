{
 "cells": [
  {
   "cell_type": "code",
   "execution_count": 1,
   "id": "81d64cad-909a-49d7-b425-bb7d2dc2b1ac",
   "metadata": {},
   "outputs": [
    {
     "name": "stderr",
     "output_type": "stream",
     "text": [
      "Warning message:\n",
      "\"package 'tidyverse' was built under R version 4.2.3\"\n",
      "Warning message:\n",
      "\"package 'ggplot2' was built under R version 4.2.3\"\n",
      "Warning message:\n",
      "\"package 'tibble' was built under R version 4.2.3\"\n",
      "Warning message:\n",
      "\"package 'readr' was built under R version 4.2.3\"\n",
      "Warning message:\n",
      "\"package 'dplyr' was built under R version 4.2.3\"\n",
      "── \u001b[1mAttaching core tidyverse packages\u001b[22m ──────────────────────── tidyverse 2.0.0 ──\n",
      "\u001b[32m✔\u001b[39m \u001b[34mdplyr    \u001b[39m 1.1.1     \u001b[32m✔\u001b[39m \u001b[34mreadr    \u001b[39m 2.1.4\n",
      "\u001b[32m✔\u001b[39m \u001b[34mforcats  \u001b[39m 1.0.0     \u001b[32m✔\u001b[39m \u001b[34mstringr  \u001b[39m 1.5.0\n",
      "\u001b[32m✔\u001b[39m \u001b[34mggplot2  \u001b[39m 3.4.4     \u001b[32m✔\u001b[39m \u001b[34mtibble   \u001b[39m 3.2.1\n",
      "\u001b[32m✔\u001b[39m \u001b[34mlubridate\u001b[39m 1.9.2     \u001b[32m✔\u001b[39m \u001b[34mtidyr    \u001b[39m 1.3.0\n",
      "\u001b[32m✔\u001b[39m \u001b[34mpurrr    \u001b[39m 1.0.1     \n",
      "── \u001b[1mConflicts\u001b[22m ────────────────────────────────────────── tidyverse_conflicts() ──\n",
      "\u001b[31m✖\u001b[39m \u001b[34mdplyr\u001b[39m::\u001b[32mfilter()\u001b[39m masks \u001b[34mstats\u001b[39m::filter()\n",
      "\u001b[31m✖\u001b[39m \u001b[34mdplyr\u001b[39m::\u001b[32mlag()\u001b[39m    masks \u001b[34mstats\u001b[39m::lag()\n",
      "\u001b[36mℹ\u001b[39m Use the conflicted package (\u001b[3m\u001b[34m<http://conflicted.r-lib.org/>\u001b[39m\u001b[23m) to force all conflicts to become errors\n"
     ]
    }
   ],
   "source": [
    "# gambling involvement + harm + demographic\n",
    "library(tidyverse)\n",
    "\n",
    "frequency_w1 = read.csv('../output/data_cleaned/freq_df_summary_2016_PCA.csv') %>% \n",
    "                dplyr::select(subjectkey,sum_freq_all_No_lottery) %>% \n",
    "                rename(frequency.score_w1 = sum_freq_all_No_lottery)\n",
    "\n",
    "frequency_w2 = read.csv('../output/data_cleaned/freq_df_summary_2017_PCA.csv') %>% \n",
    "                dplyr::select(subjectkey,sum_freq_all_No_lottery) %>% \n",
    "                rename(frequency.score_w2 = sum_freq_all_No_lottery)\n",
    "\n",
    "money_w1 = read.csv('../output/data_cleaned/wmy_expenses_df_2016.csv') %>% \n",
    "                dplyr::select(subjectkey,annual_expenses)%>%\n",
    "                rename( annual.expenses_w1 = annual_expenses)\n",
    "\n",
    "money_w2 = read.csv('../output/data_cleaned/wmy_expenses_df_2017.csv') %>% \n",
    "                dplyr::select(subjectkey,annual_expenses)%>%\n",
    "                rename( annual.expenses_w2 = annual_expenses)\n",
    "\n",
    "diversity_w1 = read.csv('../output/data_cleaned/width_df_summary_2016.csv') %>% \n",
    "                dplyr::select(subjectkey,diverity_No_lottery) %>%\n",
    "                rename( diversity_w1 = diverity_No_lottery)\n",
    "\n",
    "diversity_w2 = read.csv('../output/data_cleaned/width_df_summary_2017.csv') %>% \n",
    "                dplyr::select(subjectkey,diverity_No_lottery) %>%\n",
    "                rename( diversity_w2 = diverity_No_lottery)"
   ]
  },
  {
   "cell_type": "code",
   "execution_count": 2,
   "id": "e8712ccd-8b06-4491-a43f-660b85290ba8",
   "metadata": {},
   "outputs": [],
   "source": [
    "data_2016 = read.csv('../output/data_cleaned/HarmSurvey2016.csv')\n",
    "harm_data = data_2016 %>% select(subjectkey, starts_with('h'))\n",
    "\n",
    "harm_w1 =harm_data %>%  \n",
    "                mutate(SGHS_18 = rowSums(select(.,\n",
    "                                                hf_reduction_Available_money, hf_reduction_recreation_expenses, hf_reduction_Saving,\n",
    "                                                hw_Used_job_time_gamble, hw_Reduced_performance, hw_Used_job_resources_gamble,\n",
    "                                                hh_less_time_for_sleep, hh_Increased_tobacco, hh_Increased_depression,\n",
    "                                                he_regrets, he_Felt_like_a_failure, he_ashamed,\n",
    "                                                hr_less_close_time, hr_less_social_time, hr_greater_relation_tension,\n",
    "                                                ho_Reduced_contribution_community, ho_outcast_community, ho_fake_promise_payback)) )%>% \n",
    "                select(subjectkey, SGHS_18) \n",
    "\n",
    "data_2017 = read.csv('../output/data_cleaned/HarmSurvey2017.csv')\n",
    "harm_data = data_2017 %>% select(subjectkey, starts_with('h'))\n",
    "\n",
    "harm_w2 =harm_data %>%  \n",
    "                mutate(SGHS_18 = rowSums(select(.,\n",
    "                                                hf_reduction_Available_money, hf_reduction_recreation_expenses, hf_reduction_Saving,\n",
    "                                                hw_Used_job_time_gamble, hw_Reduced_performance, hw_Used_job_resources_gamble,\n",
    "                                                hh_less_time_for_sleep, hh_Increased_tobacco, hh_Increased_depression,\n",
    "                                                he_regrets, he_Felt_like_a_failure, he_ashamed,\n",
    "                                                hr_less_close_time, hr_less_social_time, hr_greater_relation_tension,\n",
    "                                                ho_Reduced_contribution_community, ho_outcast_community, ho_fake_promise_payback)) )%>% \n",
    "                select(subjectkey, SGHS_18) \n"
   ]
  },
  {
   "cell_type": "code",
   "execution_count": 3,
   "id": "668a6dea-f15a-4bb3-a346-3226d9a67a42",
   "metadata": {},
   "outputs": [],
   "source": [
    "#demographic\n",
    "data_2016_recode = read.csv('../output/data_cleaned/HarmSurvey2016_recode.csv')\n",
    "demograph_data_w1 = data_2016_recode  %>% dplyr::select(demog_gender,demog_age_group, subjectkey) %>% tidyr::drop_na()  "
   ]
  },
  {
   "cell_type": "code",
   "execution_count": 4,
   "id": "829ba103-f79f-4c58-8397-b2125e2d6573",
   "metadata": {},
   "outputs": [
    {
     "data": {
      "text/html": [
       "<style>\n",
       ".list-inline {list-style: none; margin:0; padding: 0}\n",
       ".list-inline>li {display: inline-block}\n",
       ".list-inline>li:not(:last-child)::after {content: \"\\00b7\"; padding: 0 .5ex}\n",
       "</style>\n",
       "<ol class=list-inline><li>3970</li><li>7</li></ol>\n"
      ],
      "text/latex": [
       "\\begin{enumerate*}\n",
       "\\item 3970\n",
       "\\item 7\n",
       "\\end{enumerate*}\n"
      ],
      "text/markdown": [
       "1. 3970\n",
       "2. 7\n",
       "\n",
       "\n"
      ],
      "text/plain": [
       "[1] 3970    7"
      ]
     },
     "metadata": {},
     "output_type": "display_data"
    },
    {
     "data": {
      "text/html": [
       "<style>\n",
       ".list-inline {list-style: none; margin:0; padding: 0}\n",
       ".list-inline>li {display: inline-block}\n",
       ".list-inline>li:not(:last-child)::after {content: \"\\00b7\"; padding: 0 .5ex}\n",
       "</style>\n",
       "<ol class=list-inline><li>1529</li><li>7</li></ol>\n"
      ],
      "text/latex": [
       "\\begin{enumerate*}\n",
       "\\item 1529\n",
       "\\item 7\n",
       "\\end{enumerate*}\n"
      ],
      "text/markdown": [
       "1. 1529\n",
       "2. 7\n",
       "\n",
       "\n"
      ],
      "text/plain": [
       "[1] 1529    7"
      ]
     },
     "metadata": {},
     "output_type": "display_data"
    },
    {
     "data": {
      "text/html": [
       "<table class=\"dataframe\">\n",
       "<caption>A data.frame: 2 × 7</caption>\n",
       "<thead>\n",
       "\t<tr><th></th><th scope=col>subjectkey</th><th scope=col>frequency.score_w1</th><th scope=col>annual.expenses_w1</th><th scope=col>diversity_w1</th><th scope=col>SGHS_18</th><th scope=col>demog_gender</th><th scope=col>demog_age_group</th></tr>\n",
       "\t<tr><th></th><th scope=col>&lt;int&gt;</th><th scope=col>&lt;dbl&gt;</th><th scope=col>&lt;dbl&gt;</th><th scope=col>&lt;int&gt;</th><th scope=col>&lt;dbl&gt;</th><th scope=col>&lt;fct&gt;</th><th scope=col>&lt;fct&gt;</th></tr>\n",
       "</thead>\n",
       "<tbody>\n",
       "\t<tr><th scope=row>1</th><td>1</td><td>-0.6282489</td><td>100</td><td>2</td><td>0</td><td>Male  </td><td>35~44</td></tr>\n",
       "\t<tr><th scope=row>2</th><td>2</td><td>-0.3094462</td><td>780</td><td>2</td><td>0</td><td>Female</td><td>55~64</td></tr>\n",
       "</tbody>\n",
       "</table>\n"
      ],
      "text/latex": [
       "A data.frame: 2 × 7\n",
       "\\begin{tabular}{r|lllllll}\n",
       "  & subjectkey & frequency.score\\_w1 & annual.expenses\\_w1 & diversity\\_w1 & SGHS\\_18 & demog\\_gender & demog\\_age\\_group\\\\\n",
       "  & <int> & <dbl> & <dbl> & <int> & <dbl> & <fct> & <fct>\\\\\n",
       "\\hline\n",
       "\t1 & 1 & -0.6282489 & 100 & 2 & 0 & Male   & 35\\textasciitilde{}44\\\\\n",
       "\t2 & 2 & -0.3094462 & 780 & 2 & 0 & Female & 55\\textasciitilde{}64\\\\\n",
       "\\end{tabular}\n"
      ],
      "text/markdown": [
       "\n",
       "A data.frame: 2 × 7\n",
       "\n",
       "| <!--/--> | subjectkey &lt;int&gt; | frequency.score_w1 &lt;dbl&gt; | annual.expenses_w1 &lt;dbl&gt; | diversity_w1 &lt;int&gt; | SGHS_18 &lt;dbl&gt; | demog_gender &lt;fct&gt; | demog_age_group &lt;fct&gt; |\n",
       "|---|---|---|---|---|---|---|---|\n",
       "| 1 | 1 | -0.6282489 | 100 | 2 | 0 | Male   | 35~44 |\n",
       "| 2 | 2 | -0.3094462 | 780 | 2 | 0 | Female | 55~64 |\n",
       "\n"
      ],
      "text/plain": [
       "  subjectkey frequency.score_w1 annual.expenses_w1 diversity_w1 SGHS_18\n",
       "1 1          -0.6282489         100                2            0      \n",
       "2 2          -0.3094462         780                2            0      \n",
       "  demog_gender demog_age_group\n",
       "1 Male         35~44          \n",
       "2 Female       55~64          "
      ]
     },
     "metadata": {},
     "output_type": "display_data"
    }
   ],
   "source": [
    "# merge data\n",
    "merged_df_w1 = list(frequency_w1, money_w1, diversity_w1, harm_w1, demograph_data_w1) %>% \n",
    "            reduce(full_join, by='subjectkey') %>% drop_na() %>% \n",
    "            mutate(demog_gender = factor(demog_gender), demog_age_group = factor(demog_age_group))\n",
    "\n",
    "\n",
    "merged_df_w2 = list(frequency_w2, money_w2, diversity_w2, harm_w2, demograph_data_w1) %>% \n",
    "            reduce(full_join, by='subjectkey') %>% drop_na() %>% \n",
    "            mutate(demog_gender = factor(demog_gender), demog_age_group = factor(demog_age_group))\n",
    "\n",
    "dim(merged_df_w1)\n",
    "dim(merged_df_w2)\n",
    "head(merged_df_w1, 2)"
   ]
  },
  {
   "cell_type": "code",
   "execution_count": 5,
   "id": "834a76b0-065f-4a85-a49a-0bd8f824a26a",
   "metadata": {},
   "outputs": [
    {
     "data": {
      "text/html": [
       "<style>\n",
       ".list-inline {list-style: none; margin:0; padding: 0}\n",
       ".list-inline>li {display: inline-block}\n",
       ".list-inline>li:not(:last-child)::after {content: \"\\00b7\"; padding: 0 .5ex}\n",
       "</style>\n",
       "<ol class=list-inline><li>2285</li><li>18</li></ol>\n"
      ],
      "text/latex": [
       "\\begin{enumerate*}\n",
       "\\item 2285\n",
       "\\item 18\n",
       "\\end{enumerate*}\n"
      ],
      "text/markdown": [
       "1. 2285\n",
       "2. 18\n",
       "\n",
       "\n"
      ],
      "text/plain": [
       "[1] 2285   18"
      ]
     },
     "metadata": {},
     "output_type": "display_data"
    },
    {
     "data": {
      "text/html": [
       "<style>\n",
       ".list-inline {list-style: none; margin:0; padding: 0}\n",
       ".list-inline>li {display: inline-block}\n",
       ".list-inline>li:not(:last-child)::after {content: \"\\00b7\"; padding: 0 .5ex}\n",
       "</style>\n",
       "<ol class=list-inline><li>940</li><li>18</li></ol>\n"
      ],
      "text/latex": [
       "\\begin{enumerate*}\n",
       "\\item 940\n",
       "\\item 18\n",
       "\\end{enumerate*}\n"
      ],
      "text/markdown": [
       "1. 940\n",
       "2. 18\n",
       "\n",
       "\n"
      ],
      "text/plain": [
       "[1] 940  18"
      ]
     },
     "metadata": {},
     "output_type": "display_data"
    }
   ],
   "source": [
    "# factor scores of models\n",
    "score_w1 = read.csv('../output/data_cleaned/model_scores_w1.csv') %>% select(-X)\n",
    "score_w2 = read.csv('../output/data_cleaned/model_scores_w2.csv') %>% select(-X)\n",
    "\n",
    "data_w1 = merge(merged_df_w1, score_w1, by.x = 'subjectkey', by.y = 'subjectkey_w1') \n",
    "data_w1$subjectkey = as.character(data_w1$subjectkey)\n",
    "data_w1 = data_w1 %>% mutate(across(where(is.numeric), scale))\n",
    "\n",
    "data_w2 = merge(merged_df_w2, score_w2, by.x = 'subjectkey', by.y = 'subjectkey_w2')\n",
    "data_w2$subjectkey = as.character(data_w2$subjectkey)\n",
    "data_w2 = data_w2 %>% mutate(across(where(is.numeric), scale))\n",
    "dim(data_w1)\n",
    "dim(data_w2)"
   ]
  },
  {
   "cell_type": "code",
   "execution_count": 6,
   "id": "d9c72a57-4185-4fd0-be3e-a76f86089c3c",
   "metadata": {},
   "outputs": [
    {
     "data": {
      "text/html": [
       "<style>\n",
       ".list-inline {list-style: none; margin:0; padding: 0}\n",
       ".list-inline>li {display: inline-block}\n",
       ".list-inline>li:not(:last-child)::after {content: \"\\00b7\"; padding: 0 .5ex}\n",
       "</style>\n",
       "<ol class=list-inline><li>44</li><li>7</li></ol>\n"
      ],
      "text/latex": [
       "\\begin{enumerate*}\n",
       "\\item 44\n",
       "\\item 7\n",
       "\\end{enumerate*}\n"
      ],
      "text/markdown": [
       "1. 44\n",
       "2. 7\n",
       "\n",
       "\n"
      ],
      "text/plain": [
       "[1] 44  7"
      ]
     },
     "metadata": {},
     "output_type": "display_data"
    },
    {
     "data": {
      "text/html": [
       "<table class=\"dataframe\">\n",
       "<caption>A data.frame: 2 × 7</caption>\n",
       "<thead>\n",
       "\t<tr><th></th><th scope=col>var</th><th scope=col>beta</th><th scope=col>p_value</th><th scope=col>p_fdr</th><th scope=col>adj.r.squared</th><th scope=col>criterion</th><th scope=col>time</th></tr>\n",
       "\t<tr><th></th><th scope=col>&lt;chr&gt;</th><th scope=col>&lt;dbl&gt;</th><th scope=col>&lt;dbl&gt;</th><th scope=col>&lt;dbl&gt;</th><th scope=col>&lt;dbl&gt;</th><th scope=col>&lt;chr&gt;</th><th scope=col>&lt;chr&gt;</th></tr>\n",
       "</thead>\n",
       "<tbody>\n",
       "\t<tr><th scope=row>1</th><td>single.factor</td><td>0.2815141</td><td>1.381390e-45</td><td>1.688366e-45</td><td>0.1701261</td><td>gambling frequency</td><td>wave1</td></tr>\n",
       "\t<tr><th scope=row>2</th><td>two.factor.f1</td><td>0.2826570</td><td>4.240167e-46</td><td>7.773640e-46</td><td>0.1709829</td><td>gambling frequency</td><td>wave1</td></tr>\n",
       "</tbody>\n",
       "</table>\n"
      ],
      "text/latex": [
       "A data.frame: 2 × 7\n",
       "\\begin{tabular}{r|lllllll}\n",
       "  & var & beta & p\\_value & p\\_fdr & adj.r.squared & criterion & time\\\\\n",
       "  & <chr> & <dbl> & <dbl> & <dbl> & <dbl> & <chr> & <chr>\\\\\n",
       "\\hline\n",
       "\t1 & single.factor & 0.2815141 & 1.381390e-45 & 1.688366e-45 & 0.1701261 & gambling frequency & wave1\\\\\n",
       "\t2 & two.factor.f1 & 0.2826570 & 4.240167e-46 & 7.773640e-46 & 0.1709829 & gambling frequency & wave1\\\\\n",
       "\\end{tabular}\n"
      ],
      "text/markdown": [
       "\n",
       "A data.frame: 2 × 7\n",
       "\n",
       "| <!--/--> | var &lt;chr&gt; | beta &lt;dbl&gt; | p_value &lt;dbl&gt; | p_fdr &lt;dbl&gt; | adj.r.squared &lt;dbl&gt; | criterion &lt;chr&gt; | time &lt;chr&gt; |\n",
       "|---|---|---|---|---|---|---|---|\n",
       "| 1 | single.factor | 0.2815141 | 1.381390e-45 | 1.688366e-45 | 0.1701261 | gambling frequency | wave1 |\n",
       "| 2 | two.factor.f1 | 0.2826570 | 4.240167e-46 | 7.773640e-46 | 0.1709829 | gambling frequency | wave1 |\n",
       "\n"
      ],
      "text/plain": [
       "  var           beta      p_value      p_fdr        adj.r.squared\n",
       "1 single.factor 0.2815141 1.381390e-45 1.688366e-45 0.1701261    \n",
       "2 two.factor.f1 0.2826570 4.240167e-46 7.773640e-46 0.1709829    \n",
       "  criterion          time \n",
       "1 gambling frequency wave1\n",
       "2 gambling frequency wave1"
      ]
     },
     "metadata": {},
     "output_type": "display_data"
    }
   ],
   "source": [
    "# regression\n",
    "template =  data.frame(var = character(), \n",
    "                       beta = numeric(),\n",
    "                       p_value = numeric(),\n",
    "                       p_fdr = numeric())\n",
    "\n",
    "frequency_result = template\n",
    "expenses_result = template\n",
    "diversity_result = template\n",
    "harm_result = template\n",
    "\n",
    "df_names = score_w1 %>% select(-subjectkey_w1)\n",
    "all_vars = colnames(df_names)\n",
    "\n",
    "# partial correlation after controlling for age and gender\n",
    "n=0\n",
    "for (the_var in all_vars){\n",
    "    n = n + 1\n",
    "    form  <- paste(\"frequency.score_w1 ~ \", the_var, \" + demog_gender + demog_age_group\")\n",
    "    m0 <- lm(form, data = data_w1)     \n",
    "    frequency_result[n,'var'] <- the_var\n",
    "    frequency_result[n,'beta'] <- coef(summary(m0))[the_var,'Estimate']\n",
    "    frequency_result[n,'p_value'] <- coef(summary(m0))[the_var,'Pr(>|t|)']  \n",
    "    frequency_result[n,'adj.r.squared'] <- summary(m0)$adj.r.squared\n",
    "    \n",
    "    form  <- paste(\"annual.expenses_w1 ~ \", the_var, \" + demog_gender + demog_age_group\")\n",
    "    m0 <- lm(form, data = data_w1)     \n",
    "    expenses_result[n,'var'] <- the_var\n",
    "    expenses_result[n,'beta'] <- coef(summary(m0))[the_var,'Estimate']\n",
    "    expenses_result[n,'p_value'] <- coef(summary(m0))[the_var,'Pr(>|t|)']  \n",
    "    expenses_result[n,'adj.r.squared'] <- summary(m0)$adj.r.squared\n",
    "    \n",
    "    form  <- paste(\"diversity_w1 ~ \", the_var, \" + demog_gender + demog_age_group\")\n",
    "    m0 <- lm(form, data = data_w1)     \n",
    "    diversity_result[n,'var'] <- the_var\n",
    "    diversity_result[n,'beta'] <- coef(summary(m0))[the_var,'Estimate']\n",
    "    diversity_result[n,'p_value'] <- coef(summary(m0))[the_var,'Pr(>|t|)']  \n",
    "    diversity_result[n,'adj.r.squared'] <- summary(m0)$adj.r.squared\n",
    "    \n",
    "    form  <- paste(\"SGHS_18 ~ \", the_var, \" + demog_gender + demog_age_group\")\n",
    "    m0 <- lm(form, data = data_w1)     \n",
    "    harm_result[n,'var'] <- the_var\n",
    "    harm_result[n,'beta'] <- coef(summary(m0))[the_var,'Estimate']\n",
    "    harm_result[n,'p_value'] <- coef(summary(m0))[the_var,'Pr(>|t|)']  \n",
    "    harm_result[n,'adj.r.squared'] <- summary(m0)$adj.r.squared\n",
    "}\n",
    "\n",
    "#FDR correction\n",
    "frequency_result$p_fdr<- p.adjust(frequency_result$p_value, method = 'BH')\n",
    "expenses_result$p_fdr<- p.adjust(expenses_result$p_value, method = 'BH')\n",
    "diversity_result$p_fdr<- p.adjust(diversity_result$p_value, method = 'BH')\n",
    "harm_result$p_fdr<- p.adjust(harm_result$p_value, method = 'BH')\n",
    "\n",
    "frequency_result = frequency_result %>% mutate(criterion = 'gambling frequency')\n",
    "expenses_result = expenses_result %>% mutate(criterion = 'annual expenses')\n",
    "diversity_result = diversity_result %>% mutate(criterion = 'gambling diversity')\n",
    "harm_result = harm_result %>% mutate(criterion = 'gambling harm')\n",
    "\n",
    "df = rbind(frequency_result,expenses_result,diversity_result,harm_result) %>% mutate(time = 'wave1')\n",
    "dim(df)\n",
    "head(df, 2)"
   ]
  },
  {
   "cell_type": "code",
   "execution_count": 7,
   "id": "bdb9f513-09d5-4fef-a5c2-d04d4bd01670",
   "metadata": {},
   "outputs": [
    {
     "data": {
      "text/html": [
       "<table class=\"dataframe\">\n",
       "<caption>A tibble: 11 × 5</caption>\n",
       "<thead>\n",
       "\t<tr><th scope=col>var</th><th scope=col>gambling frequency</th><th scope=col>annual expenses</th><th scope=col>gambling diversity</th><th scope=col>gambling harm</th></tr>\n",
       "\t<tr><th scope=col>&lt;chr&gt;</th><th scope=col>&lt;dbl&gt;</th><th scope=col>&lt;dbl&gt;</th><th scope=col>&lt;dbl&gt;</th><th scope=col>&lt;dbl&gt;</th></tr>\n",
       "</thead>\n",
       "<tbody>\n",
       "\t<tr><td>single.factor   </td><td>0.28</td><td>0.38</td><td>0.27</td><td>0.55</td></tr>\n",
       "\t<tr><td>two.factor.f1   </td><td>0.28</td><td>0.38</td><td>0.27</td><td>0.56</td></tr>\n",
       "\t<tr><td>two.factor.f2   </td><td>0.28</td><td>0.39</td><td>0.27</td><td>0.55</td></tr>\n",
       "\t<tr><td>bifactor.f1     </td><td>0.13</td><td>0.10</td><td>0.06</td><td>0.21</td></tr>\n",
       "\t<tr><td>bifactor.f2     </td><td>0.17</td><td>0.25</td><td>0.18</td><td>0.27</td></tr>\n",
       "\t<tr><td>bifactor.g      </td><td>0.29</td><td>0.40</td><td>0.27</td><td>0.61</td></tr>\n",
       "\t<tr><td>two.factor.re.f1</td><td>0.29</td><td>0.39</td><td>0.27</td><td>0.56</td></tr>\n",
       "\t<tr><td>two.factor.re.f2</td><td>0.29</td><td>0.39</td><td>0.28</td><td>0.55</td></tr>\n",
       "\t<tr><td>three.factor.f1 </td><td>0.28</td><td>0.38</td><td>0.27</td><td>0.56</td></tr>\n",
       "\t<tr><td>three.factor.f2 </td><td>0.28</td><td>0.39</td><td>0.27</td><td>0.55</td></tr>\n",
       "\t<tr><td>three.factor.f3 </td><td>0.29</td><td>0.39</td><td>0.27</td><td>0.54</td></tr>\n",
       "</tbody>\n",
       "</table>\n"
      ],
      "text/latex": [
       "A tibble: 11 × 5\n",
       "\\begin{tabular}{lllll}\n",
       " var & gambling frequency & annual expenses & gambling diversity & gambling harm\\\\\n",
       " <chr> & <dbl> & <dbl> & <dbl> & <dbl>\\\\\n",
       "\\hline\n",
       "\t single.factor    & 0.28 & 0.38 & 0.27 & 0.55\\\\\n",
       "\t two.factor.f1    & 0.28 & 0.38 & 0.27 & 0.56\\\\\n",
       "\t two.factor.f2    & 0.28 & 0.39 & 0.27 & 0.55\\\\\n",
       "\t bifactor.f1      & 0.13 & 0.10 & 0.06 & 0.21\\\\\n",
       "\t bifactor.f2      & 0.17 & 0.25 & 0.18 & 0.27\\\\\n",
       "\t bifactor.g       & 0.29 & 0.40 & 0.27 & 0.61\\\\\n",
       "\t two.factor.re.f1 & 0.29 & 0.39 & 0.27 & 0.56\\\\\n",
       "\t two.factor.re.f2 & 0.29 & 0.39 & 0.28 & 0.55\\\\\n",
       "\t three.factor.f1  & 0.28 & 0.38 & 0.27 & 0.56\\\\\n",
       "\t three.factor.f2  & 0.28 & 0.39 & 0.27 & 0.55\\\\\n",
       "\t three.factor.f3  & 0.29 & 0.39 & 0.27 & 0.54\\\\\n",
       "\\end{tabular}\n"
      ],
      "text/markdown": [
       "\n",
       "A tibble: 11 × 5\n",
       "\n",
       "| var &lt;chr&gt; | gambling frequency &lt;dbl&gt; | annual expenses &lt;dbl&gt; | gambling diversity &lt;dbl&gt; | gambling harm &lt;dbl&gt; |\n",
       "|---|---|---|---|---|\n",
       "| single.factor    | 0.28 | 0.38 | 0.27 | 0.55 |\n",
       "| two.factor.f1    | 0.28 | 0.38 | 0.27 | 0.56 |\n",
       "| two.factor.f2    | 0.28 | 0.39 | 0.27 | 0.55 |\n",
       "| bifactor.f1      | 0.13 | 0.10 | 0.06 | 0.21 |\n",
       "| bifactor.f2      | 0.17 | 0.25 | 0.18 | 0.27 |\n",
       "| bifactor.g       | 0.29 | 0.40 | 0.27 | 0.61 |\n",
       "| two.factor.re.f1 | 0.29 | 0.39 | 0.27 | 0.56 |\n",
       "| two.factor.re.f2 | 0.29 | 0.39 | 0.28 | 0.55 |\n",
       "| three.factor.f1  | 0.28 | 0.38 | 0.27 | 0.56 |\n",
       "| three.factor.f2  | 0.28 | 0.39 | 0.27 | 0.55 |\n",
       "| three.factor.f3  | 0.29 | 0.39 | 0.27 | 0.54 |\n",
       "\n"
      ],
      "text/plain": [
       "   var              gambling frequency annual expenses gambling diversity\n",
       "1  single.factor    0.28               0.38            0.27              \n",
       "2  two.factor.f1    0.28               0.38            0.27              \n",
       "3  two.factor.f2    0.28               0.39            0.27              \n",
       "4  bifactor.f1      0.13               0.10            0.06              \n",
       "5  bifactor.f2      0.17               0.25            0.18              \n",
       "6  bifactor.g       0.29               0.40            0.27              \n",
       "7  two.factor.re.f1 0.29               0.39            0.27              \n",
       "8  two.factor.re.f2 0.29               0.39            0.28              \n",
       "9  three.factor.f1  0.28               0.38            0.27              \n",
       "10 three.factor.f2  0.28               0.39            0.27              \n",
       "11 three.factor.f3  0.29               0.39            0.27              \n",
       "   gambling harm\n",
       "1  0.55         \n",
       "2  0.56         \n",
       "3  0.55         \n",
       "4  0.21         \n",
       "5  0.27         \n",
       "6  0.61         \n",
       "7  0.56         \n",
       "8  0.55         \n",
       "9  0.56         \n",
       "10 0.55         \n",
       "11 0.54         "
      ]
     },
     "metadata": {},
     "output_type": "display_data"
    }
   ],
   "source": [
    "# reshape dataframe\n",
    "conv_val = df %>% select(var, beta, criterion) %>% pivot_wider(names_from = criterion, values_from = beta) \n",
    "conv_val[2:5] = round(conv_val[2:5],2)\n",
    "conv_val"
   ]
  },
  {
   "cell_type": "markdown",
   "id": "2220182a-1954-43e0-860d-f14415381748",
   "metadata": {},
   "source": [
    "# wave 2"
   ]
  },
  {
   "cell_type": "code",
   "execution_count": 8,
   "id": "04ecf1db-104b-4813-85af-f5d75e0f8606",
   "metadata": {},
   "outputs": [
    {
     "data": {
      "text/html": [
       "<style>\n",
       ".list-inline {list-style: none; margin:0; padding: 0}\n",
       ".list-inline>li {display: inline-block}\n",
       ".list-inline>li:not(:last-child)::after {content: \"\\00b7\"; padding: 0 .5ex}\n",
       "</style>\n",
       "<ol class=list-inline><li>44</li><li>7</li></ol>\n"
      ],
      "text/latex": [
       "\\begin{enumerate*}\n",
       "\\item 44\n",
       "\\item 7\n",
       "\\end{enumerate*}\n"
      ],
      "text/markdown": [
       "1. 44\n",
       "2. 7\n",
       "\n",
       "\n"
      ],
      "text/plain": [
       "[1] 44  7"
      ]
     },
     "metadata": {},
     "output_type": "display_data"
    },
    {
     "data": {
      "text/html": [
       "<table class=\"dataframe\">\n",
       "<caption>A data.frame: 2 × 7</caption>\n",
       "<thead>\n",
       "\t<tr><th></th><th scope=col>var</th><th scope=col>beta</th><th scope=col>p_value</th><th scope=col>p_fdr</th><th scope=col>adj.r.squared</th><th scope=col>criterion</th><th scope=col>time</th></tr>\n",
       "\t<tr><th></th><th scope=col>&lt;chr&gt;</th><th scope=col>&lt;dbl&gt;</th><th scope=col>&lt;dbl&gt;</th><th scope=col>&lt;dbl&gt;</th><th scope=col>&lt;dbl&gt;</th><th scope=col>&lt;chr&gt;</th><th scope=col>&lt;chr&gt;</th></tr>\n",
       "</thead>\n",
       "<tbody>\n",
       "\t<tr><th scope=row>1</th><td>single.factor</td><td>0.09741772</td><td>0.002878915</td><td>0.004524009</td><td>0.004883711</td><td>gambling frequency</td><td>wave2</td></tr>\n",
       "\t<tr><th scope=row>2</th><td>two.factor.f1</td><td>0.10175045</td><td>0.001845248</td><td>0.004524009</td><td>0.005754688</td><td>gambling frequency</td><td>wave2</td></tr>\n",
       "</tbody>\n",
       "</table>\n"
      ],
      "text/latex": [
       "A data.frame: 2 × 7\n",
       "\\begin{tabular}{r|lllllll}\n",
       "  & var & beta & p\\_value & p\\_fdr & adj.r.squared & criterion & time\\\\\n",
       "  & <chr> & <dbl> & <dbl> & <dbl> & <dbl> & <chr> & <chr>\\\\\n",
       "\\hline\n",
       "\t1 & single.factor & 0.09741772 & 0.002878915 & 0.004524009 & 0.004883711 & gambling frequency & wave2\\\\\n",
       "\t2 & two.factor.f1 & 0.10175045 & 0.001845248 & 0.004524009 & 0.005754688 & gambling frequency & wave2\\\\\n",
       "\\end{tabular}\n"
      ],
      "text/markdown": [
       "\n",
       "A data.frame: 2 × 7\n",
       "\n",
       "| <!--/--> | var &lt;chr&gt; | beta &lt;dbl&gt; | p_value &lt;dbl&gt; | p_fdr &lt;dbl&gt; | adj.r.squared &lt;dbl&gt; | criterion &lt;chr&gt; | time &lt;chr&gt; |\n",
       "|---|---|---|---|---|---|---|---|\n",
       "| 1 | single.factor | 0.09741772 | 0.002878915 | 0.004524009 | 0.004883711 | gambling frequency | wave2 |\n",
       "| 2 | two.factor.f1 | 0.10175045 | 0.001845248 | 0.004524009 | 0.005754688 | gambling frequency | wave2 |\n",
       "\n"
      ],
      "text/plain": [
       "  var           beta       p_value     p_fdr       adj.r.squared\n",
       "1 single.factor 0.09741772 0.002878915 0.004524009 0.004883711  \n",
       "2 two.factor.f1 0.10175045 0.001845248 0.004524009 0.005754688  \n",
       "  criterion          time \n",
       "1 gambling frequency wave2\n",
       "2 gambling frequency wave2"
      ]
     },
     "metadata": {},
     "output_type": "display_data"
    }
   ],
   "source": [
    "template =  data.frame(var = character(), \n",
    "                       beta = numeric(),\n",
    "                       p_value = numeric(),\n",
    "                       p_fdr = numeric())\n",
    "\n",
    "frequency_result = template\n",
    "expenses_result = template\n",
    "diversity_result = template\n",
    "harm_result = template\n",
    "\n",
    "df_names = score_w2 %>% select(-subjectkey_w2)\n",
    "all_vars = colnames(df_names)\n",
    "\n",
    "# partial correlation after controlling for age and gender\n",
    "n=0\n",
    "for (the_var in all_vars){\n",
    "    n = n + 1\n",
    "    form  <- paste(\"frequency.score_w2 ~ \", the_var, \" + demog_gender + demog_age_group\")\n",
    "    m0 <- lm(form, data = data_w2)     \n",
    "    frequency_result[n,'var'] <- the_var\n",
    "    frequency_result[n,'beta'] <- coef(summary(m0))[the_var,'Estimate']\n",
    "    frequency_result[n,'p_value'] <- coef(summary(m0))[the_var,'Pr(>|t|)']  \n",
    "    frequency_result[n,'adj.r.squared'] <- summary(m0)$adj.r.squared\n",
    "    \n",
    "    form  <- paste(\"annual.expenses_w2 ~ \", the_var, \" + demog_gender + demog_age_group\")\n",
    "    m0 <- lm(form, data = data_w2)     \n",
    "    expenses_result[n,'var'] <- the_var\n",
    "    expenses_result[n,'beta'] <- coef(summary(m0))[the_var,'Estimate']\n",
    "    expenses_result[n,'p_value'] <- coef(summary(m0))[the_var,'Pr(>|t|)']  \n",
    "    expenses_result[n,'adj.r.squared'] <- summary(m0)$adj.r.squared\n",
    "    \n",
    "    form  <- paste(\"diversity_w2 ~ \", the_var, \" + demog_gender + demog_age_group\")\n",
    "    m0 <- lm(form, data = data_w2)     \n",
    "    diversity_result[n,'var'] <- the_var\n",
    "    diversity_result[n,'beta'] <- coef(summary(m0))[the_var,'Estimate']\n",
    "    diversity_result[n,'p_value'] <- coef(summary(m0))[the_var,'Pr(>|t|)']  \n",
    "    diversity_result[n,'adj.r.squared'] <- summary(m0)$adj.r.squared\n",
    "    \n",
    "    form  <- paste(\"SGHS_18 ~ \", the_var, \" + demog_gender + demog_age_group\")\n",
    "    m0 <- lm(form, data = data_w2)     \n",
    "    harm_result[n,'var'] <- the_var\n",
    "    harm_result[n,'beta'] <- coef(summary(m0))[the_var,'Estimate']\n",
    "    harm_result[n,'p_value'] <- coef(summary(m0))[the_var,'Pr(>|t|)']  \n",
    "    harm_result[n,'adj.r.squared'] <- summary(m0)$adj.r.squared\n",
    "}\n",
    "\n",
    "#FDR correction\n",
    "frequency_result$p_fdr<- p.adjust(frequency_result$p_value, method = 'BH')\n",
    "expenses_result$p_fdr<- p.adjust(expenses_result$p_value, method = 'BH')\n",
    "diversity_result$p_fdr<- p.adjust(diversity_result$p_value, method = 'BH')\n",
    "harm_result$p_fdr<- p.adjust(harm_result$p_value, method = 'BH')\n",
    "\n",
    "frequency_result = frequency_result %>% mutate(criterion = 'gambling frequency')\n",
    "expenses_result = expenses_result %>% mutate(criterion = 'annual expenses')\n",
    "diversity_result = diversity_result %>% mutate(criterion = 'gambling diversity')\n",
    "harm_result = harm_result %>% mutate(criterion = 'gambling harm')\n",
    "\n",
    "df_2 = rbind(frequency_result,expenses_result,diversity_result,harm_result) %>% mutate(time = 'wave2')\n",
    "dim(df_2)\n",
    "head(df_2, 2)"
   ]
  },
  {
   "cell_type": "code",
   "execution_count": 9,
   "id": "bc3d976e-36df-4dab-927c-0bb7aef89ab3",
   "metadata": {},
   "outputs": [
    {
     "data": {
      "text/html": [
       "<table class=\"dataframe\">\n",
       "<caption>A tibble: 11 × 5</caption>\n",
       "<thead>\n",
       "\t<tr><th scope=col>var</th><th scope=col>gambling frequency</th><th scope=col>annual expenses</th><th scope=col>gambling diversity</th><th scope=col>gambling harm</th></tr>\n",
       "\t<tr><th scope=col>&lt;chr&gt;</th><th scope=col>&lt;dbl&gt;</th><th scope=col>&lt;dbl&gt;</th><th scope=col>&lt;dbl&gt;</th><th scope=col>&lt;dbl&gt;</th></tr>\n",
       "</thead>\n",
       "<tbody>\n",
       "\t<tr><td>single.factor   </td><td>0.10</td><td>0.36</td><td>0.23</td><td>0.53</td></tr>\n",
       "\t<tr><td>two.factor.f1   </td><td>0.10</td><td>0.37</td><td>0.22</td><td>0.54</td></tr>\n",
       "\t<tr><td>two.factor.f2   </td><td>0.09</td><td>0.38</td><td>0.23</td><td>0.53</td></tr>\n",
       "\t<tr><td>bifactor.f1     </td><td>0.06</td><td>0.10</td><td>0.10</td><td>0.37</td></tr>\n",
       "\t<tr><td>bifactor.f2     </td><td>0.08</td><td>0.36</td><td>0.22</td><td>0.42</td></tr>\n",
       "\t<tr><td>bifactor.g      </td><td>0.11</td><td>0.38</td><td>0.24</td><td>0.59</td></tr>\n",
       "\t<tr><td>two.factor.re.f1</td><td>0.11</td><td>0.36</td><td>0.23</td><td>0.55</td></tr>\n",
       "\t<tr><td>two.factor.re.f2</td><td>0.10</td><td>0.38</td><td>0.24</td><td>0.53</td></tr>\n",
       "\t<tr><td>three.factor.f1 </td><td>0.10</td><td>0.37</td><td>0.22</td><td>0.54</td></tr>\n",
       "\t<tr><td>three.factor.f2 </td><td>0.10</td><td>0.38</td><td>0.23</td><td>0.52</td></tr>\n",
       "\t<tr><td>three.factor.f3 </td><td>0.09</td><td>0.38</td><td>0.22</td><td>0.52</td></tr>\n",
       "</tbody>\n",
       "</table>\n"
      ],
      "text/latex": [
       "A tibble: 11 × 5\n",
       "\\begin{tabular}{lllll}\n",
       " var & gambling frequency & annual expenses & gambling diversity & gambling harm\\\\\n",
       " <chr> & <dbl> & <dbl> & <dbl> & <dbl>\\\\\n",
       "\\hline\n",
       "\t single.factor    & 0.10 & 0.36 & 0.23 & 0.53\\\\\n",
       "\t two.factor.f1    & 0.10 & 0.37 & 0.22 & 0.54\\\\\n",
       "\t two.factor.f2    & 0.09 & 0.38 & 0.23 & 0.53\\\\\n",
       "\t bifactor.f1      & 0.06 & 0.10 & 0.10 & 0.37\\\\\n",
       "\t bifactor.f2      & 0.08 & 0.36 & 0.22 & 0.42\\\\\n",
       "\t bifactor.g       & 0.11 & 0.38 & 0.24 & 0.59\\\\\n",
       "\t two.factor.re.f1 & 0.11 & 0.36 & 0.23 & 0.55\\\\\n",
       "\t two.factor.re.f2 & 0.10 & 0.38 & 0.24 & 0.53\\\\\n",
       "\t three.factor.f1  & 0.10 & 0.37 & 0.22 & 0.54\\\\\n",
       "\t three.factor.f2  & 0.10 & 0.38 & 0.23 & 0.52\\\\\n",
       "\t three.factor.f3  & 0.09 & 0.38 & 0.22 & 0.52\\\\\n",
       "\\end{tabular}\n"
      ],
      "text/markdown": [
       "\n",
       "A tibble: 11 × 5\n",
       "\n",
       "| var &lt;chr&gt; | gambling frequency &lt;dbl&gt; | annual expenses &lt;dbl&gt; | gambling diversity &lt;dbl&gt; | gambling harm &lt;dbl&gt; |\n",
       "|---|---|---|---|---|\n",
       "| single.factor    | 0.10 | 0.36 | 0.23 | 0.53 |\n",
       "| two.factor.f1    | 0.10 | 0.37 | 0.22 | 0.54 |\n",
       "| two.factor.f2    | 0.09 | 0.38 | 0.23 | 0.53 |\n",
       "| bifactor.f1      | 0.06 | 0.10 | 0.10 | 0.37 |\n",
       "| bifactor.f2      | 0.08 | 0.36 | 0.22 | 0.42 |\n",
       "| bifactor.g       | 0.11 | 0.38 | 0.24 | 0.59 |\n",
       "| two.factor.re.f1 | 0.11 | 0.36 | 0.23 | 0.55 |\n",
       "| two.factor.re.f2 | 0.10 | 0.38 | 0.24 | 0.53 |\n",
       "| three.factor.f1  | 0.10 | 0.37 | 0.22 | 0.54 |\n",
       "| three.factor.f2  | 0.10 | 0.38 | 0.23 | 0.52 |\n",
       "| three.factor.f3  | 0.09 | 0.38 | 0.22 | 0.52 |\n",
       "\n"
      ],
      "text/plain": [
       "   var              gambling frequency annual expenses gambling diversity\n",
       "1  single.factor    0.10               0.36            0.23              \n",
       "2  two.factor.f1    0.10               0.37            0.22              \n",
       "3  two.factor.f2    0.09               0.38            0.23              \n",
       "4  bifactor.f1      0.06               0.10            0.10              \n",
       "5  bifactor.f2      0.08               0.36            0.22              \n",
       "6  bifactor.g       0.11               0.38            0.24              \n",
       "7  two.factor.re.f1 0.11               0.36            0.23              \n",
       "8  two.factor.re.f2 0.10               0.38            0.24              \n",
       "9  three.factor.f1  0.10               0.37            0.22              \n",
       "10 three.factor.f2  0.10               0.38            0.23              \n",
       "11 three.factor.f3  0.09               0.38            0.22              \n",
       "   gambling harm\n",
       "1  0.53         \n",
       "2  0.54         \n",
       "3  0.53         \n",
       "4  0.37         \n",
       "5  0.42         \n",
       "6  0.59         \n",
       "7  0.55         \n",
       "8  0.53         \n",
       "9  0.54         \n",
       "10 0.52         \n",
       "11 0.52         "
      ]
     },
     "metadata": {},
     "output_type": "display_data"
    }
   ],
   "source": [
    "# reshape dataframe\n",
    "conv_val_2 = df_2 %>% select(var, beta, criterion) %>% pivot_wider(names_from = criterion, values_from = beta) \n",
    "conv_val_2[2:5] = round(conv_val_2[2:5],2)\n",
    "conv_val_2"
   ]
  },
  {
   "cell_type": "code",
   "execution_count": 10,
   "id": "13fae0fc-025c-4f8f-9417-e3a3c1860e69",
   "metadata": {},
   "outputs": [
    {
     "data": {
      "text/html": [
       "<table class=\"dataframe\">\n",
       "<caption>A data.frame: 11 × 10</caption>\n",
       "<thead>\n",
       "\t<tr><th scope=col>var</th><th scope=col>gambling frequency_w1</th><th scope=col>annual expenses_w1</th><th scope=col>gambling diversity_w1</th><th scope=col>gambling harm_w1</th><th scope=col>gambling frequency_w2</th><th scope=col>annual expenses_w2</th><th scope=col>gambling diversity_w2</th><th scope=col>gambling harm_w2</th><th scope=col>table_order</th></tr>\n",
       "\t<tr><th scope=col>&lt;chr&gt;</th><th scope=col>&lt;dbl&gt;</th><th scope=col>&lt;dbl&gt;</th><th scope=col>&lt;dbl&gt;</th><th scope=col>&lt;dbl&gt;</th><th scope=col>&lt;dbl&gt;</th><th scope=col>&lt;dbl&gt;</th><th scope=col>&lt;dbl&gt;</th><th scope=col>&lt;dbl&gt;</th><th scope=col>&lt;dbl&gt;</th></tr>\n",
       "</thead>\n",
       "<tbody>\n",
       "\t<tr><td>single.factor   </td><td>0.28</td><td>0.38</td><td>0.27</td><td>0.55</td><td>0.10</td><td>0.36</td><td>0.23</td><td>0.53</td><td> 1</td></tr>\n",
       "\t<tr><td>two.factor.f1   </td><td>0.28</td><td>0.38</td><td>0.27</td><td>0.56</td><td>0.10</td><td>0.37</td><td>0.22</td><td>0.54</td><td> 2</td></tr>\n",
       "\t<tr><td>two.factor.f2   </td><td>0.28</td><td>0.39</td><td>0.27</td><td>0.55</td><td>0.09</td><td>0.38</td><td>0.23</td><td>0.53</td><td> 3</td></tr>\n",
       "\t<tr><td>two.factor.re.f1</td><td>0.29</td><td>0.39</td><td>0.27</td><td>0.56</td><td>0.11</td><td>0.36</td><td>0.23</td><td>0.55</td><td> 4</td></tr>\n",
       "\t<tr><td>two.factor.re.f2</td><td>0.29</td><td>0.39</td><td>0.28</td><td>0.55</td><td>0.10</td><td>0.38</td><td>0.24</td><td>0.53</td><td> 5</td></tr>\n",
       "\t<tr><td>bifactor.g      </td><td>0.29</td><td>0.40</td><td>0.27</td><td>0.61</td><td>0.11</td><td>0.38</td><td>0.24</td><td>0.59</td><td> 6</td></tr>\n",
       "\t<tr><td>bifactor.f1     </td><td>0.13</td><td>0.10</td><td>0.06</td><td>0.21</td><td>0.06</td><td>0.10</td><td>0.10</td><td>0.37</td><td> 7</td></tr>\n",
       "\t<tr><td>bifactor.f2     </td><td>0.17</td><td>0.25</td><td>0.18</td><td>0.27</td><td>0.08</td><td>0.36</td><td>0.22</td><td>0.42</td><td> 8</td></tr>\n",
       "\t<tr><td>three.factor.f1 </td><td>0.28</td><td>0.38</td><td>0.27</td><td>0.56</td><td>0.10</td><td>0.37</td><td>0.22</td><td>0.54</td><td> 9</td></tr>\n",
       "\t<tr><td>three.factor.f2 </td><td>0.28</td><td>0.39</td><td>0.27</td><td>0.55</td><td>0.10</td><td>0.38</td><td>0.23</td><td>0.52</td><td>10</td></tr>\n",
       "\t<tr><td>three.factor.f3 </td><td>0.29</td><td>0.39</td><td>0.27</td><td>0.54</td><td>0.09</td><td>0.38</td><td>0.22</td><td>0.52</td><td>11</td></tr>\n",
       "</tbody>\n",
       "</table>\n"
      ],
      "text/latex": [
       "A data.frame: 11 × 10\n",
       "\\begin{tabular}{llllllllll}\n",
       " var & gambling frequency\\_w1 & annual expenses\\_w1 & gambling diversity\\_w1 & gambling harm\\_w1 & gambling frequency\\_w2 & annual expenses\\_w2 & gambling diversity\\_w2 & gambling harm\\_w2 & table\\_order\\\\\n",
       " <chr> & <dbl> & <dbl> & <dbl> & <dbl> & <dbl> & <dbl> & <dbl> & <dbl> & <dbl>\\\\\n",
       "\\hline\n",
       "\t single.factor    & 0.28 & 0.38 & 0.27 & 0.55 & 0.10 & 0.36 & 0.23 & 0.53 &  1\\\\\n",
       "\t two.factor.f1    & 0.28 & 0.38 & 0.27 & 0.56 & 0.10 & 0.37 & 0.22 & 0.54 &  2\\\\\n",
       "\t two.factor.f2    & 0.28 & 0.39 & 0.27 & 0.55 & 0.09 & 0.38 & 0.23 & 0.53 &  3\\\\\n",
       "\t two.factor.re.f1 & 0.29 & 0.39 & 0.27 & 0.56 & 0.11 & 0.36 & 0.23 & 0.55 &  4\\\\\n",
       "\t two.factor.re.f2 & 0.29 & 0.39 & 0.28 & 0.55 & 0.10 & 0.38 & 0.24 & 0.53 &  5\\\\\n",
       "\t bifactor.g       & 0.29 & 0.40 & 0.27 & 0.61 & 0.11 & 0.38 & 0.24 & 0.59 &  6\\\\\n",
       "\t bifactor.f1      & 0.13 & 0.10 & 0.06 & 0.21 & 0.06 & 0.10 & 0.10 & 0.37 &  7\\\\\n",
       "\t bifactor.f2      & 0.17 & 0.25 & 0.18 & 0.27 & 0.08 & 0.36 & 0.22 & 0.42 &  8\\\\\n",
       "\t three.factor.f1  & 0.28 & 0.38 & 0.27 & 0.56 & 0.10 & 0.37 & 0.22 & 0.54 &  9\\\\\n",
       "\t three.factor.f2  & 0.28 & 0.39 & 0.27 & 0.55 & 0.10 & 0.38 & 0.23 & 0.52 & 10\\\\\n",
       "\t three.factor.f3  & 0.29 & 0.39 & 0.27 & 0.54 & 0.09 & 0.38 & 0.22 & 0.52 & 11\\\\\n",
       "\\end{tabular}\n"
      ],
      "text/markdown": [
       "\n",
       "A data.frame: 11 × 10\n",
       "\n",
       "| var &lt;chr&gt; | gambling frequency_w1 &lt;dbl&gt; | annual expenses_w1 &lt;dbl&gt; | gambling diversity_w1 &lt;dbl&gt; | gambling harm_w1 &lt;dbl&gt; | gambling frequency_w2 &lt;dbl&gt; | annual expenses_w2 &lt;dbl&gt; | gambling diversity_w2 &lt;dbl&gt; | gambling harm_w2 &lt;dbl&gt; | table_order &lt;dbl&gt; |\n",
       "|---|---|---|---|---|---|---|---|---|---|\n",
       "| single.factor    | 0.28 | 0.38 | 0.27 | 0.55 | 0.10 | 0.36 | 0.23 | 0.53 |  1 |\n",
       "| two.factor.f1    | 0.28 | 0.38 | 0.27 | 0.56 | 0.10 | 0.37 | 0.22 | 0.54 |  2 |\n",
       "| two.factor.f2    | 0.28 | 0.39 | 0.27 | 0.55 | 0.09 | 0.38 | 0.23 | 0.53 |  3 |\n",
       "| two.factor.re.f1 | 0.29 | 0.39 | 0.27 | 0.56 | 0.11 | 0.36 | 0.23 | 0.55 |  4 |\n",
       "| two.factor.re.f2 | 0.29 | 0.39 | 0.28 | 0.55 | 0.10 | 0.38 | 0.24 | 0.53 |  5 |\n",
       "| bifactor.g       | 0.29 | 0.40 | 0.27 | 0.61 | 0.11 | 0.38 | 0.24 | 0.59 |  6 |\n",
       "| bifactor.f1      | 0.13 | 0.10 | 0.06 | 0.21 | 0.06 | 0.10 | 0.10 | 0.37 |  7 |\n",
       "| bifactor.f2      | 0.17 | 0.25 | 0.18 | 0.27 | 0.08 | 0.36 | 0.22 | 0.42 |  8 |\n",
       "| three.factor.f1  | 0.28 | 0.38 | 0.27 | 0.56 | 0.10 | 0.37 | 0.22 | 0.54 |  9 |\n",
       "| three.factor.f2  | 0.28 | 0.39 | 0.27 | 0.55 | 0.10 | 0.38 | 0.23 | 0.52 | 10 |\n",
       "| three.factor.f3  | 0.29 | 0.39 | 0.27 | 0.54 | 0.09 | 0.38 | 0.22 | 0.52 | 11 |\n",
       "\n"
      ],
      "text/plain": [
       "   var              gambling frequency_w1 annual expenses_w1\n",
       "1  single.factor    0.28                  0.38              \n",
       "2  two.factor.f1    0.28                  0.38              \n",
       "3  two.factor.f2    0.28                  0.39              \n",
       "4  two.factor.re.f1 0.29                  0.39              \n",
       "5  two.factor.re.f2 0.29                  0.39              \n",
       "6  bifactor.g       0.29                  0.40              \n",
       "7  bifactor.f1      0.13                  0.10              \n",
       "8  bifactor.f2      0.17                  0.25              \n",
       "9  three.factor.f1  0.28                  0.38              \n",
       "10 three.factor.f2  0.28                  0.39              \n",
       "11 three.factor.f3  0.29                  0.39              \n",
       "   gambling diversity_w1 gambling harm_w1 gambling frequency_w2\n",
       "1  0.27                  0.55             0.10                 \n",
       "2  0.27                  0.56             0.10                 \n",
       "3  0.27                  0.55             0.09                 \n",
       "4  0.27                  0.56             0.11                 \n",
       "5  0.28                  0.55             0.10                 \n",
       "6  0.27                  0.61             0.11                 \n",
       "7  0.06                  0.21             0.06                 \n",
       "8  0.18                  0.27             0.08                 \n",
       "9  0.27                  0.56             0.10                 \n",
       "10 0.27                  0.55             0.10                 \n",
       "11 0.27                  0.54             0.09                 \n",
       "   annual expenses_w2 gambling diversity_w2 gambling harm_w2 table_order\n",
       "1  0.36               0.23                  0.53              1         \n",
       "2  0.37               0.22                  0.54              2         \n",
       "3  0.38               0.23                  0.53              3         \n",
       "4  0.36               0.23                  0.55              4         \n",
       "5  0.38               0.24                  0.53              5         \n",
       "6  0.38               0.24                  0.59              6         \n",
       "7  0.10               0.10                  0.37              7         \n",
       "8  0.36               0.22                  0.42              8         \n",
       "9  0.37               0.22                  0.54              9         \n",
       "10 0.38               0.23                  0.52             10         \n",
       "11 0.38               0.22                  0.52             11         "
      ]
     },
     "metadata": {},
     "output_type": "display_data"
    }
   ],
   "source": [
    "convergent_validity = merge(conv_val, conv_val_2, by = 'var', suffixes = c(\"_w1\",\"_w2\"))\n",
    "\n",
    "convergent_validity$table_order = c(7,8,6,1,9,10,11,2,3,4,5)\n",
    "convergent_validity = convergent_validity %>% arrange(table_order)\n",
    "write.csv(convergent_validity, '../output/tables/validity/convergent_validity_table.csv')\n",
    "convergent_validity"
   ]
  },
  {
   "cell_type": "code",
   "execution_count": 11,
   "id": "75a312b0-514c-4c3b-ab4c-8789fa085341",
   "metadata": {},
   "outputs": [
    {
     "name": "stderr",
     "output_type": "stream",
     "text": [
      "Warning message:\n",
      "\"package 'corrplot' was built under R version 4.2.3\"\n",
      "corrplot 0.92 loaded\n",
      "\n"
     ]
    },
    {
     "data": {
      "image/png": "[encoded data removed]",
      "text/plain": [
       "Plot with title \"\""
      ]
     },
     "metadata": {
      "image/png": {
       "height": 420,
       "width": 420
      }
     },
     "output_type": "display_data"
    }
   ],
   "source": [
    "library(corrplot)\n",
    "df_plot = convergent_validity %>% select(-table_order) %>% tibble::column_to_rownames('var')\n",
    "corrplot(as.matrix(df_plot), is.corr = FALSE)"
   ]
  },
  {
   "cell_type": "code",
   "execution_count": null,
   "id": "544a64c6-54a8-4a5d-aa5a-edba30940043",
   "metadata": {},
   "outputs": [],
   "source": []
  }
 ],
 "metadata": {
  "kernelspec": {
   "display_name": "R",
   "language": "R",
   "name": "ir"
  },
  "language_info": {
   "codemirror_mode": "r",
   "file_extension": ".r",
   "mimetype": "text/x-r-source",
   "name": "R",
   "pygments_lexer": "r",
   "version": "4.2.2"
  }
 },
 "nbformat": 4,
 "nbformat_minor": 5
}
