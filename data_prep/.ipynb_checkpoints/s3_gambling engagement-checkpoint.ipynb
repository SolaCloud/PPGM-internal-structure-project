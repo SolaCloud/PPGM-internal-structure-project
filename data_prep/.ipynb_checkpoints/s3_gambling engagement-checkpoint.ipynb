{
 "cells": [
  {
   "cell_type": "markdown",
   "id": "d397c92b-06c9-4d50-8904-7031cea2f9e5",
   "metadata": {},
   "source": [
    "# select the analysis participant base for gambling engagement (it meatters in normalization/outlier deletion)"
   ]
  },
  {
   "cell_type": "code",
   "execution_count": 1,
   "id": "d91a7d8d-7ab5-420b-9a31-90d546b277cd",
   "metadata": {},
   "outputs": [
    {
     "name": "stderr",
     "output_type": "stream",
     "text": [
      "Warning message:\n",
      "\"package 'dplyr' was built under R version 4.2.3\"\n",
      "\n",
      "Attaching package: 'dplyr'\n",
      "\n",
      "\n",
      "The following objects are masked from 'package:stats':\n",
      "\n",
      "    filter, lag\n",
      "\n",
      "\n",
      "The following objects are masked from 'package:base':\n",
      "\n",
      "    intersect, setdiff, setequal, union\n",
      "\n",
      "\n"
     ]
    },
    {
     "data": {
      "text/html": [
       "<style>\n",
       ".list-inline {list-style: none; margin:0; padding: 0}\n",
       ".list-inline>li {display: inline-block}\n",
       ".list-inline>li:not(:last-child)::after {content: \"\\00b7\"; padding: 0 .5ex}\n",
       "</style>\n",
       "<ol class=list-inline><li>5766</li><li>2</li></ol>\n"
      ],
      "text/latex": [
       "\\begin{enumerate*}\n",
       "\\item 5766\n",
       "\\item 2\n",
       "\\end{enumerate*}\n"
      ],
      "text/markdown": [
       "1. 5766\n",
       "2. 2\n",
       "\n",
       "\n"
      ],
      "text/plain": [
       "[1] 5766    2"
      ]
     },
     "metadata": {},
     "output_type": "display_data"
    },
    {
     "data": {
      "text/html": [
       "<table class=\"dataframe\">\n",
       "<caption>A data.frame: 2 × 2</caption>\n",
       "<thead>\n",
       "\t<tr><th></th><th scope=col>subjectkey</th><th scope=col>max_activity</th></tr>\n",
       "\t<tr><th></th><th scope=col>&lt;chr&gt;</th><th scope=col>&lt;dbl&gt;</th></tr>\n",
       "</thead>\n",
       "<tbody>\n",
       "\t<tr><th scope=row>1</th><td>1</td><td>4</td></tr>\n",
       "\t<tr><th scope=row>2</th><td>2</td><td>2</td></tr>\n",
       "</tbody>\n",
       "</table>\n"
      ],
      "text/latex": [
       "A data.frame: 2 × 2\n",
       "\\begin{tabular}{r|ll}\n",
       "  & subjectkey & max\\_activity\\\\\n",
       "  & <chr> & <dbl>\\\\\n",
       "\\hline\n",
       "\t1 & 1 & 4\\\\\n",
       "\t2 & 2 & 2\\\\\n",
       "\\end{tabular}\n"
      ],
      "text/markdown": [
       "\n",
       "A data.frame: 2 × 2\n",
       "\n",
       "| <!--/--> | subjectkey &lt;chr&gt; | max_activity &lt;dbl&gt; |\n",
       "|---|---|---|\n",
       "| 1 | 1 | 4 |\n",
       "| 2 | 2 | 2 |\n",
       "\n"
      ],
      "text/plain": [
       "  subjectkey max_activity\n",
       "1 1          4           \n",
       "2 2          2           "
      ]
     },
     "metadata": {},
     "output_type": "display_data"
    },
    {
     "data": {
      "text/html": [
       "<style>\n",
       ".list-inline {list-style: none; margin:0; padding: 0}\n",
       ".list-inline>li {display: inline-block}\n",
       ".list-inline>li:not(:last-child)::after {content: \"\\00b7\"; padding: 0 .5ex}\n",
       "</style>\n",
       "<ol class=list-inline><li>2161</li><li>2</li></ol>\n"
      ],
      "text/latex": [
       "\\begin{enumerate*}\n",
       "\\item 2161\n",
       "\\item 2\n",
       "\\end{enumerate*}\n"
      ],
      "text/markdown": [
       "1. 2161\n",
       "2. 2\n",
       "\n",
       "\n"
      ],
      "text/plain": [
       "[1] 2161    2"
      ]
     },
     "metadata": {},
     "output_type": "display_data"
    }
   ],
   "source": [
    "library(dplyr)\n",
    "# year 2016\n",
    "data_2016 = read.csv('../output/data_cleaned/HarmSurvey2016.csv', row =1)\n",
    "data_gambled = data_2016 %>% select(subjectkey, starts_with('freq')) %>% tibble::column_to_rownames('subjectkey')\n",
    "# 8 is an un-used code \n",
    "data_gambled[is.na(data_gambled)] = 8\n",
    "# 1-7 from 'daily' to 'not at all'\n",
    "data_gambled$max_activity = apply(data_gambled, 1, min)\n",
    "data_gambled$I_gambled = ifelse(data_gambled$max_activity < 7, 1, 0)\n",
    "\n",
    "data_gambled_2016 = data_gambled %>% filter(I_gambled == 1) %>% select(max_activity) %>% tibble::rownames_to_column('subjectkey')\n",
    "dim(data_gambled_2016)\n",
    "head(data_gambled_2016,2)\n",
    "\n",
    "# year 2017\n",
    "data_2017 = read.csv('../output/data_cleaned/HarmSurvey2017.csv', row =1)\n",
    "data_gambled = data_2017 %>% select(subjectkey, starts_with('freq')) %>% tibble::column_to_rownames('subjectkey')\n",
    "# 8 is an un-used code \n",
    "data_gambled[is.na(data_gambled)] = 8\n",
    "# 1-7 from 'daily' to 'not at all'\n",
    "data_gambled$max_activity = apply(data_gambled, 1, min)\n",
    "data_gambled$I_gambled = ifelse(data_gambled$max_activity < 7, 1, 0)\n",
    "\n",
    "data_gambled_2017 = data_gambled %>% filter(I_gambled == 1) %>% select(max_activity) %>% tibble::rownames_to_column('subjectkey')\n",
    "dim(data_gambled_2017)"
   ]
  },
  {
   "cell_type": "markdown",
   "id": "59e5c2ab-73d8-4f3b-95a2-301087dfd9c8",
   "metadata": {
    "tags": []
   },
   "source": [
    "## gambling frequency"
   ]
  },
  {
   "cell_type": "code",
   "execution_count": 2,
   "id": "008bdcca-e70b-422f-887a-13c30ad7f473",
   "metadata": {},
   "outputs": [
    {
     "name": "stderr",
     "output_type": "stream",
     "text": [
      "Warning message:\n",
      "\"package 'tidyverse' was built under R version 4.2.3\"\n",
      "Warning message:\n",
      "\"package 'ggplot2' was built under R version 4.2.3\"\n",
      "Warning message:\n",
      "\"package 'tibble' was built under R version 4.2.3\"\n",
      "Warning message:\n",
      "\"package 'readr' was built under R version 4.2.3\"\n",
      "── \u001b[1mAttaching core tidyverse packages\u001b[22m ──────────────────────── tidyverse 2.0.0 ──\n",
      "\u001b[32m✔\u001b[39m \u001b[34mforcats  \u001b[39m 1.0.0     \u001b[32m✔\u001b[39m \u001b[34mreadr    \u001b[39m 2.1.4\n",
      "\u001b[32m✔\u001b[39m \u001b[34mggplot2  \u001b[39m 3.4.4     \u001b[32m✔\u001b[39m \u001b[34mstringr  \u001b[39m 1.5.0\n",
      "\u001b[32m✔\u001b[39m \u001b[34mlubridate\u001b[39m 1.9.2     \u001b[32m✔\u001b[39m \u001b[34mtibble   \u001b[39m 3.2.1\n",
      "\u001b[32m✔\u001b[39m \u001b[34mpurrr    \u001b[39m 1.0.1     \u001b[32m✔\u001b[39m \u001b[34mtidyr    \u001b[39m 1.3.0\n",
      "── \u001b[1mConflicts\u001b[22m ────────────────────────────────────────── tidyverse_conflicts() ──\n",
      "\u001b[31m✖\u001b[39m \u001b[34mdplyr\u001b[39m::\u001b[32mfilter()\u001b[39m masks \u001b[34mstats\u001b[39m::filter()\n",
      "\u001b[31m✖\u001b[39m \u001b[34mdplyr\u001b[39m::\u001b[32mlag()\u001b[39m    masks \u001b[34mstats\u001b[39m::lag()\n",
      "\u001b[36mℹ\u001b[39m Use the conflicted package (\u001b[3m\u001b[34m<http://conflicted.r-lib.org/>\u001b[39m\u001b[23m) to force all conflicts to become errors\n"
     ]
    },
    {
     "data": {
      "text/html": [
       "<table class=\"dataframe\">\n",
       "<caption>A data.frame: 6 × 2</caption>\n",
       "<thead>\n",
       "\t<tr><th></th><th scope=col>subjectkey</th><th scope=col>sum_freq_all_No_lottery</th></tr>\n",
       "\t<tr><th></th><th scope=col>&lt;chr&gt;</th><th scope=col>&lt;dbl&gt;</th></tr>\n",
       "</thead>\n",
       "<tbody>\n",
       "\t<tr><th scope=row>1</th><td>1</td><td>-0.6282489</td></tr>\n",
       "\t<tr><th scope=row>2</th><td>2</td><td>-0.3094462</td></tr>\n",
       "\t<tr><th scope=row>3</th><td>3</td><td> 0.3171101</td></tr>\n",
       "\t<tr><th scope=row>4</th><td>4</td><td>-0.3607761</td></tr>\n",
       "\t<tr><th scope=row>5</th><td>6</td><td>-1.0201452</td></tr>\n",
       "\t<tr><th scope=row>6</th><td>7</td><td>-0.6453903</td></tr>\n",
       "</tbody>\n",
       "</table>\n"
      ],
      "text/latex": [
       "A data.frame: 6 × 2\n",
       "\\begin{tabular}{r|ll}\n",
       "  & subjectkey & sum\\_freq\\_all\\_No\\_lottery\\\\\n",
       "  & <chr> & <dbl>\\\\\n",
       "\\hline\n",
       "\t1 & 1 & -0.6282489\\\\\n",
       "\t2 & 2 & -0.3094462\\\\\n",
       "\t3 & 3 &  0.3171101\\\\\n",
       "\t4 & 4 & -0.3607761\\\\\n",
       "\t5 & 6 & -1.0201452\\\\\n",
       "\t6 & 7 & -0.6453903\\\\\n",
       "\\end{tabular}\n"
      ],
      "text/markdown": [
       "\n",
       "A data.frame: 6 × 2\n",
       "\n",
       "| <!--/--> | subjectkey &lt;chr&gt; | sum_freq_all_No_lottery &lt;dbl&gt; |\n",
       "|---|---|---|\n",
       "| 1 | 1 | -0.6282489 |\n",
       "| 2 | 2 | -0.3094462 |\n",
       "| 3 | 3 |  0.3171101 |\n",
       "| 4 | 4 | -0.3607761 |\n",
       "| 5 | 6 | -1.0201452 |\n",
       "| 6 | 7 | -0.6453903 |\n",
       "\n"
      ],
      "text/plain": [
       "  subjectkey sum_freq_all_No_lottery\n",
       "1 1          -0.6282489             \n",
       "2 2          -0.3094462             \n",
       "3 3           0.3171101             \n",
       "4 4          -0.3607761             \n",
       "5 6          -1.0201452             \n",
       "6 7          -0.6453903             "
      ]
     },
     "metadata": {},
     "output_type": "display_data"
    },
    {
     "data": {
      "text/html": [
       "<style>\n",
       ".list-inline {list-style: none; margin:0; padding: 0}\n",
       ".list-inline>li {display: inline-block}\n",
       ".list-inline>li:not(:last-child)::after {content: \"\\00b7\"; padding: 0 .5ex}\n",
       "</style>\n",
       "<ol class=list-inline><li>6562</li><li>2</li></ol>\n"
      ],
      "text/latex": [
       "\\begin{enumerate*}\n",
       "\\item 6562\n",
       "\\item 2\n",
       "\\end{enumerate*}\n"
      ],
      "text/markdown": [
       "1. 6562\n",
       "2. 2\n",
       "\n",
       "\n"
      ],
      "text/plain": [
       "[1] 6562    2"
      ]
     },
     "metadata": {},
     "output_type": "display_data"
    },
    {
     "data": {
      "text/html": [
       "<table class=\"dataframe\">\n",
       "<caption>A data.frame: 6 × 2</caption>\n",
       "<thead>\n",
       "\t<tr><th></th><th scope=col>subjectkey</th><th scope=col>sum_freq_all_No_lottery</th></tr>\n",
       "\t<tr><th></th><th scope=col>&lt;chr&gt;</th><th scope=col>&lt;dbl&gt;</th></tr>\n",
       "</thead>\n",
       "<tbody>\n",
       "\t<tr><th scope=row>1</th><td>1</td><td>-0.7863862</td></tr>\n",
       "\t<tr><th scope=row>2</th><td>3</td><td>-0.7168968</td></tr>\n",
       "\t<tr><th scope=row>3</th><td>5</td><td> 1.2139401</td></tr>\n",
       "\t<tr><th scope=row>4</th><td>6</td><td>-0.8655303</td></tr>\n",
       "\t<tr><th scope=row>5</th><td>7</td><td>-0.8655303</td></tr>\n",
       "\t<tr><th scope=row>6</th><td>8</td><td>-0.4137983</td></tr>\n",
       "</tbody>\n",
       "</table>\n"
      ],
      "text/latex": [
       "A data.frame: 6 × 2\n",
       "\\begin{tabular}{r|ll}\n",
       "  & subjectkey & sum\\_freq\\_all\\_No\\_lottery\\\\\n",
       "  & <chr> & <dbl>\\\\\n",
       "\\hline\n",
       "\t1 & 1 & -0.7863862\\\\\n",
       "\t2 & 3 & -0.7168968\\\\\n",
       "\t3 & 5 &  1.2139401\\\\\n",
       "\t4 & 6 & -0.8655303\\\\\n",
       "\t5 & 7 & -0.8655303\\\\\n",
       "\t6 & 8 & -0.4137983\\\\\n",
       "\\end{tabular}\n"
      ],
      "text/markdown": [
       "\n",
       "A data.frame: 6 × 2\n",
       "\n",
       "| <!--/--> | subjectkey &lt;chr&gt; | sum_freq_all_No_lottery &lt;dbl&gt; |\n",
       "|---|---|---|\n",
       "| 1 | 1 | -0.7863862 |\n",
       "| 2 | 3 | -0.7168968 |\n",
       "| 3 | 5 |  1.2139401 |\n",
       "| 4 | 6 | -0.8655303 |\n",
       "| 5 | 7 | -0.8655303 |\n",
       "| 6 | 8 | -0.4137983 |\n",
       "\n"
      ],
      "text/plain": [
       "  subjectkey sum_freq_all_No_lottery\n",
       "1 1          -0.7863862             \n",
       "2 3          -0.7168968             \n",
       "3 5           1.2139401             \n",
       "4 6          -0.8655303             \n",
       "5 7          -0.8655303             \n",
       "6 8          -0.4137983             "
      ]
     },
     "metadata": {},
     "output_type": "display_data"
    },
    {
     "data": {
      "text/html": [
       "<style>\n",
       ".list-inline {list-style: none; margin:0; padding: 0}\n",
       ".list-inline>li {display: inline-block}\n",
       ".list-inline>li:not(:last-child)::after {content: \"\\00b7\"; padding: 0 .5ex}\n",
       "</style>\n",
       "<ol class=list-inline><li>2400</li><li>2</li></ol>\n"
      ],
      "text/latex": [
       "\\begin{enumerate*}\n",
       "\\item 2400\n",
       "\\item 2\n",
       "\\end{enumerate*}\n"
      ],
      "text/markdown": [
       "1. 2400\n",
       "2. 2\n",
       "\n",
       "\n"
      ],
      "text/plain": [
       "[1] 2400    2"
      ]
     },
     "metadata": {},
     "output_type": "display_data"
    }
   ],
   "source": [
    "#########2016\n",
    "\n",
    "activity_numeric = data_2016 %>% select(subjectkey,starts_with('freq_')) %>% tidyr::drop_na()\n",
    "\n",
    "library(tidyverse)\n",
    "# reverse coding, original: daily 1; to not at all: 7; cannot say 9\n",
    "rownames(activity_numeric) <- NULL\n",
    "activity_numeric_new = activity_numeric %>% tibble::column_to_rownames('subjectkey')\n",
    "freq_df_r = 8 - activity_numeric_new\n",
    "\n",
    "freq_df_r[freq_df_r == -1] = NA\n",
    "freq_df = na.omit(freq_df_r)\n",
    "\n",
    "data_pca = freq_df %>% select(-freq_Lotto)\n",
    "pca_model = prcomp(data_pca, scale = TRUE)\n",
    "\n",
    "freq_df_pca = as.data.frame(pca_model$x) %>% \n",
    "            select(PC1) %>%\n",
    "            tibble::rownames_to_column('subjectkey') %>%\n",
    "            rename(sum_freq_all_No_lottery = PC1)\n",
    "\n",
    "head(freq_df_pca)\n",
    "dim(freq_df_pca)\n",
    "\n",
    "write.csv(freq_df_pca, '../output/data_cleaned/freq_df_summary_2016_PCA.csv')\n",
    "\n",
    "#########2017\n",
    "library(dplyr)\n",
    "\n",
    "activity_numeric = data_2017 %>% select(subjectkey,starts_with('freq_')) %>% tidyr::drop_na()\n",
    "\n",
    "library(tidyverse)\n",
    "# reverse coding, original: daily 1; to not at all: 7; cannot say 9\n",
    "rownames(activity_numeric) <- NULL\n",
    "activity_numeric_new = activity_numeric %>% tibble::column_to_rownames('subjectkey')\n",
    "freq_df_r = 8 - activity_numeric_new\n",
    "\n",
    "freq_df_r[freq_df_r == -1] = NA\n",
    "freq_df = na.omit(freq_df_r)\n",
    "\n",
    "data_pca = freq_df %>% select(-freq_Lotto)\n",
    "pca_model = prcomp(data_pca, scale = TRUE)\n",
    "\n",
    "freq_df_pca = as.data.frame(pca_model$x) %>% \n",
    "            select(PC1) %>%\n",
    "            tibble::rownames_to_column('subjectkey') %>%\n",
    "            rename(sum_freq_all_No_lottery = PC1)\n",
    "\n",
    "head(freq_df_pca)\n",
    "dim(freq_df_pca)\n",
    "\n",
    "write.csv(freq_df_pca, '../output/data_cleaned/freq_df_summary_2017_PCA.csv')"
   ]
  },
  {
   "cell_type": "markdown",
   "id": "7e8ad549-d7d3-4615-a311-8742680df777",
   "metadata": {
    "tags": []
   },
   "source": [
    "## gambling expenditures"
   ]
  },
  {
   "cell_type": "code",
   "execution_count": 3,
   "id": "496e2fcc-2f23-4e2e-ac5f-cdbfa2eac814",
   "metadata": {},
   "outputs": [
    {
     "name": "stderr",
     "output_type": "stream",
     "text": [
      "Warning message:\n",
      "\"\u001b[1m\u001b[22mThere were 3 warnings in `mutate()`.\n",
      "The first warning was:\n",
      "\u001b[1m\u001b[22m\u001b[36mℹ\u001b[39m In argument: `spent_per_w = as.numeric(spent_per_w)`.\n",
      "Caused by warning:\n",
      "\u001b[33m!\u001b[39m NAs introduced by coercion\n",
      "\u001b[1m\u001b[22m\u001b[36mℹ\u001b[39m Run `dplyr::last_dplyr_warnings()` to see the 2 remaining warnings.\"\n"
     ]
    },
    {
     "name": "stdout",
     "output_type": "stream",
     "text": [
      "all gamblers without missing data:  4509 \n",
      "non-positive expenditures :  210 \n",
      "exceeding 100,000 euros:  2 \n"
     ]
    },
    {
     "data": {
      "text/html": [
       "<table class=\"dataframe\">\n",
       "<caption>A data.frame: 2 × 2</caption>\n",
       "<thead>\n",
       "\t<tr><th></th><th scope=col>subjectkey</th><th scope=col>annual_expenses</th></tr>\n",
       "\t<tr><th></th><th scope=col>&lt;int&gt;</th><th scope=col>&lt;dbl&gt;</th></tr>\n",
       "</thead>\n",
       "<tbody>\n",
       "\t<tr><th scope=row>1</th><td>1</td><td>100</td></tr>\n",
       "\t<tr><th scope=row>2</th><td>2</td><td>780</td></tr>\n",
       "</tbody>\n",
       "</table>\n"
      ],
      "text/latex": [
       "A data.frame: 2 × 2\n",
       "\\begin{tabular}{r|ll}\n",
       "  & subjectkey & annual\\_expenses\\\\\n",
       "  & <int> & <dbl>\\\\\n",
       "\\hline\n",
       "\t1 & 1 & 100\\\\\n",
       "\t2 & 2 & 780\\\\\n",
       "\\end{tabular}\n"
      ],
      "text/markdown": [
       "\n",
       "A data.frame: 2 × 2\n",
       "\n",
       "| <!--/--> | subjectkey &lt;int&gt; | annual_expenses &lt;dbl&gt; |\n",
       "|---|---|---|\n",
       "| 1 | 1 | 100 |\n",
       "| 2 | 2 | 780 |\n",
       "\n"
      ],
      "text/plain": [
       "  subjectkey annual_expenses\n",
       "1 1          100            \n",
       "2 2          780            "
      ]
     },
     "metadata": {},
     "output_type": "display_data"
    },
    {
     "data": {
      "text/html": [
       "<style>\n",
       ".list-inline {list-style: none; margin:0; padding: 0}\n",
       ".list-inline>li {display: inline-block}\n",
       ".list-inline>li:not(:last-child)::after {content: \"\\00b7\"; padding: 0 .5ex}\n",
       "</style>\n",
       "<ol class=list-inline><li>4297</li><li>2</li></ol>\n"
      ],
      "text/latex": [
       "\\begin{enumerate*}\n",
       "\\item 4297\n",
       "\\item 2\n",
       "\\end{enumerate*}\n"
      ],
      "text/markdown": [
       "1. 4297\n",
       "2. 2\n",
       "\n",
       "\n"
      ],
      "text/plain": [
       "[1] 4297    2"
      ]
     },
     "metadata": {},
     "output_type": "display_data"
    },
    {
     "name": "stderr",
     "output_type": "stream",
     "text": [
      "Warning message:\n",
      "\"\u001b[1m\u001b[22mThere were 3 warnings in `mutate()`.\n",
      "The first warning was:\n",
      "\u001b[1m\u001b[22m\u001b[36mℹ\u001b[39m In argument: `spent_per_w = as.numeric(spent_per_w)`.\n",
      "Caused by warning:\n",
      "\u001b[33m!\u001b[39m NAs introduced by coercion\n",
      "\u001b[1m\u001b[22m\u001b[36mℹ\u001b[39m Run `dplyr::last_dplyr_warnings()` to see the 2 remaining warnings.\"\n"
     ]
    },
    {
     "name": "stdout",
     "output_type": "stream",
     "text": [
      "all gamblers without missing data:  1713 \n",
      "non-positive expenditures :  23 \n",
      "exceeding 100,000 euros:  1 \n"
     ]
    },
    {
     "data": {
      "text/html": [
       "<table class=\"dataframe\">\n",
       "<caption>A data.frame: 2 × 2</caption>\n",
       "<thead>\n",
       "\t<tr><th></th><th scope=col>subjectkey</th><th scope=col>annual_expenses</th></tr>\n",
       "\t<tr><th></th><th scope=col>&lt;int&gt;</th><th scope=col>&lt;dbl&gt;</th></tr>\n",
       "</thead>\n",
       "<tbody>\n",
       "\t<tr><th scope=row>1</th><td>1</td><td> 150</td></tr>\n",
       "\t<tr><th scope=row>2</th><td>2</td><td>1040</td></tr>\n",
       "</tbody>\n",
       "</table>\n"
      ],
      "text/latex": [
       "A data.frame: 2 × 2\n",
       "\\begin{tabular}{r|ll}\n",
       "  & subjectkey & annual\\_expenses\\\\\n",
       "  & <int> & <dbl>\\\\\n",
       "\\hline\n",
       "\t1 & 1 &  150\\\\\n",
       "\t2 & 2 & 1040\\\\\n",
       "\\end{tabular}\n"
      ],
      "text/markdown": [
       "\n",
       "A data.frame: 2 × 2\n",
       "\n",
       "| <!--/--> | subjectkey &lt;int&gt; | annual_expenses &lt;dbl&gt; |\n",
       "|---|---|---|\n",
       "| 1 | 1 |  150 |\n",
       "| 2 | 2 | 1040 |\n",
       "\n"
      ],
      "text/plain": [
       "  subjectkey annual_expenses\n",
       "1 1           150           \n",
       "2 2          1040           "
      ]
     },
     "metadata": {},
     "output_type": "display_data"
    },
    {
     "data": {
      "text/html": [
       "<style>\n",
       ".list-inline {list-style: none; margin:0; padding: 0}\n",
       ".list-inline>li {display: inline-block}\n",
       ".list-inline>li:not(:last-child)::after {content: \"\\00b7\"; padding: 0 .5ex}\n",
       "</style>\n",
       "<ol class=list-inline><li>1689</li><li>2</li></ol>\n"
      ],
      "text/latex": [
       "\\begin{enumerate*}\n",
       "\\item 1689\n",
       "\\item 2\n",
       "\\end{enumerate*}\n"
      ],
      "text/markdown": [
       "1. 1689\n",
       "2. 2\n",
       "\n",
       "\n"
      ],
      "text/plain": [
       "[1] 1689    2"
      ]
     },
     "metadata": {},
     "output_type": "display_data"
    }
   ],
   "source": [
    "######2016\n",
    "data_2016_recode = read.csv('../output/data_cleaned/HarmSurvey2016_recode.csv',row = 1)\n",
    "\n",
    "library(dplyr)\n",
    "\n",
    "# select who gambled last year\n",
    "who_gambled_2016 = data_gambled_2016$subjectkey \n",
    "\n",
    "data_expense = data_2016_recode %>% filter(subjectkey %in% who_gambled_2016) %>%\n",
    "            select(subjectkey,starts_with('spent')) %>% \n",
    "            mutate(spent_per_w = as.numeric(spent_per_w),\n",
    "                   spent_per_m = as.numeric(spent_per_m),\n",
    "                   spent_the_y = as.numeric(spent_the_y)\n",
    "                  ) %>%\n",
    "                mutate(annual_expenses = \n",
    "                       ifelse(!is.na(spent_the_y), spent_the_y, \n",
    "                              ifelse(!is.na(spent_per_m), spent_per_m * 12, spent_per_w * 52))) %>%\n",
    "                select(subjectkey, annual_expenses) %>% tidyr::drop_na()\n",
    "\n",
    "cat('all gamblers without missing data: ', nrow(data_expense), '\\n')\n",
    "# clean 0 and 100000; and replace outliers higher than three sd with upper limit\n",
    "spent_drop_negative = data_expense %>% filter(annual_expenses > 0)\n",
    "cat('non-positive expenditures : ', nrow(data_expense) - nrow(spent_drop_negative), '\\n')\n",
    "\n",
    "spent_drop_toomuch = spent_drop_negative %>% filter(annual_expenses < 100000)\n",
    "cat('exceeding 100,000 euros: ', nrow(spent_drop_negative) - nrow(spent_drop_toomuch), '\\n')\n",
    "\n",
    "uppper_limit = mean(spent_drop_toomuch$annual_expenses) + 3* sd(spent_drop_toomuch$annual_expenses)\n",
    "spent_drop_toomuch$annual_expenses[spent_drop_toomuch$annual_expenses > uppper_limit] = uppper_limit\n",
    "spent_2016 = spent_drop_toomuch\n",
    "head(spent_2016,2)\n",
    "dim(spent_2016)\n",
    "write.csv(spent_2016,'../output/data_cleaned/wmy_expenses_df_2016.csv')\n",
    "\n",
    "# -------------------2017---------------------------------\n",
    "data_2017_recode = read.csv('../output/data_cleaned/HarmSurvey2017_recode.csv',row = 1)\n",
    "\n",
    "library(dplyr)\n",
    "\n",
    "# select who gambled last year\n",
    "who_gambled_2017 = data_gambled_2017$subjectkey \n",
    "\n",
    "data_expense = data_2017_recode %>% filter(subjectkey %in% who_gambled_2017) %>%\n",
    "            select(subjectkey,starts_with('spent')) %>% \n",
    "            mutate(spent_per_w = as.numeric(spent_per_w),\n",
    "                   spent_per_m = as.numeric(spent_per_m),\n",
    "                   spent_the_y = as.numeric(spent_the_y)\n",
    "                  ) %>%\n",
    "                mutate(annual_expenses = \n",
    "                       ifelse(!is.na(spent_the_y), spent_the_y, \n",
    "                              ifelse(!is.na(spent_per_m), spent_per_m * 12, spent_per_w * 52))) %>%\n",
    "                select(subjectkey, annual_expenses) %>% tidyr::drop_na()\n",
    "\n",
    "cat('all gamblers without missing data: ', nrow(data_expense), '\\n')\n",
    "# clean 0 and 100000; and replace outliers higher than three sd with upper limit\n",
    "spent_drop_negative = data_expense %>% filter(annual_expenses > 0)\n",
    "cat('non-positive expenditures : ', nrow(data_expense) - nrow(spent_drop_negative), '\\n')\n",
    "\n",
    "spent_drop_toomuch = spent_drop_negative %>% filter(annual_expenses < 100000)\n",
    "cat('exceeding 100,000 euros: ', nrow(spent_drop_negative) - nrow(spent_drop_toomuch), '\\n')\n",
    "\n",
    "uppper_limit = mean(spent_drop_toomuch$annual_expenses) + 3* sd(spent_drop_toomuch$annual_expenses)\n",
    "spent_drop_toomuch$annual_expenses[spent_drop_toomuch$annual_expenses > uppper_limit] = uppper_limit\n",
    "spent_2017 = spent_drop_toomuch\n",
    "head(spent_2017,2)\n",
    "dim(spent_2017)\n",
    "write.csv(spent_2017,'../output/data_cleaned/wmy_expenses_df_2017.csv')"
   ]
  },
  {
   "cell_type": "markdown",
   "id": "e784fc00-908d-4448-b97d-32953a962772",
   "metadata": {},
   "source": [
    "## gambling diversity"
   ]
  },
  {
   "cell_type": "code",
   "execution_count": 4,
   "id": "43539d45-0db0-4f0b-ac3e-a116a5a33d30",
   "metadata": {},
   "outputs": [
    {
     "data": {
      "text/html": [
       "<table class=\"dataframe\">\n",
       "<caption>A data.frame: 2 × 22</caption>\n",
       "<thead>\n",
       "\t<tr><th></th><th scope=col>subjectkey</th><th scope=col>freq_Lotto</th><th scope=col>freq_OthLotA</th><th scope=col>freq_OthLotB</th><th scope=col>freq_Scratch</th><th scope=col>freq_VSbet</th><th scope=col>freq_VHorse</th><th scope=col>freq_Casino</th><th scope=col>freq_Slots</th><th scope=col>freq_Table</th><th scope=col>⋯</th><th scope=col>freq_FHorse</th><th scope=col>freq_Private</th><th scope=col>freq_Cruise</th><th scope=col>freq_PPaf</th><th scope=col>freq_OPaf</th><th scope=col>freq_PFor</th><th scope=col>freq_OFor</th><th scope=col>freq_Other</th><th scope=col>diverity</th><th scope=col>diverity_No_lottery</th></tr>\n",
       "\t<tr><th></th><th scope=col>&lt;chr&gt;</th><th scope=col>&lt;dbl&gt;</th><th scope=col>&lt;dbl&gt;</th><th scope=col>&lt;dbl&gt;</th><th scope=col>&lt;dbl&gt;</th><th scope=col>&lt;dbl&gt;</th><th scope=col>&lt;dbl&gt;</th><th scope=col>&lt;dbl&gt;</th><th scope=col>&lt;dbl&gt;</th><th scope=col>&lt;dbl&gt;</th><th scope=col>⋯</th><th scope=col>&lt;dbl&gt;</th><th scope=col>&lt;dbl&gt;</th><th scope=col>&lt;dbl&gt;</th><th scope=col>&lt;dbl&gt;</th><th scope=col>&lt;dbl&gt;</th><th scope=col>&lt;dbl&gt;</th><th scope=col>&lt;dbl&gt;</th><th scope=col>&lt;dbl&gt;</th><th scope=col>&lt;dbl&gt;</th><th scope=col>&lt;dbl&gt;</th></tr>\n",
       "</thead>\n",
       "<tbody>\n",
       "\t<tr><th scope=row>1</th><td>1</td><td>1</td><td>0</td><td>1</td><td>1</td><td>0</td><td>0</td><td>0</td><td>0</td><td>0</td><td>⋯</td><td>0</td><td>0</td><td>0</td><td>0</td><td>0</td><td>0</td><td>0</td><td>0</td><td>3</td><td>2</td></tr>\n",
       "\t<tr><th scope=row>2</th><td>2</td><td>1</td><td>0</td><td>1</td><td>1</td><td>0</td><td>0</td><td>0</td><td>0</td><td>0</td><td>⋯</td><td>0</td><td>0</td><td>0</td><td>0</td><td>0</td><td>0</td><td>0</td><td>0</td><td>3</td><td>2</td></tr>\n",
       "</tbody>\n",
       "</table>\n"
      ],
      "text/latex": [
       "A data.frame: 2 × 22\n",
       "\\begin{tabular}{r|lllllllllllllllllllll}\n",
       "  & subjectkey & freq\\_Lotto & freq\\_OthLotA & freq\\_OthLotB & freq\\_Scratch & freq\\_VSbet & freq\\_VHorse & freq\\_Casino & freq\\_Slots & freq\\_Table & ⋯ & freq\\_FHorse & freq\\_Private & freq\\_Cruise & freq\\_PPaf & freq\\_OPaf & freq\\_PFor & freq\\_OFor & freq\\_Other & diverity & diverity\\_No\\_lottery\\\\\n",
       "  & <chr> & <dbl> & <dbl> & <dbl> & <dbl> & <dbl> & <dbl> & <dbl> & <dbl> & <dbl> & ⋯ & <dbl> & <dbl> & <dbl> & <dbl> & <dbl> & <dbl> & <dbl> & <dbl> & <dbl> & <dbl>\\\\\n",
       "\\hline\n",
       "\t1 & 1 & 1 & 0 & 1 & 1 & 0 & 0 & 0 & 0 & 0 & ⋯ & 0 & 0 & 0 & 0 & 0 & 0 & 0 & 0 & 3 & 2\\\\\n",
       "\t2 & 2 & 1 & 0 & 1 & 1 & 0 & 0 & 0 & 0 & 0 & ⋯ & 0 & 0 & 0 & 0 & 0 & 0 & 0 & 0 & 3 & 2\\\\\n",
       "\\end{tabular}\n"
      ],
      "text/markdown": [
       "\n",
       "A data.frame: 2 × 22\n",
       "\n",
       "| <!--/--> | subjectkey &lt;chr&gt; | freq_Lotto &lt;dbl&gt; | freq_OthLotA &lt;dbl&gt; | freq_OthLotB &lt;dbl&gt; | freq_Scratch &lt;dbl&gt; | freq_VSbet &lt;dbl&gt; | freq_VHorse &lt;dbl&gt; | freq_Casino &lt;dbl&gt; | freq_Slots &lt;dbl&gt; | freq_Table &lt;dbl&gt; | ⋯ ⋯ | freq_FHorse &lt;dbl&gt; | freq_Private &lt;dbl&gt; | freq_Cruise &lt;dbl&gt; | freq_PPaf &lt;dbl&gt; | freq_OPaf &lt;dbl&gt; | freq_PFor &lt;dbl&gt; | freq_OFor &lt;dbl&gt; | freq_Other &lt;dbl&gt; | diverity &lt;dbl&gt; | diverity_No_lottery &lt;dbl&gt; |\n",
       "|---|---|---|---|---|---|---|---|---|---|---|---|---|---|---|---|---|---|---|---|---|---|\n",
       "| 1 | 1 | 1 | 0 | 1 | 1 | 0 | 0 | 0 | 0 | 0 | ⋯ | 0 | 0 | 0 | 0 | 0 | 0 | 0 | 0 | 3 | 2 |\n",
       "| 2 | 2 | 1 | 0 | 1 | 1 | 0 | 0 | 0 | 0 | 0 | ⋯ | 0 | 0 | 0 | 0 | 0 | 0 | 0 | 0 | 3 | 2 |\n",
       "\n"
      ],
      "text/plain": [
       "  subjectkey freq_Lotto freq_OthLotA freq_OthLotB freq_Scratch freq_VSbet\n",
       "1 1          1          0            1            1            0         \n",
       "2 2          1          0            1            1            0         \n",
       "  freq_VHorse freq_Casino freq_Slots freq_Table ⋯ freq_FHorse freq_Private\n",
       "1 0           0           0          0          ⋯ 0           0           \n",
       "2 0           0           0          0          ⋯ 0           0           \n",
       "  freq_Cruise freq_PPaf freq_OPaf freq_PFor freq_OFor freq_Other diverity\n",
       "1 0           0         0         0         0         0          3       \n",
       "2 0           0         0         0         0         0          3       \n",
       "  diverity_No_lottery\n",
       "1 2                  \n",
       "2 2                  "
      ]
     },
     "metadata": {},
     "output_type": "display_data"
    },
    {
     "data": {
      "text/html": [
       "<style>\n",
       ".list-inline {list-style: none; margin:0; padding: 0}\n",
       ".list-inline>li {display: inline-block}\n",
       ".list-inline>li:not(:last-child)::after {content: \"\\00b7\"; padding: 0 .5ex}\n",
       "</style>\n",
       "<ol class=list-inline><li>6562</li><li>22</li></ol>\n"
      ],
      "text/latex": [
       "\\begin{enumerate*}\n",
       "\\item 6562\n",
       "\\item 22\n",
       "\\end{enumerate*}\n"
      ],
      "text/markdown": [
       "1. 6562\n",
       "2. 22\n",
       "\n",
       "\n"
      ],
      "text/plain": [
       "[1] 6562   22"
      ]
     },
     "metadata": {},
     "output_type": "display_data"
    },
    {
     "data": {
      "text/html": [
       "<style>\n",
       ".list-inline {list-style: none; margin:0; padding: 0}\n",
       ".list-inline>li {display: inline-block}\n",
       ".list-inline>li:not(:last-child)::after {content: \"\\00b7\"; padding: 0 .5ex}\n",
       "</style>\n",
       "<ol class=list-inline><li>2400</li><li>22</li></ol>\n"
      ],
      "text/latex": [
       "\\begin{enumerate*}\n",
       "\\item 2400\n",
       "\\item 22\n",
       "\\end{enumerate*}\n"
      ],
      "text/markdown": [
       "1. 2400\n",
       "2. 22\n",
       "\n",
       "\n"
      ],
      "text/plain": [
       "[1] 2400   22"
      ]
     },
     "metadata": {},
     "output_type": "display_data"
    }
   ],
   "source": [
    "########2016##############\n",
    "# dichotomize vlues\n",
    "activity_numeric = data_2016 %>% select(subjectkey,starts_with('freq_')) %>% tidyr::drop_na()\n",
    "rownames(activity_numeric) <- NULL\n",
    "width_raw = activity_numeric %>% tibble::column_to_rownames('subjectkey')\n",
    "\n",
    "width_raw[width_raw == 9] = NA\n",
    "width_raw[width_raw == 7] = 0\n",
    "width_raw[width_raw > 0] = 1\n",
    "\n",
    "# summerize\n",
    "width_df_summary = width_raw %>% mutate(diverity = rowSums(across(where(is.numeric))))%>%\n",
    "                                    mutate(diverity_No_lottery = diverity - freq_Lotto) %>%\n",
    "                                    tibble::rownames_to_column('subjectkey') %>% tidyr::drop_na()\n",
    "\n",
    "head(width_df_summary,2)\n",
    "dim(width_df_summary)\n",
    "write.csv(width_df_summary, '../output/data_cleaned/width_df_summary_2016.csv')\n",
    "\n",
    "#########2017###########\n",
    "activity_numeric = data_2017 %>% select(subjectkey,starts_with('freq_')) %>% tidyr::drop_na()\n",
    "rownames(activity_numeric) <- NULL\n",
    "width_raw = activity_numeric %>% tibble::column_to_rownames('subjectkey')\n",
    "\n",
    "width_raw[width_raw == 9] = NA\n",
    "width_raw[width_raw == 7] = 0\n",
    "width_raw[width_raw > 0] = 1\n",
    "\n",
    "# summerize\n",
    "width_df_summary = width_raw %>% mutate(diverity = rowSums(across(where(is.numeric))))%>%\n",
    "                                    mutate(diverity_No_lottery = diverity - freq_Lotto) %>%\n",
    "                                    tibble::rownames_to_column('subjectkey') %>% tidyr::drop_na()\n",
    "\n",
    "dim(width_df_summary)\n",
    "write.csv(width_df_summary, '../output/data_cleaned/width_df_summary_2017.csv')"
   ]
  },
  {
   "cell_type": "code",
   "execution_count": null,
   "id": "8bbdaff3-d3b4-4dce-8cf2-1984bd3a9c9a",
   "metadata": {},
   "outputs": [],
   "source": []
  }
 ],
 "metadata": {
  "kernelspec": {
   "display_name": "R",
   "language": "R",
   "name": "ir"
  },
  "language_info": {
   "codemirror_mode": "r",
   "file_extension": ".r",
   "mimetype": "text/x-r-source",
   "name": "R",
   "pygments_lexer": "r",
   "version": "4.2.2"
  }
 },
 "nbformat": 4,
 "nbformat_minor": 5
}
