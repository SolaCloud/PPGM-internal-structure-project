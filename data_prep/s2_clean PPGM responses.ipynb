{
 "cells": [
  {
   "cell_type": "code",
   "execution_count": 1,
   "id": "ed6e35df",
   "metadata": {},
   "outputs": [
    {
     "name": "stderr",
     "output_type": "stream",
     "text": [
      "Warning message:\n",
      "\"package 'dplyr' was built under R version 4.2.3\"\n",
      "\n",
      "Attaching package: 'dplyr'\n",
      "\n",
      "\n",
      "The following objects are masked from 'package:stats':\n",
      "\n",
      "    filter, lag\n",
      "\n",
      "\n",
      "The following objects are masked from 'package:base':\n",
      "\n",
      "    intersect, setdiff, setequal, union\n",
      "\n",
      "\n"
     ]
    },
    {
     "data": {
      "text/html": [
       "<style>\n",
       ".list-inline {list-style: none; margin:0; padding: 0}\n",
       ".list-inline>li {display: inline-block}\n",
       ".list-inline>li:not(:last-child)::after {content: \"\\00b7\"; padding: 0 .5ex}\n",
       "</style>\n",
       "<ol class=list-inline><li>3218</li><li>15</li></ol>\n"
      ],
      "text/latex": [
       "\\begin{enumerate*}\n",
       "\\item 3218\n",
       "\\item 15\n",
       "\\end{enumerate*}\n"
      ],
      "text/markdown": [
       "1. 3218\n",
       "2. 15\n",
       "\n",
       "\n"
      ],
      "text/plain": [
       "[1] 3218   15"
      ]
     },
     "metadata": {},
     "output_type": "display_data"
    },
    {
     "data": {
      "text/html": [
       "<table class=\"dataframe\">\n",
       "<caption>A data.frame: 2 × 15</caption>\n",
       "<thead>\n",
       "\t<tr><th></th><th scope=col>subjectkey</th><th scope=col>PPGM_1</th><th scope=col>PPGM_2</th><th scope=col>PPGM_3</th><th scope=col>PPGM_4</th><th scope=col>PPGM_5</th><th scope=col>PPGM_6</th><th scope=col>PPGM_7</th><th scope=col>PPGM_8</th><th scope=col>PPGM_9</th><th scope=col>PPGM_10</th><th scope=col>PPGM_11</th><th scope=col>PPGM_12</th><th scope=col>PPGM_13</th><th scope=col>PPGM_14</th></tr>\n",
       "\t<tr><th></th><th scope=col>&lt;int&gt;</th><th scope=col>&lt;dbl&gt;</th><th scope=col>&lt;int&gt;</th><th scope=col>&lt;dbl&gt;</th><th scope=col>&lt;int&gt;</th><th scope=col>&lt;dbl&gt;</th><th scope=col>&lt;int&gt;</th><th scope=col>&lt;int&gt;</th><th scope=col>&lt;int&gt;</th><th scope=col>&lt;int&gt;</th><th scope=col>&lt;dbl&gt;</th><th scope=col>&lt;int&gt;</th><th scope=col>&lt;int&gt;</th><th scope=col>&lt;int&gt;</th><th scope=col>&lt;int&gt;</th></tr>\n",
       "</thead>\n",
       "<tbody>\n",
       "\t<tr><th scope=row>1</th><td>1</td><td>0</td><td>0</td><td>0</td><td>0</td><td>0</td><td>0</td><td>0</td><td>0</td><td>0</td><td>0</td><td>0</td><td>0</td><td>0</td><td>0</td></tr>\n",
       "\t<tr><th scope=row>2</th><td>2</td><td>0</td><td>0</td><td>0</td><td>0</td><td>0</td><td>0</td><td>0</td><td>0</td><td>0</td><td>0</td><td>0</td><td>0</td><td>0</td><td>0</td></tr>\n",
       "</tbody>\n",
       "</table>\n"
      ],
      "text/latex": [
       "A data.frame: 2 × 15\n",
       "\\begin{tabular}{r|lllllllllllllll}\n",
       "  & subjectkey & PPGM\\_1 & PPGM\\_2 & PPGM\\_3 & PPGM\\_4 & PPGM\\_5 & PPGM\\_6 & PPGM\\_7 & PPGM\\_8 & PPGM\\_9 & PPGM\\_10 & PPGM\\_11 & PPGM\\_12 & PPGM\\_13 & PPGM\\_14\\\\\n",
       "  & <int> & <dbl> & <int> & <dbl> & <int> & <dbl> & <int> & <int> & <int> & <int> & <dbl> & <int> & <int> & <int> & <int>\\\\\n",
       "\\hline\n",
       "\t1 & 1 & 0 & 0 & 0 & 0 & 0 & 0 & 0 & 0 & 0 & 0 & 0 & 0 & 0 & 0\\\\\n",
       "\t2 & 2 & 0 & 0 & 0 & 0 & 0 & 0 & 0 & 0 & 0 & 0 & 0 & 0 & 0 & 0\\\\\n",
       "\\end{tabular}\n"
      ],
      "text/markdown": [
       "\n",
       "A data.frame: 2 × 15\n",
       "\n",
       "| <!--/--> | subjectkey &lt;int&gt; | PPGM_1 &lt;dbl&gt; | PPGM_2 &lt;int&gt; | PPGM_3 &lt;dbl&gt; | PPGM_4 &lt;int&gt; | PPGM_5 &lt;dbl&gt; | PPGM_6 &lt;int&gt; | PPGM_7 &lt;int&gt; | PPGM_8 &lt;int&gt; | PPGM_9 &lt;int&gt; | PPGM_10 &lt;dbl&gt; | PPGM_11 &lt;int&gt; | PPGM_12 &lt;int&gt; | PPGM_13 &lt;int&gt; | PPGM_14 &lt;int&gt; |\n",
       "|---|---|---|---|---|---|---|---|---|---|---|---|---|---|---|---|\n",
       "| 1 | 1 | 0 | 0 | 0 | 0 | 0 | 0 | 0 | 0 | 0 | 0 | 0 | 0 | 0 | 0 |\n",
       "| 2 | 2 | 0 | 0 | 0 | 0 | 0 | 0 | 0 | 0 | 0 | 0 | 0 | 0 | 0 | 0 |\n",
       "\n"
      ],
      "text/plain": [
       "  subjectkey PPGM_1 PPGM_2 PPGM_3 PPGM_4 PPGM_5 PPGM_6 PPGM_7 PPGM_8 PPGM_9\n",
       "1 1          0      0      0      0      0      0      0      0      0     \n",
       "2 2          0      0      0      0      0      0      0      0      0     \n",
       "  PPGM_10 PPGM_11 PPGM_12 PPGM_13 PPGM_14\n",
       "1 0       0       0       0       0      \n",
       "2 0       0       0       0       0      "
      ]
     },
     "metadata": {},
     "output_type": "display_data"
    }
   ],
   "source": [
    "library(dplyr)\n",
    "\n",
    "data_2016 = read.csv('../output/data_cleaned/HarmSurvey2016.csv')\n",
    "ppgm_raw_df = data_2016 %>% select(subjectkey, starts_with('ppgm'))\n",
    "ppgm_raw_df[2:19][ppgm_raw_df[2:19] == 9] = NA\n",
    "# library(visdat)\n",
    "# vis_miss(ppgm_raw)\n",
    "\n",
    "# PROBLEMS SCORE\n",
    "ppgm_df = ppgm_raw_df %>% mutate(PPGM_1 = case_when(\n",
    "    PPGM_1a == 1 | PPGM_1b ==1 ~ 1,\n",
    "    PPGM_1a == 0 & PPGM_1b ==0 ~ 0,\n",
    "    is.na(PPGM_1a) & PPGM_1b ==0 ~ 0,\n",
    "    PPGM_1a == 0 & is.na(PPGM_1b) ~ 0,\n",
    "    is.na(PPGM_1a) & is.na(PPGM_1b) ~ NA)) %>% select(-PPGM_1a, - PPGM_1b)\n",
    "\n",
    "ppgm_df = ppgm_df %>% mutate(PPGM_3 = case_when(\n",
    "    PPGM_3a == 1 | PPGM_3b ==1 ~ 1,\n",
    "    PPGM_3a == 0 & PPGM_3b ==0 ~ 0,\n",
    "    PPGM_3a == 0 & is.na(PPGM_3b) ~ 0,\n",
    "    is.na(PPGM_3a) & PPGM_3b ==0 ~ 0,\n",
    "    is.na(PPGM_3a) & is.na(PPGM_3b) ~ NA)) %>% select(-PPGM_3a, - PPGM_3b)\n",
    "\n",
    "ppgm_df = ppgm_df %>% mutate(PPGM_5 = case_when(\n",
    "    PPGM_5a == 1 | PPGM_5b ==1~ 1,\n",
    "    PPGM_5a == 0 & PPGM_5b ==0 ~ 0,\n",
    "    PPGM_5a == 0 & is.na(PPGM_5b) ~ 0,\n",
    "    is.na(PPGM_5a) & PPGM_5b ==0 ~ 0,\n",
    "    is.na(PPGM_5a) & is.na(PPGM_5b) ~ NA)) %>% select(-PPGM_5a, - PPGM_5b)\n",
    "\n",
    "# IMPAIRED CONTROL SCORE\n",
    "ppgm_df = ppgm_df %>% mutate(PPGM_10 = case_when(\n",
    "    is.na(PPGM_10a)~ NA,\n",
    "    PPGM_10a == 0  ~ 0,\n",
    "    PPGM_10a == 1 & PPGM_10b==0 ~ 0,\n",
    "    PPGM_10a == 1 & PPGM_10b==1 ~ 1,\n",
    "    PPGM_10a == 1 & is.na(PPGM_10b) ~ NA)) %>% select(-PPGM_10a, - PPGM_10b) \n",
    "\n",
    "# OTHER ISSUES SCORE - no special treatment\n",
    "\n",
    "ppgm_df_csv = na.omit(ppgm_df) %>% select(subjectkey, PPGM_1,PPGM_2,PPGM_3,PPGM_4,PPGM_5,PPGM_6,PPGM_7,PPGM_8,\n",
    "                                     PPGM_9,PPGM_10,PPGM_11,PPGM_12,PPGM_13,PPGM_14)\n",
    "dim(ppgm_df_csv)\n",
    "head(ppgm_df_csv, 2)\n",
    "write.csv(ppgm_df_csv, '../output/data_cleaned/ppgm_2016.csv')\n"
   ]
  },
  {
   "cell_type": "code",
   "execution_count": 2,
   "id": "e9e18c30",
   "metadata": {},
   "outputs": [
    {
     "data": {
      "text/html": [
       "<table class=\"dataframe\">\n",
       "<caption>A data.frame: 2 × 2</caption>\n",
       "<thead>\n",
       "\t<tr><th></th><th scope=col>subjectkey</th><th scope=col>diagnosis_ppgm</th></tr>\n",
       "\t<tr><th></th><th scope=col>&lt;int&gt;</th><th scope=col>&lt;chr&gt;</th></tr>\n",
       "</thead>\n",
       "<tbody>\n",
       "\t<tr><th scope=row>1</th><td> 36</td><td>pathological_gambler</td></tr>\n",
       "\t<tr><th scope=row>2</th><td>184</td><td>pathological_gambler</td></tr>\n",
       "</tbody>\n",
       "</table>\n"
      ],
      "text/latex": [
       "A data.frame: 2 × 2\n",
       "\\begin{tabular}{r|ll}\n",
       "  & subjectkey & diagnosis\\_ppgm\\\\\n",
       "  & <int> & <chr>\\\\\n",
       "\\hline\n",
       "\t1 &  36 & pathological\\_gambler\\\\\n",
       "\t2 & 184 & pathological\\_gambler\\\\\n",
       "\\end{tabular}\n"
      ],
      "text/markdown": [
       "\n",
       "A data.frame: 2 × 2\n",
       "\n",
       "| <!--/--> | subjectkey &lt;int&gt; | diagnosis_ppgm &lt;chr&gt; |\n",
       "|---|---|---|\n",
       "| 1 |  36 | pathological_gambler |\n",
       "| 2 | 184 | pathological_gambler |\n",
       "\n"
      ],
      "text/plain": [
       "  subjectkey diagnosis_ppgm      \n",
       "1  36        pathological_gambler\n",
       "2 184        pathological_gambler"
      ]
     },
     "metadata": {},
     "output_type": "display_data"
    },
    {
     "data": {
      "text/html": [
       "<style>\n",
       ".list-inline {list-style: none; margin:0; padding: 0}\n",
       ".list-inline>li {display: inline-block}\n",
       ".list-inline>li:not(:last-child)::after {content: \"\\00b7\"; padding: 0 .5ex}\n",
       "</style>\n",
       "<ol class=list-inline><li>3218</li><li>2</li></ol>\n"
      ],
      "text/latex": [
       "\\begin{enumerate*}\n",
       "\\item 3218\n",
       "\\item 2\n",
       "\\end{enumerate*}\n"
      ],
      "text/markdown": [
       "1. 3218\n",
       "2. 2\n",
       "\n",
       "\n"
      ],
      "text/plain": [
       "[1] 3218    2"
      ]
     },
     "metadata": {},
     "output_type": "display_data"
    },
    {
     "data": {
      "text/plain": [
       "\n",
       "      atRisk_gambler pathological_gambler      problem_gambler \n",
       "                 505                   48                   37 \n",
       "recreational_gambler \n",
       "                2628 "
      ]
     },
     "metadata": {},
     "output_type": "display_data"
    }
   ],
   "source": [
    "# diagnosis - PPGM labels\n",
    "ppgm_df_sub_0 = ppgm_df_csv %>% \n",
    "                mutate(subScore_Problems = PPGM_1 + PPGM_2 + PPGM_3 + PPGM_4 + PPGM_5 + PPGM_6 + PPGM_7,\n",
    "                      subScore_ImpairedControl = PPGM_8 + PPGM_9 + PPGM_10 + PPGM_11,\n",
    "                      subScore_OtherIssues = PPGM_12 + PPGM_13 + PPGM_14,\n",
    "                      TotalScore = subScore_Problems + subScore_ImpairedControl + subScore_OtherIssues) %>%\n",
    "                mutate(diagnosis_ppgm = case_when(\n",
    "                    (subScore_Problems >= 1 )&(subScore_ImpairedControl >= 1)&(TotalScore >= 5) ~ 'pathological_gambler',\n",
    "                    (subScore_Problems >= 1)&(subScore_ImpairedControl >= 1)&((TotalScore<=4) & (TotalScore>=2)) ~ 'problem_gambler')\n",
    "                )\n",
    "ppgm_df_sub_2 = ppgm_df_sub_0 %>% \n",
    "                filter(is.na(diagnosis_ppgm)) %>% \n",
    "                mutate(diagnosis_ppgm = case_when((TotalScore) >= 1 ~ 'atRisk_gambler',\n",
    "                                                 (TotalScore) < 1 ~  'recreational_gambler')) \n",
    "ppgm_df_sub_1 = ppgm_df_sub_0 %>%  filter(!is.na(diagnosis_ppgm)) \n",
    "\n",
    "ppgm_diagnosis = rbind(ppgm_df_sub_1,ppgm_df_sub_2) %>% select(subjectkey,diagnosis_ppgm)\n",
    "head(ppgm_diagnosis,2)\n",
    "dim(ppgm_diagnosis)\n",
    "table(ppgm_diagnosis$diagnosis_ppgm)\n",
    "# write.csv(ppgm_diagnosis, 'output/ppgm_label_2016.csv')"
   ]
  },
  {
   "cell_type": "markdown",
   "id": "11e0d805",
   "metadata": {},
   "source": [
    "# year 2017"
   ]
  },
  {
   "cell_type": "code",
   "execution_count": 3,
   "id": "ede67c6b",
   "metadata": {},
   "outputs": [
    {
     "data": {
      "text/html": [
       "<style>\n",
       ".list-inline {list-style: none; margin:0; padding: 0}\n",
       ".list-inline>li {display: inline-block}\n",
       ".list-inline>li:not(:last-child)::after {content: \"\\00b7\"; padding: 0 .5ex}\n",
       "</style>\n",
       "<ol class=list-inline><li>1250</li><li>15</li></ol>\n"
      ],
      "text/latex": [
       "\\begin{enumerate*}\n",
       "\\item 1250\n",
       "\\item 15\n",
       "\\end{enumerate*}\n"
      ],
      "text/markdown": [
       "1. 1250\n",
       "2. 15\n",
       "\n",
       "\n"
      ],
      "text/plain": [
       "[1] 1250   15"
      ]
     },
     "metadata": {},
     "output_type": "display_data"
    },
    {
     "data": {
      "text/html": [
       "<table class=\"dataframe\">\n",
       "<caption>A data.frame: 2 × 15</caption>\n",
       "<thead>\n",
       "\t<tr><th></th><th scope=col>subjectkey</th><th scope=col>PPGM_1</th><th scope=col>PPGM_2</th><th scope=col>PPGM_3</th><th scope=col>PPGM_4</th><th scope=col>PPGM_5</th><th scope=col>PPGM_6</th><th scope=col>PPGM_7</th><th scope=col>PPGM_8</th><th scope=col>PPGM_9</th><th scope=col>PPGM_10</th><th scope=col>PPGM_11</th><th scope=col>PPGM_12</th><th scope=col>PPGM_13</th><th scope=col>PPGM_14</th></tr>\n",
       "\t<tr><th></th><th scope=col>&lt;int&gt;</th><th scope=col>&lt;dbl&gt;</th><th scope=col>&lt;int&gt;</th><th scope=col>&lt;dbl&gt;</th><th scope=col>&lt;int&gt;</th><th scope=col>&lt;dbl&gt;</th><th scope=col>&lt;int&gt;</th><th scope=col>&lt;int&gt;</th><th scope=col>&lt;int&gt;</th><th scope=col>&lt;int&gt;</th><th scope=col>&lt;dbl&gt;</th><th scope=col>&lt;int&gt;</th><th scope=col>&lt;int&gt;</th><th scope=col>&lt;int&gt;</th><th scope=col>&lt;int&gt;</th></tr>\n",
       "</thead>\n",
       "<tbody>\n",
       "\t<tr><th scope=row>2</th><td>2</td><td>0</td><td>0</td><td>0</td><td>0</td><td>0</td><td>0</td><td>0</td><td>0</td><td>0</td><td>0</td><td>0</td><td>0</td><td>0</td><td>0</td></tr>\n",
       "\t<tr><th scope=row>4</th><td>4</td><td>0</td><td>0</td><td>0</td><td>0</td><td>0</td><td>0</td><td>0</td><td>0</td><td>0</td><td>0</td><td>0</td><td>0</td><td>0</td><td>0</td></tr>\n",
       "</tbody>\n",
       "</table>\n"
      ],
      "text/latex": [
       "A data.frame: 2 × 15\n",
       "\\begin{tabular}{r|lllllllllllllll}\n",
       "  & subjectkey & PPGM\\_1 & PPGM\\_2 & PPGM\\_3 & PPGM\\_4 & PPGM\\_5 & PPGM\\_6 & PPGM\\_7 & PPGM\\_8 & PPGM\\_9 & PPGM\\_10 & PPGM\\_11 & PPGM\\_12 & PPGM\\_13 & PPGM\\_14\\\\\n",
       "  & <int> & <dbl> & <int> & <dbl> & <int> & <dbl> & <int> & <int> & <int> & <int> & <dbl> & <int> & <int> & <int> & <int>\\\\\n",
       "\\hline\n",
       "\t2 & 2 & 0 & 0 & 0 & 0 & 0 & 0 & 0 & 0 & 0 & 0 & 0 & 0 & 0 & 0\\\\\n",
       "\t4 & 4 & 0 & 0 & 0 & 0 & 0 & 0 & 0 & 0 & 0 & 0 & 0 & 0 & 0 & 0\\\\\n",
       "\\end{tabular}\n"
      ],
      "text/markdown": [
       "\n",
       "A data.frame: 2 × 15\n",
       "\n",
       "| <!--/--> | subjectkey &lt;int&gt; | PPGM_1 &lt;dbl&gt; | PPGM_2 &lt;int&gt; | PPGM_3 &lt;dbl&gt; | PPGM_4 &lt;int&gt; | PPGM_5 &lt;dbl&gt; | PPGM_6 &lt;int&gt; | PPGM_7 &lt;int&gt; | PPGM_8 &lt;int&gt; | PPGM_9 &lt;int&gt; | PPGM_10 &lt;dbl&gt; | PPGM_11 &lt;int&gt; | PPGM_12 &lt;int&gt; | PPGM_13 &lt;int&gt; | PPGM_14 &lt;int&gt; |\n",
       "|---|---|---|---|---|---|---|---|---|---|---|---|---|---|---|---|\n",
       "| 2 | 2 | 0 | 0 | 0 | 0 | 0 | 0 | 0 | 0 | 0 | 0 | 0 | 0 | 0 | 0 |\n",
       "| 4 | 4 | 0 | 0 | 0 | 0 | 0 | 0 | 0 | 0 | 0 | 0 | 0 | 0 | 0 | 0 |\n",
       "\n"
      ],
      "text/plain": [
       "  subjectkey PPGM_1 PPGM_2 PPGM_3 PPGM_4 PPGM_5 PPGM_6 PPGM_7 PPGM_8 PPGM_9\n",
       "2 2          0      0      0      0      0      0      0      0      0     \n",
       "4 4          0      0      0      0      0      0      0      0      0     \n",
       "  PPGM_10 PPGM_11 PPGM_12 PPGM_13 PPGM_14\n",
       "2 0       0       0       0       0      \n",
       "4 0       0       0       0       0      "
      ]
     },
     "metadata": {},
     "output_type": "display_data"
    }
   ],
   "source": [
    "library(dplyr)\n",
    "\n",
    "data_2016 = read.csv('../output/data_cleaned/HarmSurvey2017.csv')\n",
    "ppgm_raw_df = data_2016 %>% select(subjectkey, starts_with('ppgm'))\n",
    "ppgm_raw_df[2:19][ppgm_raw_df[2:19] == 9] = NA\n",
    "# library(visdat)\n",
    "# vis_miss(ppgm_raw)\n",
    "\n",
    "# PROBLEMS SCORE\n",
    "ppgm_df = ppgm_raw_df %>% mutate(PPGM_1 = case_when(\n",
    "    PPGM_1a == 1 | PPGM_1b ==1 ~ 1,\n",
    "    PPGM_1a == 0 & PPGM_1b ==0 ~ 0,\n",
    "    is.na(PPGM_1a) & PPGM_1b ==0 ~ 0,\n",
    "    PPGM_1a == 0 & is.na(PPGM_1b) ~ 0,\n",
    "    is.na(PPGM_1a) & is.na(PPGM_1b) ~ NA)) %>% select(-PPGM_1a, - PPGM_1b)\n",
    "\n",
    "ppgm_df = ppgm_df %>% mutate(PPGM_3 = case_when(\n",
    "    PPGM_3a == 1 | PPGM_3b ==1 ~ 1,\n",
    "    PPGM_3a == 0 & PPGM_3b ==0 ~ 0,\n",
    "    PPGM_3a == 0 & is.na(PPGM_3b) ~ 0,\n",
    "    is.na(PPGM_3a) & PPGM_3b ==0 ~ 0,\n",
    "    is.na(PPGM_3a) & is.na(PPGM_3b) ~ NA)) %>% select(-PPGM_3a, - PPGM_3b)\n",
    "\n",
    "ppgm_df = ppgm_df %>% mutate(PPGM_5 = case_when(\n",
    "    PPGM_5a == 1 | PPGM_5b ==1~ 1,\n",
    "    PPGM_5a == 0 & PPGM_5b ==0 ~ 0,\n",
    "    PPGM_5a == 0 & is.na(PPGM_5b) ~ 0,\n",
    "    is.na(PPGM_5a) & PPGM_5b ==0 ~ 0,\n",
    "    is.na(PPGM_5a) & is.na(PPGM_5b) ~ NA)) %>% select(-PPGM_5a, - PPGM_5b)\n",
    "\n",
    "# IMPAIRED CONTROL SCORE\n",
    "ppgm_df = ppgm_df %>% mutate(PPGM_10 = case_when(\n",
    "    is.na(PPGM_10a)~ NA,\n",
    "    PPGM_10a == 0  ~ 0,\n",
    "    PPGM_10a == 1 & PPGM_10b==0 ~ 0,\n",
    "    PPGM_10a == 1 & PPGM_10b==1 ~ 1,\n",
    "    PPGM_10a == 1 & is.na(PPGM_10b) ~ NA)) %>% select(-PPGM_10a, - PPGM_10b) \n",
    "\n",
    "# OTHER ISSUES SCORE - no special treatment\n",
    "\n",
    "ppgm_df_csv = na.omit(ppgm_df) %>% select(subjectkey, PPGM_1,PPGM_2,PPGM_3,PPGM_4,PPGM_5,PPGM_6,PPGM_7,PPGM_8,\n",
    "                                     PPGM_9,PPGM_10,PPGM_11,PPGM_12,PPGM_13,PPGM_14)\n",
    "dim(ppgm_df_csv)\n",
    "head(ppgm_df_csv, 2)\n",
    "write.csv(ppgm_df_csv, '../output/data_cleaned/ppgm_2017.csv')"
   ]
  },
  {
   "cell_type": "code",
   "execution_count": 4,
   "id": "30b07532",
   "metadata": {},
   "outputs": [
    {
     "data": {
      "text/html": [
       "<table class=\"dataframe\">\n",
       "<caption>A data.frame: 2 × 2</caption>\n",
       "<thead>\n",
       "\t<tr><th></th><th scope=col>subjectkey</th><th scope=col>diagnosis_ppgm</th></tr>\n",
       "\t<tr><th></th><th scope=col>&lt;int&gt;</th><th scope=col>&lt;chr&gt;</th></tr>\n",
       "</thead>\n",
       "<tbody>\n",
       "\t<tr><th scope=row>1</th><td>110</td><td>problem_gambler</td></tr>\n",
       "\t<tr><th scope=row>2</th><td>136</td><td>problem_gambler</td></tr>\n",
       "</tbody>\n",
       "</table>\n"
      ],
      "text/latex": [
       "A data.frame: 2 × 2\n",
       "\\begin{tabular}{r|ll}\n",
       "  & subjectkey & diagnosis\\_ppgm\\\\\n",
       "  & <int> & <chr>\\\\\n",
       "\\hline\n",
       "\t1 & 110 & problem\\_gambler\\\\\n",
       "\t2 & 136 & problem\\_gambler\\\\\n",
       "\\end{tabular}\n"
      ],
      "text/markdown": [
       "\n",
       "A data.frame: 2 × 2\n",
       "\n",
       "| <!--/--> | subjectkey &lt;int&gt; | diagnosis_ppgm &lt;chr&gt; |\n",
       "|---|---|---|\n",
       "| 1 | 110 | problem_gambler |\n",
       "| 2 | 136 | problem_gambler |\n",
       "\n"
      ],
      "text/plain": [
       "  subjectkey diagnosis_ppgm \n",
       "1 110        problem_gambler\n",
       "2 136        problem_gambler"
      ]
     },
     "metadata": {},
     "output_type": "display_data"
    },
    {
     "data": {
      "text/html": [
       "<style>\n",
       ".list-inline {list-style: none; margin:0; padding: 0}\n",
       ".list-inline>li {display: inline-block}\n",
       ".list-inline>li:not(:last-child)::after {content: \"\\00b7\"; padding: 0 .5ex}\n",
       "</style>\n",
       "<ol class=list-inline><li>1250</li><li>2</li></ol>\n"
      ],
      "text/latex": [
       "\\begin{enumerate*}\n",
       "\\item 1250\n",
       "\\item 2\n",
       "\\end{enumerate*}\n"
      ],
      "text/markdown": [
       "1. 1250\n",
       "2. 2\n",
       "\n",
       "\n"
      ],
      "text/plain": [
       "[1] 1250    2"
      ]
     },
     "metadata": {},
     "output_type": "display_data"
    },
    {
     "data": {
      "text/plain": [
       "\n",
       "      atRisk_gambler pathological_gambler      problem_gambler \n",
       "                 180                    8                   21 \n",
       "recreational_gambler \n",
       "                1041 "
      ]
     },
     "metadata": {},
     "output_type": "display_data"
    }
   ],
   "source": [
    "# diagnosis - PPGM labels\n",
    "ppgm_df_sub_0 = ppgm_df_csv %>% \n",
    "                mutate(subScore_Problems = PPGM_1 + PPGM_2 + PPGM_3 + PPGM_4 + PPGM_5 + PPGM_6 + PPGM_7,\n",
    "                      subScore_ImpairedControl = PPGM_8 + PPGM_9 + PPGM_10 + PPGM_11,\n",
    "                      subScore_OtherIssues = PPGM_12 + PPGM_13 + PPGM_14,\n",
    "                      TotalScore = subScore_Problems + subScore_ImpairedControl + subScore_OtherIssues) %>%\n",
    "                mutate(diagnosis_ppgm = case_when(\n",
    "                    (subScore_Problems >= 1 )&(subScore_ImpairedControl >= 1)&(TotalScore >= 5) ~ 'pathological_gambler',\n",
    "                    (subScore_Problems >= 1)&(subScore_ImpairedControl >= 1)&((TotalScore<=4) & (TotalScore>=2)) ~ 'problem_gambler')\n",
    "                )\n",
    "ppgm_df_sub_2 = ppgm_df_sub_0 %>% \n",
    "                filter(is.na(diagnosis_ppgm)) %>% \n",
    "                mutate(diagnosis_ppgm = case_when((TotalScore) >= 1 ~ 'atRisk_gambler',\n",
    "                                                 (TotalScore) < 1 ~  'recreational_gambler')) \n",
    "ppgm_df_sub_1 = ppgm_df_sub_0 %>%  filter(!is.na(diagnosis_ppgm)) \n",
    "\n",
    "ppgm_diagnosis = rbind(ppgm_df_sub_1,ppgm_df_sub_2) %>% select(subjectkey,diagnosis_ppgm)\n",
    "head(ppgm_diagnosis,2)\n",
    "dim(ppgm_diagnosis)\n",
    "table(ppgm_diagnosis$diagnosis_ppgm)\n",
    "# write.csv(ppgm_diagnosis, 'output/ppgm_label_2017.csv')"
   ]
  },
  {
   "cell_type": "code",
   "execution_count": null,
   "id": "38d73b97",
   "metadata": {},
   "outputs": [],
   "source": []
  }
 ],
 "metadata": {
  "kernelspec": {
   "display_name": "R",
   "language": "R",
   "name": "ir"
  },
  "language_info": {
   "codemirror_mode": "r",
   "file_extension": ".r",
   "mimetype": "text/x-r-source",
   "name": "R",
   "pygments_lexer": "r",
   "version": "4.2.2"
  }
 },
 "nbformat": 4,
 "nbformat_minor": 5
}
